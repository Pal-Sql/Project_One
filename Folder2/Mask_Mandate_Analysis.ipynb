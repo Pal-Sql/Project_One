{
 "cells": [
  {
   "cell_type": "code",
   "execution_count": 12,
   "metadata": {},
   "outputs": [],
   "source": [
    "import pandas as pd\n",
    "import matplotlib.pyplot as plt\n",
    "import scipy.stats as stats"
   ]
  },
  {
   "cell_type": "code",
   "execution_count": 13,
   "metadata": {},
   "outputs": [
    {
     "data": {
      "text/plain": [
       "'C:\\\\Users\\\\jwr19\\\\Documents\\\\Project\\\\project_one\\\\Folder2'"
      ]
     },
     "execution_count": 13,
     "metadata": {},
     "output_type": "execute_result"
    }
   ],
   "source": [
    "%pwd"
   ]
  },
  {
   "cell_type": "code",
   "execution_count": 14,
   "metadata": {},
   "outputs": [
    {
     "data": {
      "text/html": [
       "<div>\n",
       "<style scoped>\n",
       "    .dataframe tbody tr th:only-of-type {\n",
       "        vertical-align: middle;\n",
       "    }\n",
       "\n",
       "    .dataframe tbody tr th {\n",
       "        vertical-align: top;\n",
       "    }\n",
       "\n",
       "    .dataframe thead th {\n",
       "        text-align: right;\n",
       "    }\n",
       "</style>\n",
       "<table border=\"1\" class=\"dataframe\">\n",
       "  <thead>\n",
       "    <tr style=\"text-align: right;\">\n",
       "      <th></th>\n",
       "      <th>State_Tribe_Territory</th>\n",
       "      <th>Year</th>\n",
       "      <th>Month</th>\n",
       "      <th>Percent_Public_Face_Mask_Mandate</th>\n",
       "    </tr>\n",
       "  </thead>\n",
       "  <tbody>\n",
       "    <tr>\n",
       "      <th>300</th>\n",
       "      <td>MN</td>\n",
       "      <td>2020</td>\n",
       "      <td>4</td>\n",
       "      <td>0.00</td>\n",
       "    </tr>\n",
       "    <tr>\n",
       "      <th>301</th>\n",
       "      <td>MN</td>\n",
       "      <td>2020</td>\n",
       "      <td>5</td>\n",
       "      <td>0.00</td>\n",
       "    </tr>\n",
       "    <tr>\n",
       "      <th>302</th>\n",
       "      <td>MN</td>\n",
       "      <td>2020</td>\n",
       "      <td>6</td>\n",
       "      <td>0.00</td>\n",
       "    </tr>\n",
       "    <tr>\n",
       "      <th>303</th>\n",
       "      <td>MN</td>\n",
       "      <td>2020</td>\n",
       "      <td>7</td>\n",
       "      <td>25.81</td>\n",
       "    </tr>\n",
       "    <tr>\n",
       "      <th>304</th>\n",
       "      <td>MN</td>\n",
       "      <td>2020</td>\n",
       "      <td>8</td>\n",
       "      <td>100.00</td>\n",
       "    </tr>\n",
       "    <tr>\n",
       "      <th>305</th>\n",
       "      <td>MN</td>\n",
       "      <td>2020</td>\n",
       "      <td>9</td>\n",
       "      <td>100.00</td>\n",
       "    </tr>\n",
       "    <tr>\n",
       "      <th>306</th>\n",
       "      <td>MN</td>\n",
       "      <td>2020</td>\n",
       "      <td>10</td>\n",
       "      <td>100.00</td>\n",
       "    </tr>\n",
       "    <tr>\n",
       "      <th>307</th>\n",
       "      <td>MN</td>\n",
       "      <td>2020</td>\n",
       "      <td>11</td>\n",
       "      <td>100.00</td>\n",
       "    </tr>\n",
       "    <tr>\n",
       "      <th>308</th>\n",
       "      <td>MN</td>\n",
       "      <td>2020</td>\n",
       "      <td>12</td>\n",
       "      <td>100.00</td>\n",
       "    </tr>\n",
       "    <tr>\n",
       "      <th>309</th>\n",
       "      <td>MN</td>\n",
       "      <td>2021</td>\n",
       "      <td>1</td>\n",
       "      <td>100.00</td>\n",
       "    </tr>\n",
       "    <tr>\n",
       "      <th>310</th>\n",
       "      <td>MN</td>\n",
       "      <td>2021</td>\n",
       "      <td>2</td>\n",
       "      <td>100.00</td>\n",
       "    </tr>\n",
       "    <tr>\n",
       "      <th>311</th>\n",
       "      <td>MN</td>\n",
       "      <td>2021</td>\n",
       "      <td>3</td>\n",
       "      <td>100.00</td>\n",
       "    </tr>\n",
       "  </tbody>\n",
       "</table>\n",
       "</div>"
      ],
      "text/plain": [
       "    State_Tribe_Territory  Year  Month  Percent_Public_Face_Mask_Mandate\n",
       "300                    MN  2020      4                              0.00\n",
       "301                    MN  2020      5                              0.00\n",
       "302                    MN  2020      6                              0.00\n",
       "303                    MN  2020      7                             25.81\n",
       "304                    MN  2020      8                            100.00\n",
       "305                    MN  2020      9                            100.00\n",
       "306                    MN  2020     10                            100.00\n",
       "307                    MN  2020     11                            100.00\n",
       "308                    MN  2020     12                            100.00\n",
       "309                    MN  2021      1                            100.00\n",
       "310                    MN  2021      2                            100.00\n",
       "311                    MN  2021      3                            100.00"
      ]
     },
     "execution_count": 14,
     "metadata": {},
     "output_type": "execute_result"
    }
   ],
   "source": [
    "df = pd.read_csv(\"masks_cleaned1.csv\")\n",
    "df.loc[df[\"State_Tribe_Territory\"]==\"MN\"]"
   ]
  },
  {
   "cell_type": "code",
   "execution_count": 15,
   "metadata": {},
   "outputs": [
    {
     "data": {
      "text/plain": [
       "0.0"
      ]
     },
     "execution_count": 15,
     "metadata": {},
     "output_type": "execute_result"
    }
   ],
   "source": [
    "df.loc[df[\"State_Tribe_Territory\"]==\"SD\"][\"Percent_Public_Face_Mask_Mandate\"].mean()"
   ]
  },
  {
   "cell_type": "code",
   "execution_count": 16,
   "metadata": {},
   "outputs": [
    {
     "data": {
      "text/plain": [
       "68.8175"
      ]
     },
     "execution_count": 16,
     "metadata": {},
     "output_type": "execute_result"
    }
   ],
   "source": [
    "df.loc[df[\"State_Tribe_Territory\"]==\"MN\"][\"Percent_Public_Face_Mask_Mandate\"].mean()"
   ]
  },
  {
   "cell_type": "code",
   "execution_count": 28,
   "metadata": {},
   "outputs": [],
   "source": [
    "Dict = {\"State\":[],\"Mask_Mandate\":[]}\n",
    "states = df[\"State_Tribe_Territory\"].unique()\n",
    "for state in states:\n",
    "    mask_mandate_mean = df.loc[df[\"State_Tribe_Territory\"]==state][\"Percent_Public_Face_Mask_Mandate\"].mean()\n",
    "    Dict[\"State\"].append(state)\n",
    "    Dict[\"Mask_Mandate\"].append(mask_mandate_mean)"
   ]
  },
  {
   "cell_type": "code",
   "execution_count": 29,
   "metadata": {},
   "outputs": [
    {
     "data": {
      "text/plain": [
       "State           18\n",
       "Mask_Mandate    18\n",
       "dtype: int64"
      ]
     },
     "execution_count": 29,
     "metadata": {},
     "output_type": "execute_result"
    }
   ],
   "source": [
    "df1 = pd.DataFrame(Dict)\n",
    "df1.loc[df1[\"Mask_Mandate\"]>80].count()"
   ]
  },
  {
   "cell_type": "code",
   "execution_count": 30,
   "metadata": {
    "scrolled": true
   },
   "outputs": [
    {
     "data": {
      "text/plain": [
       "State           11\n",
       "Mask_Mandate    11\n",
       "dtype: int64"
      ]
     },
     "execution_count": 30,
     "metadata": {},
     "output_type": "execute_result"
    }
   ],
   "source": [
    "df1.loc[df1[\"Mask_Mandate\"]==0].count()"
   ]
  },
  {
   "cell_type": "code",
   "execution_count": 31,
   "metadata": {},
   "outputs": [
    {
     "data": {
      "text/html": [
       "<div>\n",
       "<style scoped>\n",
       "    .dataframe tbody tr th:only-of-type {\n",
       "        vertical-align: middle;\n",
       "    }\n",
       "\n",
       "    .dataframe tbody tr th {\n",
       "        vertical-align: top;\n",
       "    }\n",
       "\n",
       "    .dataframe thead th {\n",
       "        text-align: right;\n",
       "    }\n",
       "</style>\n",
       "<table border=\"1\" class=\"dataframe\">\n",
       "  <thead>\n",
       "    <tr style=\"text-align: right;\">\n",
       "      <th></th>\n",
       "      <th>State</th>\n",
       "      <th>Mask_Mandate</th>\n",
       "    </tr>\n",
       "  </thead>\n",
       "  <tbody>\n",
       "    <tr>\n",
       "      <th>0</th>\n",
       "      <td>AK</td>\n",
       "      <td>0.000000</td>\n",
       "    </tr>\n",
       "    <tr>\n",
       "      <th>1</th>\n",
       "      <td>AL</td>\n",
       "      <td>70.967500</td>\n",
       "    </tr>\n",
       "    <tr>\n",
       "      <th>2</th>\n",
       "      <td>AR</td>\n",
       "      <td>69.892500</td>\n",
       "    </tr>\n",
       "    <tr>\n",
       "      <th>3</th>\n",
       "      <td>AS</td>\n",
       "      <td>16.369167</td>\n",
       "    </tr>\n",
       "    <tr>\n",
       "      <th>4</th>\n",
       "      <td>AZ</td>\n",
       "      <td>0.000000</td>\n",
       "    </tr>\n",
       "  </tbody>\n",
       "</table>\n",
       "</div>"
      ],
      "text/plain": [
       "  State  Mask_Mandate\n",
       "0    AK      0.000000\n",
       "1    AL     70.967500\n",
       "2    AR     69.892500\n",
       "3    AS     16.369167\n",
       "4    AZ      0.000000"
      ]
     },
     "execution_count": 31,
     "metadata": {},
     "output_type": "execute_result"
    }
   ],
   "source": [
    "df1.head()"
   ]
  },
  {
   "cell_type": "code",
   "execution_count": 32,
   "metadata": {
    "scrolled": true
   },
   "outputs": [
    {
     "data": {
      "text/html": [
       "<div>\n",
       "<style scoped>\n",
       "    .dataframe tbody tr th:only-of-type {\n",
       "        vertical-align: middle;\n",
       "    }\n",
       "\n",
       "    .dataframe tbody tr th {\n",
       "        vertical-align: top;\n",
       "    }\n",
       "\n",
       "    .dataframe thead th {\n",
       "        text-align: right;\n",
       "    }\n",
       "</style>\n",
       "<table border=\"1\" class=\"dataframe\">\n",
       "  <thead>\n",
       "    <tr style=\"text-align: right;\">\n",
       "      <th></th>\n",
       "      <th>State</th>\n",
       "      <th>Mask_Mandate</th>\n",
       "    </tr>\n",
       "  </thead>\n",
       "  <tbody>\n",
       "    <tr>\n",
       "      <th>0</th>\n",
       "      <td>AK</td>\n",
       "      <td>0.0</td>\n",
       "    </tr>\n",
       "    <tr>\n",
       "      <th>4</th>\n",
       "      <td>AZ</td>\n",
       "      <td>0.0</td>\n",
       "    </tr>\n",
       "    <tr>\n",
       "      <th>10</th>\n",
       "      <td>FL</td>\n",
       "      <td>0.0</td>\n",
       "    </tr>\n",
       "    <tr>\n",
       "      <th>11</th>\n",
       "      <td>GA</td>\n",
       "      <td>0.0</td>\n",
       "    </tr>\n",
       "    <tr>\n",
       "      <th>15</th>\n",
       "      <td>ID</td>\n",
       "      <td>0.0</td>\n",
       "    </tr>\n",
       "    <tr>\n",
       "      <th>26</th>\n",
       "      <td>MO</td>\n",
       "      <td>0.0</td>\n",
       "    </tr>\n",
       "    <tr>\n",
       "      <th>27</th>\n",
       "      <td>MP</td>\n",
       "      <td>0.0</td>\n",
       "    </tr>\n",
       "    <tr>\n",
       "      <th>39</th>\n",
       "      <td>OK</td>\n",
       "      <td>0.0</td>\n",
       "    </tr>\n",
       "    <tr>\n",
       "      <th>44</th>\n",
       "      <td>SC</td>\n",
       "      <td>0.0</td>\n",
       "    </tr>\n",
       "    <tr>\n",
       "      <th>45</th>\n",
       "      <td>SD</td>\n",
       "      <td>0.0</td>\n",
       "    </tr>\n",
       "    <tr>\n",
       "      <th>46</th>\n",
       "      <td>TN</td>\n",
       "      <td>0.0</td>\n",
       "    </tr>\n",
       "  </tbody>\n",
       "</table>\n",
       "</div>"
      ],
      "text/plain": [
       "   State  Mask_Mandate\n",
       "0     AK           0.0\n",
       "4     AZ           0.0\n",
       "10    FL           0.0\n",
       "11    GA           0.0\n",
       "15    ID           0.0\n",
       "26    MO           0.0\n",
       "27    MP           0.0\n",
       "39    OK           0.0\n",
       "44    SC           0.0\n",
       "45    SD           0.0\n",
       "46    TN           0.0"
      ]
     },
     "execution_count": 32,
     "metadata": {},
     "output_type": "execute_result"
    }
   ],
   "source": [
    "df1.loc[df1[\"Mask_Mandate\"]==0]"
   ]
  },
  {
   "cell_type": "code",
   "execution_count": 33,
   "metadata": {},
   "outputs": [
    {
     "data": {
      "text/plain": [
       "'C:\\\\Users\\\\jwr19\\\\Documents\\\\Project\\\\project_one\\\\Folder2'"
      ]
     },
     "execution_count": 33,
     "metadata": {},
     "output_type": "execute_result"
    }
   ],
   "source": [
    "%pwd"
   ]
  },
  {
   "cell_type": "code",
   "execution_count": 34,
   "metadata": {},
   "outputs": [
    {
     "data": {
      "text/html": [
       "<div>\n",
       "<style scoped>\n",
       "    .dataframe tbody tr th:only-of-type {\n",
       "        vertical-align: middle;\n",
       "    }\n",
       "\n",
       "    .dataframe tbody tr th {\n",
       "        vertical-align: top;\n",
       "    }\n",
       "\n",
       "    .dataframe thead th {\n",
       "        text-align: right;\n",
       "    }\n",
       "</style>\n",
       "<table border=\"1\" class=\"dataframe\">\n",
       "  <thead>\n",
       "    <tr style=\"text-align: right;\">\n",
       "      <th></th>\n",
       "      <th>State</th>\n",
       "      <th>Actual_DR</th>\n",
       "      <th>Normalized_DR</th>\n",
       "      <th>Delta</th>\n",
       "      <th>Cum_Covid_19_Death_Rate</th>\n",
       "      <th>Adj_for_age_Covid_Death_Rate</th>\n",
       "    </tr>\n",
       "  </thead>\n",
       "  <tbody>\n",
       "    <tr>\n",
       "      <th>0</th>\n",
       "      <td>AK</td>\n",
       "      <td>0.043606</td>\n",
       "      <td>0.063322</td>\n",
       "      <td>1.452128</td>\n",
       "      <td>0.521335</td>\n",
       "      <td>0.757045</td>\n",
       "    </tr>\n",
       "    <tr>\n",
       "      <th>1</th>\n",
       "      <td>UT</td>\n",
       "      <td>0.073363</td>\n",
       "      <td>0.106704</td>\n",
       "      <td>1.454459</td>\n",
       "      <td>0.554209</td>\n",
       "      <td>0.806074</td>\n",
       "    </tr>\n",
       "    <tr>\n",
       "      <th>2</th>\n",
       "      <td>NE</td>\n",
       "      <td>0.145057</td>\n",
       "      <td>0.143926</td>\n",
       "      <td>0.992200</td>\n",
       "      <td>1.020306</td>\n",
       "      <td>1.012348</td>\n",
       "    </tr>\n",
       "    <tr>\n",
       "      <th>3</th>\n",
       "      <td>VT</td>\n",
       "      <td>0.034616</td>\n",
       "      <td>0.029556</td>\n",
       "      <td>0.853828</td>\n",
       "      <td>1.071802</td>\n",
       "      <td>0.915134</td>\n",
       "    </tr>\n",
       "    <tr>\n",
       "      <th>4</th>\n",
       "      <td>ID</td>\n",
       "      <td>0.113035</td>\n",
       "      <td>0.122320</td>\n",
       "      <td>1.082147</td>\n",
       "      <td>1.090293</td>\n",
       "      <td>1.179857</td>\n",
       "    </tr>\n",
       "  </tbody>\n",
       "</table>\n",
       "</div>"
      ],
      "text/plain": [
       "  State  Actual_DR  Normalized_DR     Delta  Cum_Covid_19_Death_Rate  \\\n",
       "0    AK   0.043606       0.063322  1.452128                 0.521335   \n",
       "1    UT   0.073363       0.106704  1.454459                 0.554209   \n",
       "2    NE   0.145057       0.143926  0.992200                 1.020306   \n",
       "3    VT   0.034616       0.029556  0.853828                 1.071802   \n",
       "4    ID   0.113035       0.122320  1.082147                 1.090293   \n",
       "\n",
       "   Adj_for_age_Covid_Death_Rate  \n",
       "0                      0.757045  \n",
       "1                      0.806074  \n",
       "2                      1.012348  \n",
       "3                      0.915134  \n",
       "4                      1.179857  "
      ]
     },
     "execution_count": 34,
     "metadata": {},
     "output_type": "execute_result"
    }
   ],
   "source": [
    "df2 = pd.read_csv(\"../Folder4/Output/Adj_for_age_Death_Rate.csv\")\n",
    "df2.drop(columns=(\"Unnamed: 0\"),inplace=True)\n",
    "df2.head()"
   ]
  },
  {
   "cell_type": "code",
   "execution_count": 38,
   "metadata": {},
   "outputs": [
    {
     "data": {
      "text/html": [
       "<div>\n",
       "<style scoped>\n",
       "    .dataframe tbody tr th:only-of-type {\n",
       "        vertical-align: middle;\n",
       "    }\n",
       "\n",
       "    .dataframe tbody tr th {\n",
       "        vertical-align: top;\n",
       "    }\n",
       "\n",
       "    .dataframe thead th {\n",
       "        text-align: right;\n",
       "    }\n",
       "</style>\n",
       "<table border=\"1\" class=\"dataframe\">\n",
       "  <thead>\n",
       "    <tr style=\"text-align: right;\">\n",
       "      <th></th>\n",
       "      <th>State</th>\n",
       "      <th>Mask_Mandate</th>\n",
       "      <th>Actual_DR</th>\n",
       "      <th>Normalized_DR</th>\n",
       "      <th>Delta</th>\n",
       "      <th>Cum_Covid_19_Death_Rate</th>\n",
       "      <th>Adj_for_age_Covid_Death_Rate</th>\n",
       "    </tr>\n",
       "  </thead>\n",
       "  <tbody>\n",
       "    <tr>\n",
       "      <th>0</th>\n",
       "      <td>AK</td>\n",
       "      <td>0.000000</td>\n",
       "      <td>0.043606</td>\n",
       "      <td>0.063322</td>\n",
       "      <td>1.452128</td>\n",
       "      <td>0.521335</td>\n",
       "      <td>0.757045</td>\n",
       "    </tr>\n",
       "    <tr>\n",
       "      <th>1</th>\n",
       "      <td>AL</td>\n",
       "      <td>70.967500</td>\n",
       "      <td>0.212372</td>\n",
       "      <td>0.207580</td>\n",
       "      <td>0.977434</td>\n",
       "      <td>2.063941</td>\n",
       "      <td>2.017367</td>\n",
       "    </tr>\n",
       "    <tr>\n",
       "      <th>2</th>\n",
       "      <td>AR</td>\n",
       "      <td>69.892500</td>\n",
       "      <td>0.195009</td>\n",
       "      <td>0.189573</td>\n",
       "      <td>0.972121</td>\n",
       "      <td>1.707780</td>\n",
       "      <td>1.660169</td>\n",
       "    </tr>\n",
       "    <tr>\n",
       "      <th>3</th>\n",
       "      <td>AZ</td>\n",
       "      <td>0.000000</td>\n",
       "      <td>0.213197</td>\n",
       "      <td>0.204625</td>\n",
       "      <td>0.959793</td>\n",
       "      <td>2.008587</td>\n",
       "      <td>1.927828</td>\n",
       "    </tr>\n",
       "    <tr>\n",
       "      <th>4</th>\n",
       "      <td>CA</td>\n",
       "      <td>78.610833</td>\n",
       "      <td>0.159406</td>\n",
       "      <td>0.172598</td>\n",
       "      <td>1.082753</td>\n",
       "      <td>1.662034</td>\n",
       "      <td>1.799573</td>\n",
       "    </tr>\n",
       "  </tbody>\n",
       "</table>\n",
       "</div>"
      ],
      "text/plain": [
       "  State  Mask_Mandate  Actual_DR  Normalized_DR     Delta  \\\n",
       "0    AK      0.000000   0.043606       0.063322  1.452128   \n",
       "1    AL     70.967500   0.212372       0.207580  0.977434   \n",
       "2    AR     69.892500   0.195009       0.189573  0.972121   \n",
       "3    AZ      0.000000   0.213197       0.204625  0.959793   \n",
       "4    CA     78.610833   0.159406       0.172598  1.082753   \n",
       "\n",
       "   Cum_Covid_19_Death_Rate  Adj_for_age_Covid_Death_Rate  \n",
       "0                 0.521335                      0.757045  \n",
       "1                 2.063941                      2.017367  \n",
       "2                 1.707780                      1.660169  \n",
       "3                 2.008587                      1.927828  \n",
       "4                 1.662034                      1.799573  "
      ]
     },
     "execution_count": 38,
     "metadata": {},
     "output_type": "execute_result"
    }
   ],
   "source": [
    "df3 = df1.merge(df2,on=\"State\")\n",
    "df3.head()"
   ]
  },
  {
   "cell_type": "code",
   "execution_count": 39,
   "metadata": {
    "scrolled": true
   },
   "outputs": [
    {
     "data": {
      "text/plain": [
       "0     0.757045\n",
       "3     1.927828\n",
       "8     1.282406\n",
       "9     2.154211\n",
       "12    1.179857\n",
       "23    1.411913\n",
       "35    1.575406\n",
       "38    1.593170\n",
       "39    1.511646\n",
       "40    1.458689\n",
       "Name: Adj_for_age_Covid_Death_Rate, dtype: float64"
      ]
     },
     "execution_count": 39,
     "metadata": {},
     "output_type": "execute_result"
    }
   ],
   "source": [
    "mask_mandate_0 = df3.loc[df3[\"Mask_Mandate\"]==0][\"Adj_for_age_Covid_Death_Rate\"]\n",
    "mask_mandate_0"
   ]
  },
  {
   "cell_type": "code",
   "execution_count": 40,
   "metadata": {},
   "outputs": [],
   "source": [
    "mask_mandate_80 = df3.loc[df3[\"Mask_Mandate\"]>80][\"Adj_for_age_Covid_Death_Rate\"]"
   ]
  },
  {
   "cell_type": "code",
   "execution_count": 41,
   "metadata": {},
   "outputs": [
    {
     "data": {
      "text/plain": [
       "<matplotlib.legend.Legend at 0x2731bbecf40>"
      ]
     },
     "execution_count": 41,
     "metadata": {},
     "output_type": "execute_result"
    },
    {
     "data": {
      "image/png": "[encoded data removed]",
      "text/plain": [
       "<Figure size 432x288 with 1 Axes>"
      ]
     },
     "metadata": {
      "needs_background": "light"
     },
     "output_type": "display_data"
    }
   ],
   "source": [
    "plt.subplot(2, 1, 2)\n",
    "plt.hist(mask_mandate_0, 20, density=True, alpha=0.7, label=\"No mask mandate\")\n",
    "plt.hist(mask_mandate_80, 20, density=True, alpha=0.7, label=\"80% mask mandate\")\n",
    "plt.axvline(mask_mandate_0.mean(), color='k', linestyle='dashed', linewidth=1)\n",
    "plt.axvline(mask_mandate_80.mean(), color='k', linestyle='dashed', linewidth=1)\n",
    "plt.legend()  "
   ]
  },
  {
   "cell_type": "code",
   "execution_count": 99,
   "metadata": {},
   "outputs": [
    {
     "data": {
      "text/plain": [
       "Ttest_indResult(statistic=2.6821951317304333, pvalue=0.013207343490745269)"
      ]
     },
     "execution_count": 99,
     "metadata": {},
     "output_type": "execute_result"
    }
   ],
   "source": [
    "stats.ttest_ind(mask_mandate_80, mask_mandate_0, equal_var=False)"
   ]
  },
  {
   "cell_type": "code",
   "execution_count": 42,
   "metadata": {},
   "outputs": [
    {
     "data": {
      "text/plain": [
       "1.5879344760102099"
      ]
     },
     "execution_count": 42,
     "metadata": {},
     "output_type": "execute_result"
    }
   ],
   "source": [
    "df3.Adj_for_age_Covid_Death_Rate.mean()"
   ]
  },
  {
   "cell_type": "code",
   "execution_count": 43,
   "metadata": {},
   "outputs": [
    {
     "data": {
      "text/plain": [
       "<matplotlib.legend.Legend at 0x2731bcb82e0>"
      ]
     },
     "execution_count": 43,
     "metadata": {},
     "output_type": "execute_result"
    },
    {
     "data": {
      "image/png": "[encoded data removed]",
      "text/plain": [
       "<Figure size 432x288 with 1 Axes>"
      ]
     },
     "metadata": {
      "needs_background": "light"
     },
     "output_type": "display_data"
    }
   ],
   "source": [
    "plt.subplot(2, 1, 2)\n",
    "plt.hist(mask_mandate_0, 20, density=True, alpha=0.7, label=\"No mask mandate\")\n",
    "plt.hist(df3.Adj_for_age_Covid_Death_Rate, 20, density=True, alpha=0.7, label=\"Population\")\n",
    "plt.axvline(mask_mandate_0.mean(), color='k', linestyle='dashed', linewidth=1)\n",
    "plt.axvline(df3.Adj_for_age_Covid_Death_Rate.mean(), color='k', linestyle='dashed', linewidth=1)\n",
    "plt.legend()  "
   ]
  },
  {
   "cell_type": "code",
   "execution_count": 44,
   "metadata": {},
   "outputs": [
    {
     "data": {
      "text/plain": [
       "Ttest_1sampResult(statistic=-0.8434981616795353, pvalue=0.4208024545000645)"
      ]
     },
     "execution_count": 44,
     "metadata": {},
     "output_type": "execute_result"
    }
   ],
   "source": [
    "stats.ttest_1samp(mask_mandate_0, df3.Adj_for_age_Covid_Death_Rate.mean())"
   ]
  },
  {
   "cell_type": "code",
   "execution_count": 45,
   "metadata": {},
   "outputs": [
    {
     "data": {
      "text/plain": [
       "<matplotlib.legend.Legend at 0x2731bd7e730>"
      ]
     },
     "execution_count": 45,
     "metadata": {},
     "output_type": "execute_result"
    },
    {
     "data": {
      "image/png": "[encoded data removed]",
      "text/plain": [
       "<Figure size 432x288 with 1 Axes>"
      ]
     },
     "metadata": {
      "needs_background": "light"
     },
     "output_type": "display_data"
    }
   ],
   "source": [
    "plt.subplot(2, 1, 2)\n",
    "plt.hist(mask_mandate_80, 20, density=True, alpha=0.7, label=\"80% mask mandate\")\n",
    "plt.hist(df3.Adj_for_age_Covid_Death_Rate, 20, density=True, alpha=0.7, label=\"Population\")\n",
    "plt.axvline(mask_mandate_80.mean(), color='k', linestyle='dashed', linewidth=1)\n",
    "plt.axvline(df3.Adj_for_age_Covid_Death_Rate.mean(), color='k', linestyle='dashed', linewidth=1)\n",
    "plt.legend()  "
   ]
  },
  {
   "cell_type": "code",
   "execution_count": 104,
   "metadata": {},
   "outputs": [
    {
     "data": {
      "text/plain": [
       "Ttest_1sampResult(statistic=2.4421113209999334, pvalue=0.025824217165624407)"
      ]
     },
     "execution_count": 104,
     "metadata": {},
     "output_type": "execute_result"
    }
   ],
   "source": [
    "stats.ttest_1samp(mask_mandate_80, df3.Death_Rate.mean())"
   ]
  },
  {
   "cell_type": "code",
   "execution_count": 105,
   "metadata": {
    "scrolled": true
   },
   "outputs": [
    {
     "data": {
      "text/plain": [
       "1.8829601314703486"
      ]
     },
     "execution_count": 105,
     "metadata": {},
     "output_type": "execute_result"
    }
   ],
   "source": [
    "mask_mandate_80.mean()"
   ]
  },
  {
   "cell_type": "code",
   "execution_count": 47,
   "metadata": {},
   "outputs": [
    {
     "data": {
      "text/html": [
       "<div>\n",
       "<style scoped>\n",
       "    .dataframe tbody tr th:only-of-type {\n",
       "        vertical-align: middle;\n",
       "    }\n",
       "\n",
       "    .dataframe tbody tr th {\n",
       "        vertical-align: top;\n",
       "    }\n",
       "\n",
       "    .dataframe thead th {\n",
       "        text-align: right;\n",
       "    }\n",
       "</style>\n",
       "<table border=\"1\" class=\"dataframe\">\n",
       "  <thead>\n",
       "    <tr style=\"text-align: right;\">\n",
       "      <th></th>\n",
       "      <th>State</th>\n",
       "      <th>Mask_Mandate</th>\n",
       "      <th>Actual_DR</th>\n",
       "      <th>Normalized_DR</th>\n",
       "      <th>Delta</th>\n",
       "      <th>Cum_Covid_19_Death_Rate</th>\n",
       "      <th>Adj_for_age_Covid_Death_Rate</th>\n",
       "    </tr>\n",
       "  </thead>\n",
       "  <tbody>\n",
       "    <tr>\n",
       "      <th>0</th>\n",
       "      <td>AK</td>\n",
       "      <td>0.000000</td>\n",
       "      <td>0.043606</td>\n",
       "      <td>0.063322</td>\n",
       "      <td>1.452128</td>\n",
       "      <td>0.521335</td>\n",
       "      <td>0.757045</td>\n",
       "    </tr>\n",
       "    <tr>\n",
       "      <th>1</th>\n",
       "      <td>AL</td>\n",
       "      <td>70.967500</td>\n",
       "      <td>0.212372</td>\n",
       "      <td>0.207580</td>\n",
       "      <td>0.977434</td>\n",
       "      <td>2.063941</td>\n",
       "      <td>2.017367</td>\n",
       "    </tr>\n",
       "    <tr>\n",
       "      <th>2</th>\n",
       "      <td>AR</td>\n",
       "      <td>69.892500</td>\n",
       "      <td>0.195009</td>\n",
       "      <td>0.189573</td>\n",
       "      <td>0.972121</td>\n",
       "      <td>1.707780</td>\n",
       "      <td>1.660169</td>\n",
       "    </tr>\n",
       "    <tr>\n",
       "      <th>3</th>\n",
       "      <td>AZ</td>\n",
       "      <td>0.000000</td>\n",
       "      <td>0.213197</td>\n",
       "      <td>0.204625</td>\n",
       "      <td>0.959793</td>\n",
       "      <td>2.008587</td>\n",
       "      <td>1.927828</td>\n",
       "    </tr>\n",
       "    <tr>\n",
       "      <th>4</th>\n",
       "      <td>CA</td>\n",
       "      <td>78.610833</td>\n",
       "      <td>0.159406</td>\n",
       "      <td>0.172598</td>\n",
       "      <td>1.082753</td>\n",
       "      <td>1.662034</td>\n",
       "      <td>1.799573</td>\n",
       "    </tr>\n",
       "  </tbody>\n",
       "</table>\n",
       "</div>"
      ],
      "text/plain": [
       "  State  Mask_Mandate  Actual_DR  Normalized_DR     Delta  \\\n",
       "0    AK      0.000000   0.043606       0.063322  1.452128   \n",
       "1    AL     70.967500   0.212372       0.207580  0.977434   \n",
       "2    AR     69.892500   0.195009       0.189573  0.972121   \n",
       "3    AZ      0.000000   0.213197       0.204625  0.959793   \n",
       "4    CA     78.610833   0.159406       0.172598  1.082753   \n",
       "\n",
       "   Cum_Covid_19_Death_Rate  Adj_for_age_Covid_Death_Rate  \n",
       "0                 0.521335                      0.757045  \n",
       "1                 2.063941                      2.017367  \n",
       "2                 1.707780                      1.660169  \n",
       "3                 2.008587                      1.927828  \n",
       "4                 1.662034                      1.799573  "
      ]
     },
     "execution_count": 47,
     "metadata": {},
     "output_type": "execute_result"
    }
   ],
   "source": [
    "df3.head()"
   ]
  },
  {
   "cell_type": "code",
   "execution_count": 81,
   "metadata": {},
   "outputs": [
    {
     "data": {
      "image/png": "[encoded data removed]",
      "text/plain": [
       "<Figure size 432x288 with 1 Axes>"
      ]
     },
     "metadata": {
      "needs_background": "light"
     },
     "output_type": "display_data"
    }
   ],
   "source": [
    "plt.scatter(df3.Mask_Mandate, df3.Adj_for_age_Covid_Death_Rate)\n",
    "for index, row in df3.iterrows():\n",
    "    #print(f\"{row[0]} at coords: ({row[2]},{row[1]})\")\n",
    "    plt.annotate(row[0],(row[1],row[6]))\n",
    "plt.title(\"Mask Mandate(%) by State\")\n",
    "plt.xlabel(\"% of period 4/2020-3/2021\")\n",
    "plt.ylabel(\"Age-adjusted Death Rate\")\n",
    "plt.savefig(\"../Folder4/Output/Mask_Mandate.png\")\n",
    "plt.show()"
   ]
  },
  {
   "cell_type": "code",
   "execution_count": 78,
   "metadata": {},
   "outputs": [
    {
     "data": {
      "text/plain": [
       "'C:\\\\Users\\\\jwr19\\\\Documents\\\\Project\\\\project_one\\\\Folder2'"
      ]
     },
     "execution_count": 78,
     "metadata": {},
     "output_type": "execute_result"
    }
   ],
   "source": [
    "%pwd"
   ]
  },
  {
   "cell_type": "code",
   "execution_count": 53,
   "metadata": {},
   "outputs": [],
   "source": [
    "df3.loc[df3[\"Mask_Mandate\"]==0][\"State\"].to_csv(\"../Folder4/Output/State_with_no_mask_mandate.csv\")\n",
    "df3.loc[df3[\"Mask_Mandate\"]>80][\"State\"].to_csv(\"../Folder4/Output/State_with_80%_mask_mandate.csv\")"
   ]
  },
  {
   "cell_type": "code",
   "execution_count": 83,
   "metadata": {
    "scrolled": true
   },
   "outputs": [
    {
     "data": {
      "text/plain": [
       "1.5879344760102099"
      ]
     },
     "execution_count": 83,
     "metadata": {},
     "output_type": "execute_result"
    }
   ],
   "source": [
    "a = df3[\"Adj_for_age_Covid_Death_Rate\"]\n",
    "a.mean()"
   ]
  },
  {
   "cell_type": "code",
   "execution_count": 99,
   "metadata": {},
   "outputs": [
    {
     "data": {
      "text/plain": [
       "1.6928697813493978"
      ]
     },
     "execution_count": 99,
     "metadata": {},
     "output_type": "execute_result"
    }
   ],
   "source": [
    "b = df3.loc[df3[\"Mask_Mandate\"]>60][\"Adj_for_age_Covid_Death_Rate\"]\n",
    "b.mean()"
   ]
  },
  {
   "cell_type": "code",
   "execution_count": 100,
   "metadata": {},
   "outputs": [
    {
     "data": {
      "text/plain": [
       "<matplotlib.legend.Legend at 0x2731c586dc0>"
      ]
     },
     "execution_count": 100,
     "metadata": {},
     "output_type": "execute_result"
    },
    {
     "data": {
      "image/png": "[encoded data removed]",
      "text/plain": [
       "<Figure size 432x288 with 1 Axes>"
      ]
     },
     "metadata": {
      "needs_background": "light"
     },
     "output_type": "display_data"
    }
   ],
   "source": [
    "plt.subplot(2, 1, 2)\n",
    "plt.hist(a, 15, density=True, alpha=0.7, label=\"All States\")\n",
    "plt.hist(b, 15, density=True, alpha=0.7, label=\">75% mask mandate\")\n",
    "plt.axvline(a.mean(), color='k', linestyle='dashed', linewidth=1)\n",
    "plt.axvline(b.mean(), color='k', linestyle='dashed', linewidth=1)\n",
    "plt.legend()  "
   ]
  },
  {
   "cell_type": "code",
   "execution_count": 97,
   "metadata": {},
   "outputs": [
    {
     "data": {
      "text/plain": [
       "Ttest_1sampResult(statistic=1.765429667995068, pvalue=0.09656535442646355)"
      ]
     },
     "execution_count": 97,
     "metadata": {},
     "output_type": "execute_result"
    }
   ],
   "source": [
    "stats.ttest_1samp(b, a.mean())"
   ]
  },
  {
   "cell_type": "code",
   "execution_count": null,
   "metadata": {},
   "outputs": [],
   "source": []
  },
  {
   "cell_type": "code",
   "execution_count": 59,
   "metadata": {},
   "outputs": [],
   "source": [
    "df3[[\"State\",\"Mask_Mandate\"]].to_csv(\"../Folder4/Output/Mask_Mandate%_byState.csv\")"
   ]
  }
 ],
 "metadata": {
  "kernelspec": {
   "display_name": "Python 3",
   "language": "python",
   "name": "python3"
  },
  "language_info": {
   "codemirror_mode": {
    "name": "ipython",
    "version": 3
   },
   "file_extension": ".py",
   "mimetype": "text/x-python",
   "name": "python",
   "nbconvert_exporter": "python",
   "pygments_lexer": "ipython3",
   "version": "3.8.5"
  }
 },
 "nbformat": 4,
 "nbformat_minor": 4
}
