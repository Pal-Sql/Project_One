{
 "cells": [
  {
   "cell_type": "code",
   "execution_count": 20,
   "metadata": {},
   "outputs": [],
   "source": [
    "import pandas as pd\n",
    "import matplotlib.pyplot as plt\n",
    "import numpy as np"
   ]
  },
  {
   "cell_type": "code",
   "execution_count": 2,
   "metadata": {},
   "outputs": [
    {
     "data": {
      "text/plain": [
       "'C:\\\\Users\\\\jwr19\\\\Documents\\\\Project\\\\project_one\\\\Folder3'"
      ]
     },
     "execution_count": 2,
     "metadata": {},
     "output_type": "execute_result"
    }
   ],
   "source": [
    "%pwd"
   ]
  },
  {
   "cell_type": "code",
   "execution_count": 6,
   "metadata": {
    "scrolled": true
   },
   "outputs": [
    {
     "data": {
      "text/html": [
       "<div>\n",
       "<style scoped>\n",
       "    .dataframe tbody tr th:only-of-type {\n",
       "        vertical-align: middle;\n",
       "    }\n",
       "\n",
       "    .dataframe tbody tr th {\n",
       "        vertical-align: top;\n",
       "    }\n",
       "\n",
       "    .dataframe thead th {\n",
       "        text-align: right;\n",
       "    }\n",
       "</style>\n",
       "<table border=\"1\" class=\"dataframe\">\n",
       "  <thead>\n",
       "    <tr style=\"text-align: right;\">\n",
       "      <th></th>\n",
       "      <th>Date</th>\n",
       "      <th>Year</th>\n",
       "      <th>Week</th>\n",
       "      <th>State</th>\n",
       "      <th>Total_Deaths</th>\n",
       "      <th>Excess_Deaths</th>\n",
       "      <th>Covid_19_Deaths</th>\n",
       "      <th>Cum_Excess_Deaths</th>\n",
       "      <th>Cum_Covid_19_Deaths</th>\n",
       "    </tr>\n",
       "  </thead>\n",
       "  <tbody>\n",
       "    <tr>\n",
       "      <th>0</th>\n",
       "      <td>2019-12-29T00:00:00.000</td>\n",
       "      <td>2019</td>\n",
       "      <td>52</td>\n",
       "      <td>United States</td>\n",
       "      <td>60171.0</td>\n",
       "      <td>-1203.42</td>\n",
       "      <td>1.0</td>\n",
       "      <td>-1203.42</td>\n",
       "      <td>1.0</td>\n",
       "    </tr>\n",
       "    <tr>\n",
       "      <th>1</th>\n",
       "      <td>2020-01-05T00:00:00.000</td>\n",
       "      <td>2020</td>\n",
       "      <td>1</td>\n",
       "      <td>United States</td>\n",
       "      <td>60725.0</td>\n",
       "      <td>-1821.75</td>\n",
       "      <td>0.0</td>\n",
       "      <td>-3025.17</td>\n",
       "      <td>1.0</td>\n",
       "    </tr>\n",
       "    <tr>\n",
       "      <th>2</th>\n",
       "      <td>2020-01-12T00:00:00.000</td>\n",
       "      <td>2020</td>\n",
       "      <td>2</td>\n",
       "      <td>United States</td>\n",
       "      <td>59352.0</td>\n",
       "      <td>-1780.56</td>\n",
       "      <td>2.0</td>\n",
       "      <td>-4805.73</td>\n",
       "      <td>3.0</td>\n",
       "    </tr>\n",
       "    <tr>\n",
       "      <th>3</th>\n",
       "      <td>2020-01-19T00:00:00.000</td>\n",
       "      <td>2020</td>\n",
       "      <td>3</td>\n",
       "      <td>United States</td>\n",
       "      <td>59153.0</td>\n",
       "      <td>-591.53</td>\n",
       "      <td>2.0</td>\n",
       "      <td>-5397.26</td>\n",
       "      <td>5.0</td>\n",
       "    </tr>\n",
       "    <tr>\n",
       "      <th>4</th>\n",
       "      <td>2020-01-26T00:00:00.000</td>\n",
       "      <td>2020</td>\n",
       "      <td>4</td>\n",
       "      <td>United States</td>\n",
       "      <td>58822.0</td>\n",
       "      <td>-588.22</td>\n",
       "      <td>0.0</td>\n",
       "      <td>-5985.48</td>\n",
       "      <td>5.0</td>\n",
       "    </tr>\n",
       "  </tbody>\n",
       "</table>\n",
       "</div>"
      ],
      "text/plain": [
       "                      Date  Year  Week          State  Total_Deaths  \\\n",
       "0  2019-12-29T00:00:00.000  2019    52  United States       60171.0   \n",
       "1  2020-01-05T00:00:00.000  2020     1  United States       60725.0   \n",
       "2  2020-01-12T00:00:00.000  2020     2  United States       59352.0   \n",
       "3  2020-01-19T00:00:00.000  2020     3  United States       59153.0   \n",
       "4  2020-01-26T00:00:00.000  2020     4  United States       58822.0   \n",
       "\n",
       "   Excess_Deaths  Covid_19_Deaths  Cum_Excess_Deaths  Cum_Covid_19_Deaths  \n",
       "0       -1203.42              1.0           -1203.42                  1.0  \n",
       "1       -1821.75              0.0           -3025.17                  1.0  \n",
       "2       -1780.56              2.0           -4805.73                  3.0  \n",
       "3        -591.53              2.0           -5397.26                  5.0  \n",
       "4        -588.22              0.0           -5985.48                  5.0  "
      ]
     },
     "execution_count": 6,
     "metadata": {},
     "output_type": "execute_result"
    }
   ],
   "source": [
    "df = pd.read_csv(\"../Folder2/CDC_excessdeaths_cleaned.csv\", index_col=0)\n",
    "df.head()"
   ]
  },
  {
   "cell_type": "code",
   "execution_count": 44,
   "metadata": {},
   "outputs": [],
   "source": [
    "cum_excess = df.loc[df[\"State\"] == \"United States\"][[\"Cum_Excess_Deaths\"]]\n",
    "time = np.arange(len(cum_excess))\n",
    "cum_excess\n",
    "cum_covid19 = df.loc[df[\"State\"] == \"United States\"][[\"Cum_Covid_19_Deaths\"]]"
   ]
  },
  {
   "cell_type": "code",
   "execution_count": 50,
   "metadata": {},
   "outputs": [
    {
     "data": {
      "text/plain": [
       "[]"
      ]
     },
     "execution_count": 50,
     "metadata": {},
     "output_type": "execute_result"
    },
    {
     "data": {
      "image/png": "[encoded data removed]",
      "text/plain": [
       "<Figure size 432x288 with 1 Axes>"
      ]
     },
     "metadata": {
      "needs_background": "light"
     },
     "output_type": "display_data"
    }
   ],
   "source": [
    "plt.plot(time,cum_excess, color=\"blue\", label=\"Cumulative Excess Deaths\")\n",
    "plt.plot(time,cum_covid19, color=\"red\", label=\"Cumulative Covid-19 Deaths\")\n",
    "plt.title(\"USA - Deaths versus Covid-19 Deavths\")\n",
    "plt.xlabel(\"Time - elapsed weeks\")\n",
    "plt.ylabel(\"Deaths\")\n",
    "plt.legend(loc=\"best\")\n",
    "plt.plot()"
   ]
  },
  {
   "cell_type": "code",
   "execution_count": null,
   "metadata": {},
   "outputs": [],
   "source": []
  }
 ],
 "metadata": {
  "kernelspec": {
   "display_name": "Python 3",
   "language": "python",
   "name": "python3"
  },
  "language_info": {
   "codemirror_mode": {
    "name": "ipython",
    "version": 3
   },
   "file_extension": ".py",
   "mimetype": "text/x-python",
   "name": "python",
   "nbconvert_exporter": "python",
   "pygments_lexer": "ipython3",
   "version": "3.8.5"
  }
 },
 "nbformat": 4,
 "nbformat_minor": 4
}
