{
 "cells": [
  {
   "cell_type": "code",
   "execution_count": null,
   "metadata": {},
   "outputs": [],
   "source": [
    "# What do we want our DataFrame to look like?"
   ]
  },
  {
   "cell_type": "code",
   "execution_count": null,
   "metadata": {},
   "outputs": [],
   "source": [
    "# OUTPUT / HEADLINES\n",
    "# How have states performed in their management of the Covid Crisis?\n",
    "## 1. Ranking of states by death rate\n",
    "### Data: rows: States columns: Deaths, Population (Death Rate), Nice (by month)\n",
    "## 2. Excess death rate by state, Nice by month\n",
    "### Compare 1 and 2 - are they the same? Is reporting accurate?\n",
    "## 3. Can we normalize death rate by age?\n",
    "### by state, population by age group, death rate (deaths/population) by age group"
   ]
  },
  {
   "cell_type": "code",
   "execution_count": null,
   "metadata": {},
   "outputs": [],
   "source": [
    "# DATA\n",
    "# by state, by month, by age group\n",
    "## deaths, population\n",
    "# by state, by month\n",
    "## excess deaths"
   ]
  },
  {
   "cell_type": "code",
   "execution_count": null,
   "metadata": {},
   "outputs": [],
   "source": [
    "# Can we explain the above / what are other factors?"
   ]
  },
  {
   "cell_type": "code",
   "execution_count": null,
   "metadata": {},
   "outputs": [],
   "source": [
    "# EXPLANATION / CORRELATED FACTORS\n",
    "## Health - insurance cover, hospital beds, prevalence of health conditions\n",
    "## Preventative Measures - masks, gatherings, lockdowns, politics\n",
    "## Geographical - climate, dispersion\n",
    "## Demographics - income, race, [age], sex, \n",
    "## Timing - vaccinations, surges"
   ]
  },
  {
   "cell_type": "code",
   "execution_count": null,
   "metadata": {},
   "outputs": [],
   "source": [
    "## Health\n",
    "# DATA\n",
    "## by state, (doesn't chnage by month)\n",
    "### hospital beds, population, insurance cover (%), comorbities (%)"
   ]
  },
  {
   "cell_type": "code",
   "execution_count": null,
   "metadata": {},
   "outputs": [],
   "source": [
    "## Preventative Measures\n",
    "# DATA\n",
    "## by state, by month (or day)\n",
    "### # of days with mask mandate, lock down, policy on gatherings (yes,no !>10), politics (red or blue / last election)"
   ]
  },
  {
   "cell_type": "code",
   "execution_count": null,
   "metadata": {},
   "outputs": [],
   "source": [
    "## Geography\n",
    "# DATA\n",
    "## by state, by day\n",
    "### min temp - max temp, days within a certain temperature range, humidity, rural and urban populations"
   ]
  },
  {
   "cell_type": "code",
   "execution_count": null,
   "metadata": {},
   "outputs": [],
   "source": [
    "## Demographics\n",
    "# DATA\n",
    "## by state\n",
    "## income, population (or income per capita), population by race, population by age, population by sex"
   ]
  },
  {
   "cell_type": "code",
   "execution_count": null,
   "metadata": {},
   "outputs": [],
   "source": [
    "## Timing\n",
    "# DATA\n",
    "## by state, by month (better by day)\n",
    "### Vaccinations, deaths, infections"
   ]
  },
  {
   "cell_type": "code",
   "execution_count": null,
   "metadata": {},
   "outputs": [],
   "source": []
  },
  {
   "cell_type": "code",
   "execution_count": null,
   "metadata": {},
   "outputs": [],
   "source": [
    "# DataFrame1 - by state, by day data\n",
    "## Columns\n",
    "### temperature (max/min), humidity, vaccinations, infections, deaths, mask mandate, gatherings\n",
    "\n",
    "# DataFrame2 - by month data\n",
    "## Columns\n",
    "### excess deaths\n",
    "\n",
    "# DataFrame3 - by state, no change with time\n",
    "## Columns\n",
    "### population, hospital beds, sex, race, insurance cover, health conditions, geographical dispersion (urban versus rural)\n",
    "### income, population [by age group: 20, 30, etc... ], politics"
   ]
  }
 ],
 "metadata": {
  "kernelspec": {
   "display_name": "Python 3",
   "language": "python",
   "name": "python3"
  },
  "language_info": {
   "codemirror_mode": {
    "name": "ipython",
    "version": 3
   },
   "file_extension": ".py",
   "mimetype": "text/x-python",
   "name": "python",
   "nbconvert_exporter": "python",
   "pygments_lexer": "ipython3",
   "version": "3.8.5"
  }
 },
 "nbformat": 4,
 "nbformat_minor": 4
}
