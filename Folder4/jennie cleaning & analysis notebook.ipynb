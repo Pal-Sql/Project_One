{
 "cells": [
  {
   "cell_type": "code",
   "execution_count": 5,
   "metadata": {
    "scrolled": true
   },
   "outputs": [],
   "source": [
    "import json\n",
    "import requests\n",
    "import numpy as np\n",
    "import pandas as pd\n",
    "import seaborn as sns\n",
    "from pprint import pprint\n",
    "import matplotlib.pyplot as plt"
   ]
  },
  {
   "cell_type": "markdown",
   "metadata": {},
   "source": [
    "CDC by age"
   ]
  },
  {
   "cell_type": "code",
   "execution_count": 129,
   "metadata": {},
   "outputs": [
    {
     "ename": "UnicodeDecodeError",
     "evalue": "'utf-8' codec can't decode byte 0xa0 in position 0: invalid start byte",
     "output_type": "error",
     "traceback": [
      "\u001b[0;31m---------------------------------------------------------------------------\u001b[0m",
      "\u001b[0;31mUnicodeDecodeError\u001b[0m                        Traceback (most recent call last)",
      "\u001b[0;32mpandas/_libs/parsers.pyx\u001b[0m in \u001b[0;36mpandas._libs.parsers.TextReader._convert_tokens\u001b[0;34m()\u001b[0m\n",
      "\u001b[0;32mpandas/_libs/parsers.pyx\u001b[0m in \u001b[0;36mpandas._libs.parsers.TextReader._convert_with_dtype\u001b[0;34m()\u001b[0m\n",
      "\u001b[0;32mpandas/_libs/parsers.pyx\u001b[0m in \u001b[0;36mpandas._libs.parsers.TextReader._string_convert\u001b[0;34m()\u001b[0m\n",
      "\u001b[0;32mpandas/_libs/parsers.pyx\u001b[0m in \u001b[0;36mpandas._libs.parsers._string_box_utf8\u001b[0;34m()\u001b[0m\n",
      "\u001b[0;31mUnicodeDecodeError\u001b[0m: 'utf-8' codec can't decode byte 0xa0 in position 0: invalid start byte",
      "\nDuring handling of the above exception, another exception occurred:\n",
      "\u001b[0;31mUnicodeDecodeError\u001b[0m                        Traceback (most recent call last)",
      "\u001b[0;32m<ipython-input-129-c4902688eb64>\u001b[0m in \u001b[0;36m<module>\u001b[0;34m\u001b[0m\n\u001b[0;32m----> 1\u001b[0;31m \u001b[0mage_sex_data\u001b[0m \u001b[0;34m=\u001b[0m \u001b[0mpd\u001b[0m\u001b[0;34m.\u001b[0m\u001b[0mread_csv\u001b[0m\u001b[0;34m(\u001b[0m\u001b[0;34m\"../Folder1/Death_Counts_by_Sex_Age_and_State.csv\"\u001b[0m\u001b[0;34m)\u001b[0m\u001b[0;34m\u001b[0m\u001b[0;34m\u001b[0m\u001b[0m\n\u001b[0m",
      "\u001b[0;32m~/opt/anaconda3/lib/python3.8/site-packages/pandas/io/parsers.py\u001b[0m in \u001b[0;36mread_csv\u001b[0;34m(filepath_or_buffer, sep, delimiter, header, names, index_col, usecols, squeeze, prefix, mangle_dupe_cols, dtype, engine, converters, true_values, false_values, skipinitialspace, skiprows, skipfooter, nrows, na_values, keep_default_na, na_filter, verbose, skip_blank_lines, parse_dates, infer_datetime_format, keep_date_col, date_parser, dayfirst, cache_dates, iterator, chunksize, compression, thousands, decimal, lineterminator, quotechar, quoting, doublequote, escapechar, comment, encoding, dialect, error_bad_lines, warn_bad_lines, delim_whitespace, low_memory, memory_map, float_precision)\u001b[0m\n\u001b[1;32m    684\u001b[0m     )\n\u001b[1;32m    685\u001b[0m \u001b[0;34m\u001b[0m\u001b[0m\n\u001b[0;32m--> 686\u001b[0;31m     \u001b[0;32mreturn\u001b[0m \u001b[0m_read\u001b[0m\u001b[0;34m(\u001b[0m\u001b[0mfilepath_or_buffer\u001b[0m\u001b[0;34m,\u001b[0m \u001b[0mkwds\u001b[0m\u001b[0;34m)\u001b[0m\u001b[0;34m\u001b[0m\u001b[0;34m\u001b[0m\u001b[0m\n\u001b[0m\u001b[1;32m    687\u001b[0m \u001b[0;34m\u001b[0m\u001b[0m\n\u001b[1;32m    688\u001b[0m \u001b[0;34m\u001b[0m\u001b[0m\n",
      "\u001b[0;32m~/opt/anaconda3/lib/python3.8/site-packages/pandas/io/parsers.py\u001b[0m in \u001b[0;36m_read\u001b[0;34m(filepath_or_buffer, kwds)\u001b[0m\n\u001b[1;32m    456\u001b[0m \u001b[0;34m\u001b[0m\u001b[0m\n\u001b[1;32m    457\u001b[0m     \u001b[0;32mtry\u001b[0m\u001b[0;34m:\u001b[0m\u001b[0;34m\u001b[0m\u001b[0;34m\u001b[0m\u001b[0m\n\u001b[0;32m--> 458\u001b[0;31m         \u001b[0mdata\u001b[0m \u001b[0;34m=\u001b[0m \u001b[0mparser\u001b[0m\u001b[0;34m.\u001b[0m\u001b[0mread\u001b[0m\u001b[0;34m(\u001b[0m\u001b[0mnrows\u001b[0m\u001b[0;34m)\u001b[0m\u001b[0;34m\u001b[0m\u001b[0;34m\u001b[0m\u001b[0m\n\u001b[0m\u001b[1;32m    459\u001b[0m     \u001b[0;32mfinally\u001b[0m\u001b[0;34m:\u001b[0m\u001b[0;34m\u001b[0m\u001b[0;34m\u001b[0m\u001b[0m\n\u001b[1;32m    460\u001b[0m         \u001b[0mparser\u001b[0m\u001b[0;34m.\u001b[0m\u001b[0mclose\u001b[0m\u001b[0;34m(\u001b[0m\u001b[0;34m)\u001b[0m\u001b[0;34m\u001b[0m\u001b[0;34m\u001b[0m\u001b[0m\n",
      "\u001b[0;32m~/opt/anaconda3/lib/python3.8/site-packages/pandas/io/parsers.py\u001b[0m in \u001b[0;36mread\u001b[0;34m(self, nrows)\u001b[0m\n\u001b[1;32m   1194\u001b[0m     \u001b[0;32mdef\u001b[0m \u001b[0mread\u001b[0m\u001b[0;34m(\u001b[0m\u001b[0mself\u001b[0m\u001b[0;34m,\u001b[0m \u001b[0mnrows\u001b[0m\u001b[0;34m=\u001b[0m\u001b[0;32mNone\u001b[0m\u001b[0;34m)\u001b[0m\u001b[0;34m:\u001b[0m\u001b[0;34m\u001b[0m\u001b[0;34m\u001b[0m\u001b[0m\n\u001b[1;32m   1195\u001b[0m         \u001b[0mnrows\u001b[0m \u001b[0;34m=\u001b[0m \u001b[0m_validate_integer\u001b[0m\u001b[0;34m(\u001b[0m\u001b[0;34m\"nrows\"\u001b[0m\u001b[0;34m,\u001b[0m \u001b[0mnrows\u001b[0m\u001b[0;34m)\u001b[0m\u001b[0;34m\u001b[0m\u001b[0;34m\u001b[0m\u001b[0m\n\u001b[0;32m-> 1196\u001b[0;31m         \u001b[0mret\u001b[0m \u001b[0;34m=\u001b[0m \u001b[0mself\u001b[0m\u001b[0;34m.\u001b[0m\u001b[0m_engine\u001b[0m\u001b[0;34m.\u001b[0m\u001b[0mread\u001b[0m\u001b[0;34m(\u001b[0m\u001b[0mnrows\u001b[0m\u001b[0;34m)\u001b[0m\u001b[0;34m\u001b[0m\u001b[0;34m\u001b[0m\u001b[0m\n\u001b[0m\u001b[1;32m   1197\u001b[0m \u001b[0;34m\u001b[0m\u001b[0m\n\u001b[1;32m   1198\u001b[0m         \u001b[0;31m# May alter columns / col_dict\u001b[0m\u001b[0;34m\u001b[0m\u001b[0;34m\u001b[0m\u001b[0;34m\u001b[0m\u001b[0m\n",
      "\u001b[0;32m~/opt/anaconda3/lib/python3.8/site-packages/pandas/io/parsers.py\u001b[0m in \u001b[0;36mread\u001b[0;34m(self, nrows)\u001b[0m\n\u001b[1;32m   2153\u001b[0m     \u001b[0;32mdef\u001b[0m \u001b[0mread\u001b[0m\u001b[0;34m(\u001b[0m\u001b[0mself\u001b[0m\u001b[0;34m,\u001b[0m \u001b[0mnrows\u001b[0m\u001b[0;34m=\u001b[0m\u001b[0;32mNone\u001b[0m\u001b[0;34m)\u001b[0m\u001b[0;34m:\u001b[0m\u001b[0;34m\u001b[0m\u001b[0;34m\u001b[0m\u001b[0m\n\u001b[1;32m   2154\u001b[0m         \u001b[0;32mtry\u001b[0m\u001b[0;34m:\u001b[0m\u001b[0;34m\u001b[0m\u001b[0;34m\u001b[0m\u001b[0m\n\u001b[0;32m-> 2155\u001b[0;31m             \u001b[0mdata\u001b[0m \u001b[0;34m=\u001b[0m \u001b[0mself\u001b[0m\u001b[0;34m.\u001b[0m\u001b[0m_reader\u001b[0m\u001b[0;34m.\u001b[0m\u001b[0mread\u001b[0m\u001b[0;34m(\u001b[0m\u001b[0mnrows\u001b[0m\u001b[0;34m)\u001b[0m\u001b[0;34m\u001b[0m\u001b[0;34m\u001b[0m\u001b[0m\n\u001b[0m\u001b[1;32m   2156\u001b[0m         \u001b[0;32mexcept\u001b[0m \u001b[0mStopIteration\u001b[0m\u001b[0;34m:\u001b[0m\u001b[0;34m\u001b[0m\u001b[0;34m\u001b[0m\u001b[0m\n\u001b[1;32m   2157\u001b[0m             \u001b[0;32mif\u001b[0m \u001b[0mself\u001b[0m\u001b[0;34m.\u001b[0m\u001b[0m_first_chunk\u001b[0m\u001b[0;34m:\u001b[0m\u001b[0;34m\u001b[0m\u001b[0;34m\u001b[0m\u001b[0m\n",
      "\u001b[0;32mpandas/_libs/parsers.pyx\u001b[0m in \u001b[0;36mpandas._libs.parsers.TextReader.read\u001b[0;34m()\u001b[0m\n",
      "\u001b[0;32mpandas/_libs/parsers.pyx\u001b[0m in \u001b[0;36mpandas._libs.parsers.TextReader._read_low_memory\u001b[0;34m()\u001b[0m\n",
      "\u001b[0;32mpandas/_libs/parsers.pyx\u001b[0m in \u001b[0;36mpandas._libs.parsers.TextReader._read_rows\u001b[0;34m()\u001b[0m\n",
      "\u001b[0;32mpandas/_libs/parsers.pyx\u001b[0m in \u001b[0;36mpandas._libs.parsers.TextReader._convert_column_data\u001b[0;34m()\u001b[0m\n",
      "\u001b[0;32mpandas/_libs/parsers.pyx\u001b[0m in \u001b[0;36mpandas._libs.parsers.TextReader._convert_tokens\u001b[0;34m()\u001b[0m\n",
      "\u001b[0;32mpandas/_libs/parsers.pyx\u001b[0m in \u001b[0;36mpandas._libs.parsers.TextReader._convert_with_dtype\u001b[0;34m()\u001b[0m\n",
      "\u001b[0;32mpandas/_libs/parsers.pyx\u001b[0m in \u001b[0;36mpandas._libs.parsers.TextReader._string_convert\u001b[0;34m()\u001b[0m\n",
      "\u001b[0;32mpandas/_libs/parsers.pyx\u001b[0m in \u001b[0;36mpandas._libs.parsers._string_box_utf8\u001b[0;34m()\u001b[0m\n",
      "\u001b[0;31mUnicodeDecodeError\u001b[0m: 'utf-8' codec can't decode byte 0xa0 in position 0: invalid start byte"
     ]
    }
   ],
   "source": [
    "age_sex_data = pd.read_csv(\"../Folder1/Death_Counts_by_Sex_Age_and_State.csv\")"
   ]
  },
  {
   "cell_type": "code",
   "execution_count": null,
   "metadata": {},
   "outputs": [],
   "source": [
    "age_data = age_sex_data.loc[(age_sex_data['Sex'] == 'All Sexes')]\n",
    "#age_data = age_data.loc[age_data['State'] == 'United States']\n",
    "#age_data = age_data.loc[age_data['Age Group'] == '85 years and over']\n",
    "age_data = age_data.loc[age_data['Group']== 'By Total']\n",
    "age_data"
   ]
  },
  {
   "cell_type": "code",
   "execution_count": null,
   "metadata": {
    "scrolled": true
   },
   "outputs": [],
   "source": [
    "del age_data['Footnote']\n",
    "del age_data['Data As Of']\n",
    "del age_data['Sex']\n",
    "del age_data['Pneumonia Deaths']\n",
    "del age_data['Pneumonia and COVID-19 Deaths']\n",
    "del age_data['Influenza Deaths']\n",
    "del age_data['Pneumonia, Influenza, or COVID-19 Deaths']"
   ]
  },
  {
   "cell_type": "code",
   "execution_count": null,
   "metadata": {},
   "outputs": [],
   "source": [
    "age_data = age_data.fillna(0)\n",
    "#age_data.head()"
   ]
  },
  {
   "cell_type": "code",
   "execution_count": null,
   "metadata": {
    "scrolled": true
   },
   "outputs": [],
   "source": [
    "age_data = age_data.reset_index(drop=True)\n",
    "age_data"
   ]
  },
  {
   "cell_type": "code",
   "execution_count": null,
   "metadata": {},
   "outputs": [],
   "source": [
    "age_data.to_csv(\"../Folder2/us-age-data.csv\", index=False, header=True)"
   ]
  },
  {
   "cell_type": "code",
   "execution_count": null,
   "metadata": {},
   "outputs": [],
   "source": [
    "age_data.to_csv(\"../Folder2/age-data.csv\", index=False, header=True)"
   ]
  },
  {
   "cell_type": "markdown",
   "metadata": {},
   "source": [
    "CDC by sex\n"
   ]
  },
  {
   "cell_type": "code",
   "execution_count": null,
   "metadata": {},
   "outputs": [],
   "source": [
    "sex_data = pd.read_csv(\"../Folder1/Death_Counts_by_Sex_Age_and_State.csv\")\n",
    "#sex_data.head()"
   ]
  },
  {
   "cell_type": "code",
   "execution_count": null,
   "metadata": {},
   "outputs": [],
   "source": [
    "all_ages = sex_data.loc[sex_data['Age Group'] == 'All Ages']\n",
    "all_ages = all_ages.loc[all_ages['Group']=='By Total']\n",
    "sex_state = all_ages.loc[all_ages['State']!='Puerto Rico']\n",
    "sex_state = sex_state.loc[sex_state['State']!='United States']\n",
    "sex_state = sex_state.loc[sex_state['State']!='District of Columbia']\n",
    "sex_data = sex_state.loc[sex_state['Sex'] != 'All Sexes']"
   ]
  },
  {
   "cell_type": "code",
   "execution_count": null,
   "metadata": {},
   "outputs": [],
   "source": [
    "del sex_data['Footnote']\n",
    "del sex_data['Data As Of']\n",
    "del sex_data['Age Group']\n",
    "del sex_data['Pneumonia Deaths']\n",
    "del sex_data['Pneumonia and COVID-19 Deaths']\n",
    "del sex_data['Influenza Deaths']\n",
    "del sex_data['Pneumonia, Influenza, or COVID-19 Deaths']\n",
    "sex_data = sex_data.fillna(0)"
   ]
  },
  {
   "cell_type": "code",
   "execution_count": null,
   "metadata": {
    "scrolled": true
   },
   "outputs": [],
   "source": [
    "sex_data = sex_data.reset_index(drop=True)\n",
    "sex_data.head()"
   ]
  },
  {
   "cell_type": "code",
   "execution_count": null,
   "metadata": {},
   "outputs": [],
   "source": [
    "sex_data.to_csv(\"../Folder2/sex-data.csv\", index=False, header=True)"
   ]
  },
  {
   "cell_type": "markdown",
   "metadata": {},
   "source": [
    "Race Data from CDC"
   ]
  },
  {
   "cell_type": "code",
   "execution_count": 2,
   "metadata": {},
   "outputs": [
    {
     "ename": "NameError",
     "evalue": "name 'pd' is not defined",
     "output_type": "error",
     "traceback": [
      "\u001b[0;31m---------------------------------------------------------------------------\u001b[0m",
      "\u001b[0;31mNameError\u001b[0m                                 Traceback (most recent call last)",
      "\u001b[0;32m<ipython-input-2-408f9fc33d94>\u001b[0m in \u001b[0;36m<module>\u001b[0;34m\u001b[0m\n\u001b[0;32m----> 1\u001b[0;31m \u001b[0mrace_ethnicity_data\u001b[0m \u001b[0;34m=\u001b[0m \u001b[0mpd\u001b[0m\u001b[0;34m.\u001b[0m\u001b[0mread_csv\u001b[0m\u001b[0;34m(\u001b[0m\u001b[0;34m\"../Folder1/race-ethnicity.csv\"\u001b[0m\u001b[0;34m)\u001b[0m\u001b[0;34m\u001b[0m\u001b[0;34m\u001b[0m\u001b[0m\n\u001b[0m",
      "\u001b[0;31mNameError\u001b[0m: name 'pd' is not defined"
     ]
    }
   ],
   "source": [
    "race_ethnicity_data = pd.read_csv(\"../Folder1/race-ethnicity.csv\")"
   ]
  },
  {
   "cell_type": "code",
   "execution_count": 3,
   "metadata": {},
   "outputs": [
    {
     "ename": "NameError",
     "evalue": "name 'race_ethnicity_data' is not defined",
     "output_type": "error",
     "traceback": [
      "\u001b[0;31m---------------------------------------------------------------------------\u001b[0m",
      "\u001b[0;31mNameError\u001b[0m                                 Traceback (most recent call last)",
      "\u001b[0;32m<ipython-input-3-81e0af1f0d1d>\u001b[0m in \u001b[0;36m<module>\u001b[0;34m\u001b[0m\n\u001b[0;32m----> 1\u001b[0;31m \u001b[0;32mdel\u001b[0m \u001b[0mrace_ethnicity_data\u001b[0m\u001b[0;34m[\u001b[0m\u001b[0;34m'Footnote'\u001b[0m\u001b[0;34m]\u001b[0m\u001b[0;34m\u001b[0m\u001b[0;34m\u001b[0m\u001b[0m\n\u001b[0m\u001b[1;32m      2\u001b[0m \u001b[0;32mdel\u001b[0m \u001b[0mrace_ethnicity_data\u001b[0m\u001b[0;34m[\u001b[0m\u001b[0;34m'Data as of'\u001b[0m\u001b[0;34m]\u001b[0m\u001b[0;34m\u001b[0m\u001b[0;34m\u001b[0m\u001b[0m\n",
      "\u001b[0;31mNameError\u001b[0m: name 'race_ethnicity_data' is not defined"
     ]
    }
   ],
   "source": [
    "del race_ethnicity_data['Footnote']\n",
    "del race_ethnicity_data['Data as of']"
   ]
  },
  {
   "cell_type": "code",
   "execution_count": 4,
   "metadata": {},
   "outputs": [
    {
     "ename": "NameError",
     "evalue": "name 'race_ethnicity_data' is not defined",
     "output_type": "error",
     "traceback": [
      "\u001b[0;31m---------------------------------------------------------------------------\u001b[0m",
      "\u001b[0;31mNameError\u001b[0m                                 Traceback (most recent call last)",
      "\u001b[0;32m<ipython-input-4-3fb62a59d228>\u001b[0m in \u001b[0;36m<module>\u001b[0;34m\u001b[0m\n\u001b[0;32m----> 1\u001b[0;31m \u001b[0mrace_ethnicity_data\u001b[0m \u001b[0;34m=\u001b[0m \u001b[0mrace_ethnicity_data\u001b[0m\u001b[0;34m.\u001b[0m\u001b[0mloc\u001b[0m\u001b[0;34m[\u001b[0m\u001b[0;34m(\u001b[0m\u001b[0mrace_ethnicity_data\u001b[0m\u001b[0;34m[\u001b[0m\u001b[0;34m'Group'\u001b[0m\u001b[0;34m]\u001b[0m \u001b[0;34m==\u001b[0m \u001b[0;34m'By Total'\u001b[0m\u001b[0;34m)\u001b[0m\u001b[0;34m]\u001b[0m\u001b[0;34m\u001b[0m\u001b[0;34m\u001b[0m\u001b[0m\n\u001b[0m\u001b[1;32m      2\u001b[0m \u001b[0mrace_ethnicity_data\u001b[0m \u001b[0;34m=\u001b[0m \u001b[0mrace_ethnicity_data\u001b[0m\u001b[0;34m.\u001b[0m\u001b[0mloc\u001b[0m\u001b[0;34m[\u001b[0m\u001b[0;34m(\u001b[0m\u001b[0mrace_ethnicity_data\u001b[0m\u001b[0;34m[\u001b[0m\u001b[0;34m'State'\u001b[0m\u001b[0;34m]\u001b[0m \u001b[0;34m==\u001b[0m \u001b[0;34m'United States'\u001b[0m\u001b[0;34m)\u001b[0m\u001b[0;34m]\u001b[0m\u001b[0;34m\u001b[0m\u001b[0;34m\u001b[0m\u001b[0m\n\u001b[1;32m      3\u001b[0m \u001b[0;31m#race_ethnicity_data = race_ethnicity_data.loc[race_ethnicity_data['State']!='District of Columbia']\u001b[0m\u001b[0;34m\u001b[0m\u001b[0;34m\u001b[0m\u001b[0;34m\u001b[0m\u001b[0m\n\u001b[1;32m      4\u001b[0m \u001b[0;31m#race_ethnicity_data = race_ethnicity_data.loc[race_ethnicity_data['Indicator']!='Unweighted distribution of population (%)']\u001b[0m\u001b[0;34m\u001b[0m\u001b[0;34m\u001b[0m\u001b[0;34m\u001b[0m\u001b[0m\n\u001b[1;32m      5\u001b[0m \u001b[0mrace_ethnicity_data\u001b[0m \u001b[0;34m=\u001b[0m \u001b[0mrace_ethnicity_data\u001b[0m\u001b[0;34m.\u001b[0m\u001b[0mfillna\u001b[0m\u001b[0;34m(\u001b[0m\u001b[0;36m0\u001b[0m\u001b[0;34m)\u001b[0m\u001b[0;34m\u001b[0m\u001b[0;34m\u001b[0m\u001b[0m\n",
      "\u001b[0;31mNameError\u001b[0m: name 'race_ethnicity_data' is not defined"
     ]
    }
   ],
   "source": [
    "race_ethnicity_data = race_ethnicity_data.loc[(race_ethnicity_data['Group'] == 'By Total')]\n",
    "race_ethnicity_data = race_ethnicity_data.loc[(race_ethnicity_data['State'] == 'United States')]\n",
    "#race_ethnicity_data = race_ethnicity_data.loc[race_ethnicity_data['State']!='District of Columbia']\n",
    "#race_ethnicity_data = race_ethnicity_data.loc[race_ethnicity_data['Indicator']!='Unweighted distribution of population (%)']\n",
    "race_ethnicity_data = race_ethnicity_data.fillna(0)\n",
    "#race_ethnicity_data.head()"
   ]
  },
  {
   "cell_type": "code",
   "execution_count": null,
   "metadata": {
    "scrolled": false
   },
   "outputs": [],
   "source": [
    "race_ethnicity_data.rename(columns={\"Non-Hispanic White\": \"White\", \"Non-Hispanic Black or African American\": \"Black or African American\", \"Non-Hispanic American Indian or Alaska Native\":\n",
    "                               \"American Indian or Alaska Native\", \"Non-Hispanic Asian\": \"Asian\", \"Non-Hispanic Native Hawaiian or Other Pacific Islander\": \"Native Hawaiian or Other Pacific Islander\",\n",
    "                               \"Deaths_AIAN\": \"Deaths: AIAN\", \"Deaths_NHPI\": \"Deaths: NHPI\", \"Deaths_Multiracial\": \"Deaths: Multiracial\",\n",
    "                               \"Non Hispanic more than one race\": \"More Than One Race\"})\n",
    "race_ethnicity_data"
   ]
  },
  {
   "cell_type": "code",
   "execution_count": null,
   "metadata": {},
   "outputs": [],
   "source": [
    "distribution = race_ethnicity_data.loc[race_ethnicity_data['Indicator'] == 'Distribution of COVID-19 deaths (%)']\n",
    "distribution"
   ]
  },
  {
   "cell_type": "code",
   "execution_count": null,
   "metadata": {},
   "outputs": [],
   "source": []
  },
  {
   "cell_type": "code",
   "execution_count": null,
   "metadata": {},
   "outputs": [],
   "source": [
    "#dis_list = []\n",
    "#dis_list.append(white)\n",
    "#dis_list"
   ]
  },
  {
   "cell_type": "code",
   "execution_count": null,
   "metadata": {},
   "outputs": [],
   "source": [
    "race_ethnicity_data = race_ethnicity_data.reset_index(drop=True)"
   ]
  },
  {
   "cell_type": "code",
   "execution_count": null,
   "metadata": {},
   "outputs": [],
   "source": [
    "race_ethnicity_data.to_csv(\"../Folder2/race-population-data.csv\", index=False, header=True)"
   ]
  },
  {
   "cell_type": "markdown",
   "metadata": {},
   "source": [
    "trying to merge"
   ]
  },
  {
   "cell_type": "code",
   "execution_count": null,
   "metadata": {
    "scrolled": true
   },
   "outputs": [],
   "source": [
    "race_data = pd.read_csv(\"../Folder2/race-population-data.csv\")\n",
    "#race_data.head()"
   ]
  },
  {
   "cell_type": "code",
   "execution_count": 6,
   "metadata": {
    "scrolled": true
   },
   "outputs": [
    {
     "data": {
      "text/html": [
       "<div>\n",
       "<style scoped>\n",
       "    .dataframe tbody tr th:only-of-type {\n",
       "        vertical-align: middle;\n",
       "    }\n",
       "\n",
       "    .dataframe tbody tr th {\n",
       "        vertical-align: top;\n",
       "    }\n",
       "\n",
       "    .dataframe thead th {\n",
       "        text-align: right;\n",
       "    }\n",
       "</style>\n",
       "<table border=\"1\" class=\"dataframe\">\n",
       "  <thead>\n",
       "    <tr style=\"text-align: right;\">\n",
       "      <th></th>\n",
       "      <th>Start Date</th>\n",
       "      <th>End Date</th>\n",
       "      <th>Group</th>\n",
       "      <th>Year</th>\n",
       "      <th>Month</th>\n",
       "      <th>State</th>\n",
       "      <th>Age Group</th>\n",
       "      <th>COVID-19 Deaths</th>\n",
       "      <th>Total Deaths</th>\n",
       "    </tr>\n",
       "  </thead>\n",
       "  <tbody>\n",
       "    <tr>\n",
       "      <th>0</th>\n",
       "      <td>1/1/20</td>\n",
       "      <td>4/24/21</td>\n",
       "      <td>By Total</td>\n",
       "      <td>0.0</td>\n",
       "      <td>0.0</td>\n",
       "      <td>United States</td>\n",
       "      <td>All Ages</td>\n",
       "      <td>557486.0</td>\n",
       "      <td>4355577.0</td>\n",
       "    </tr>\n",
       "    <tr>\n",
       "      <th>1</th>\n",
       "      <td>1/1/20</td>\n",
       "      <td>4/24/21</td>\n",
       "      <td>By Total</td>\n",
       "      <td>0.0</td>\n",
       "      <td>0.0</td>\n",
       "      <td>United States</td>\n",
       "      <td>Under 1 year</td>\n",
       "      <td>66.0</td>\n",
       "      <td>23862.0</td>\n",
       "    </tr>\n",
       "    <tr>\n",
       "      <th>2</th>\n",
       "      <td>1/1/20</td>\n",
       "      <td>4/24/21</td>\n",
       "      <td>By Total</td>\n",
       "      <td>0.0</td>\n",
       "      <td>0.0</td>\n",
       "      <td>United States</td>\n",
       "      <td>0-17 years</td>\n",
       "      <td>277.0</td>\n",
       "      <td>41811.0</td>\n",
       "    </tr>\n",
       "    <tr>\n",
       "      <th>3</th>\n",
       "      <td>1/1/20</td>\n",
       "      <td>4/24/21</td>\n",
       "      <td>By Total</td>\n",
       "      <td>0.0</td>\n",
       "      <td>0.0</td>\n",
       "      <td>United States</td>\n",
       "      <td>1-4 years</td>\n",
       "      <td>34.0</td>\n",
       "      <td>4286.0</td>\n",
       "    </tr>\n",
       "    <tr>\n",
       "      <th>4</th>\n",
       "      <td>1/1/20</td>\n",
       "      <td>4/24/21</td>\n",
       "      <td>By Total</td>\n",
       "      <td>0.0</td>\n",
       "      <td>0.0</td>\n",
       "      <td>United States</td>\n",
       "      <td>5-14 years</td>\n",
       "      <td>98.0</td>\n",
       "      <td>6930.0</td>\n",
       "    </tr>\n",
       "    <tr>\n",
       "      <th>...</th>\n",
       "      <td>...</td>\n",
       "      <td>...</td>\n",
       "      <td>...</td>\n",
       "      <td>...</td>\n",
       "      <td>...</td>\n",
       "      <td>...</td>\n",
       "      <td>...</td>\n",
       "      <td>...</td>\n",
       "      <td>...</td>\n",
       "    </tr>\n",
       "    <tr>\n",
       "      <th>913</th>\n",
       "      <td>1/1/20</td>\n",
       "      <td>4/24/21</td>\n",
       "      <td>By Total</td>\n",
       "      <td>0.0</td>\n",
       "      <td>0.0</td>\n",
       "      <td>Puerto Rico</td>\n",
       "      <td>50-64 years</td>\n",
       "      <td>415.0</td>\n",
       "      <td>5183.0</td>\n",
       "    </tr>\n",
       "    <tr>\n",
       "      <th>914</th>\n",
       "      <td>1/1/20</td>\n",
       "      <td>4/24/21</td>\n",
       "      <td>By Total</td>\n",
       "      <td>0.0</td>\n",
       "      <td>0.0</td>\n",
       "      <td>Puerto Rico</td>\n",
       "      <td>55-64 years</td>\n",
       "      <td>305.0</td>\n",
       "      <td>4010.0</td>\n",
       "    </tr>\n",
       "    <tr>\n",
       "      <th>915</th>\n",
       "      <td>1/1/20</td>\n",
       "      <td>4/24/21</td>\n",
       "      <td>By Total</td>\n",
       "      <td>0.0</td>\n",
       "      <td>0.0</td>\n",
       "      <td>Puerto Rico</td>\n",
       "      <td>65-74 years</td>\n",
       "      <td>532.0</td>\n",
       "      <td>7076.0</td>\n",
       "    </tr>\n",
       "    <tr>\n",
       "      <th>916</th>\n",
       "      <td>1/1/20</td>\n",
       "      <td>4/24/21</td>\n",
       "      <td>By Total</td>\n",
       "      <td>0.0</td>\n",
       "      <td>0.0</td>\n",
       "      <td>Puerto Rico</td>\n",
       "      <td>75-84 years</td>\n",
       "      <td>575.0</td>\n",
       "      <td>9916.0</td>\n",
       "    </tr>\n",
       "    <tr>\n",
       "      <th>917</th>\n",
       "      <td>1/1/20</td>\n",
       "      <td>4/24/21</td>\n",
       "      <td>By Total</td>\n",
       "      <td>0.0</td>\n",
       "      <td>0.0</td>\n",
       "      <td>Puerto Rico</td>\n",
       "      <td>85 years and over</td>\n",
       "      <td>432.0</td>\n",
       "      <td>11018.0</td>\n",
       "    </tr>\n",
       "  </tbody>\n",
       "</table>\n",
       "<p>918 rows × 9 columns</p>\n",
       "</div>"
      ],
      "text/plain": [
       "    Start Date End Date     Group  Year  Month          State  \\\n",
       "0       1/1/20  4/24/21  By Total   0.0    0.0  United States   \n",
       "1       1/1/20  4/24/21  By Total   0.0    0.0  United States   \n",
       "2       1/1/20  4/24/21  By Total   0.0    0.0  United States   \n",
       "3       1/1/20  4/24/21  By Total   0.0    0.0  United States   \n",
       "4       1/1/20  4/24/21  By Total   0.0    0.0  United States   \n",
       "..         ...      ...       ...   ...    ...            ...   \n",
       "913     1/1/20  4/24/21  By Total   0.0    0.0    Puerto Rico   \n",
       "914     1/1/20  4/24/21  By Total   0.0    0.0    Puerto Rico   \n",
       "915     1/1/20  4/24/21  By Total   0.0    0.0    Puerto Rico   \n",
       "916     1/1/20  4/24/21  By Total   0.0    0.0    Puerto Rico   \n",
       "917     1/1/20  4/24/21  By Total   0.0    0.0    Puerto Rico   \n",
       "\n",
       "             Age Group  COVID-19 Deaths  Total Deaths  \n",
       "0             All Ages         557486.0     4355577.0  \n",
       "1         Under 1 year             66.0       23862.0  \n",
       "2           0-17 years            277.0       41811.0  \n",
       "3            1-4 years             34.0        4286.0  \n",
       "4           5-14 years             98.0        6930.0  \n",
       "..                 ...              ...           ...  \n",
       "913        50-64 years            415.0        5183.0  \n",
       "914        55-64 years            305.0        4010.0  \n",
       "915        65-74 years            532.0        7076.0  \n",
       "916        75-84 years            575.0        9916.0  \n",
       "917  85 years and over            432.0       11018.0  \n",
       "\n",
       "[918 rows x 9 columns]"
      ]
     },
     "execution_count": 6,
     "metadata": {},
     "output_type": "execute_result"
    }
   ],
   "source": [
    "age_data = pd.read_csv(\"../Folder2/us-age-data.csv\")\n",
    "age_data"
   ]
  },
  {
   "cell_type": "code",
   "execution_count": 7,
   "metadata": {
    "scrolled": true
   },
   "outputs": [],
   "source": [
    "age_data = age_data.loc[age_data['Age Group'] != \"18-29 years\"]\n",
    "age_data = age_data.loc[age_data['Age Group'] != \"0-17 years\"]\n",
    "age_data = age_data.loc[age_data['Age Group'] != \"Under 1 year\"]\n",
    "age_data = age_data.loc[age_data['Age Group'] != \"30-39 years\"]\n",
    "age_data = age_data.loc[age_data['Age Group'] != \"40-49 years\"]\n",
    "age_data = age_data.loc[age_data['Age Group'] != \"50-64 years\"]\n",
    "age_data = age_data.loc[age_data['State'] != \"Puerto Rico\"]\n",
    "age_data = age_data.loc[age_data['State'] != \"District of Columbia\"]\n",
    "age_data = age_data.loc[age_data['State'] != \"New York City\"]"
   ]
  },
  {
   "cell_type": "code",
   "execution_count": 8,
   "metadata": {},
   "outputs": [],
   "source": [
    "age_data['Age Group'] = age_data['Age Group'].replace(\n",
    "    {'1-4 years': 'Under 5 years'})"
   ]
  },
  {
   "cell_type": "code",
   "execution_count": 9,
   "metadata": {
    "scrolled": false
   },
   "outputs": [
    {
     "data": {
      "text/html": [
       "<div>\n",
       "<style scoped>\n",
       "    .dataframe tbody tr th:only-of-type {\n",
       "        vertical-align: middle;\n",
       "    }\n",
       "\n",
       "    .dataframe tbody tr th {\n",
       "        vertical-align: top;\n",
       "    }\n",
       "\n",
       "    .dataframe thead th {\n",
       "        text-align: right;\n",
       "    }\n",
       "</style>\n",
       "<table border=\"1\" class=\"dataframe\">\n",
       "  <thead>\n",
       "    <tr style=\"text-align: right;\">\n",
       "      <th></th>\n",
       "      <th>Start Date</th>\n",
       "      <th>End Date</th>\n",
       "      <th>Group</th>\n",
       "      <th>Year</th>\n",
       "      <th>Month</th>\n",
       "      <th>State</th>\n",
       "      <th>Age Group</th>\n",
       "      <th>COVID-19 Deaths</th>\n",
       "      <th>Total Deaths</th>\n",
       "    </tr>\n",
       "  </thead>\n",
       "  <tbody>\n",
       "    <tr>\n",
       "      <th>0</th>\n",
       "      <td>1/1/20</td>\n",
       "      <td>4/24/21</td>\n",
       "      <td>By Total</td>\n",
       "      <td>0.0</td>\n",
       "      <td>0.0</td>\n",
       "      <td>United States</td>\n",
       "      <td>All Ages</td>\n",
       "      <td>557486.0</td>\n",
       "      <td>4355577.0</td>\n",
       "    </tr>\n",
       "    <tr>\n",
       "      <th>3</th>\n",
       "      <td>1/1/20</td>\n",
       "      <td>4/24/21</td>\n",
       "      <td>By Total</td>\n",
       "      <td>0.0</td>\n",
       "      <td>0.0</td>\n",
       "      <td>United States</td>\n",
       "      <td>Under 5 years</td>\n",
       "      <td>34.0</td>\n",
       "      <td>4286.0</td>\n",
       "    </tr>\n",
       "    <tr>\n",
       "      <th>4</th>\n",
       "      <td>1/1/20</td>\n",
       "      <td>4/24/21</td>\n",
       "      <td>By Total</td>\n",
       "      <td>0.0</td>\n",
       "      <td>0.0</td>\n",
       "      <td>United States</td>\n",
       "      <td>5-14 years</td>\n",
       "      <td>98.0</td>\n",
       "      <td>6930.0</td>\n",
       "    </tr>\n",
       "    <tr>\n",
       "      <th>5</th>\n",
       "      <td>1/1/20</td>\n",
       "      <td>4/24/21</td>\n",
       "      <td>By Total</td>\n",
       "      <td>0.0</td>\n",
       "      <td>0.0</td>\n",
       "      <td>United States</td>\n",
       "      <td>15-24 years</td>\n",
       "      <td>844.0</td>\n",
       "      <td>44906.0</td>\n",
       "    </tr>\n",
       "    <tr>\n",
       "      <th>7</th>\n",
       "      <td>1/1/20</td>\n",
       "      <td>4/24/21</td>\n",
       "      <td>By Total</td>\n",
       "      <td>0.0</td>\n",
       "      <td>0.0</td>\n",
       "      <td>United States</td>\n",
       "      <td>25-34 years</td>\n",
       "      <td>3741.0</td>\n",
       "      <td>92911.0</td>\n",
       "    </tr>\n",
       "    <tr>\n",
       "      <th>...</th>\n",
       "      <td>...</td>\n",
       "      <td>...</td>\n",
       "      <td>...</td>\n",
       "      <td>...</td>\n",
       "      <td>...</td>\n",
       "      <td>...</td>\n",
       "      <td>...</td>\n",
       "      <td>...</td>\n",
       "      <td>...</td>\n",
       "    </tr>\n",
       "    <tr>\n",
       "      <th>895</th>\n",
       "      <td>1/1/20</td>\n",
       "      <td>4/24/21</td>\n",
       "      <td>By Total</td>\n",
       "      <td>0.0</td>\n",
       "      <td>0.0</td>\n",
       "      <td>Wyoming</td>\n",
       "      <td>45-54 years</td>\n",
       "      <td>24.0</td>\n",
       "      <td>371.0</td>\n",
       "    </tr>\n",
       "    <tr>\n",
       "      <th>897</th>\n",
       "      <td>1/1/20</td>\n",
       "      <td>4/24/21</td>\n",
       "      <td>By Total</td>\n",
       "      <td>0.0</td>\n",
       "      <td>0.0</td>\n",
       "      <td>Wyoming</td>\n",
       "      <td>55-64 years</td>\n",
       "      <td>60.0</td>\n",
       "      <td>942.0</td>\n",
       "    </tr>\n",
       "    <tr>\n",
       "      <th>898</th>\n",
       "      <td>1/1/20</td>\n",
       "      <td>4/24/21</td>\n",
       "      <td>By Total</td>\n",
       "      <td>0.0</td>\n",
       "      <td>0.0</td>\n",
       "      <td>Wyoming</td>\n",
       "      <td>65-74 years</td>\n",
       "      <td>137.0</td>\n",
       "      <td>1454.0</td>\n",
       "    </tr>\n",
       "    <tr>\n",
       "      <th>899</th>\n",
       "      <td>1/1/20</td>\n",
       "      <td>4/24/21</td>\n",
       "      <td>By Total</td>\n",
       "      <td>0.0</td>\n",
       "      <td>0.0</td>\n",
       "      <td>Wyoming</td>\n",
       "      <td>75-84 years</td>\n",
       "      <td>190.0</td>\n",
       "      <td>1739.0</td>\n",
       "    </tr>\n",
       "    <tr>\n",
       "      <th>900</th>\n",
       "      <td>1/1/20</td>\n",
       "      <td>4/24/21</td>\n",
       "      <td>By Total</td>\n",
       "      <td>0.0</td>\n",
       "      <td>0.0</td>\n",
       "      <td>Wyoming</td>\n",
       "      <td>85 years and over</td>\n",
       "      <td>198.0</td>\n",
       "      <td>1972.0</td>\n",
       "    </tr>\n",
       "  </tbody>\n",
       "</table>\n",
       "<p>561 rows × 9 columns</p>\n",
       "</div>"
      ],
      "text/plain": [
       "    Start Date End Date     Group  Year  Month          State  \\\n",
       "0       1/1/20  4/24/21  By Total   0.0    0.0  United States   \n",
       "3       1/1/20  4/24/21  By Total   0.0    0.0  United States   \n",
       "4       1/1/20  4/24/21  By Total   0.0    0.0  United States   \n",
       "5       1/1/20  4/24/21  By Total   0.0    0.0  United States   \n",
       "7       1/1/20  4/24/21  By Total   0.0    0.0  United States   \n",
       "..         ...      ...       ...   ...    ...            ...   \n",
       "895     1/1/20  4/24/21  By Total   0.0    0.0        Wyoming   \n",
       "897     1/1/20  4/24/21  By Total   0.0    0.0        Wyoming   \n",
       "898     1/1/20  4/24/21  By Total   0.0    0.0        Wyoming   \n",
       "899     1/1/20  4/24/21  By Total   0.0    0.0        Wyoming   \n",
       "900     1/1/20  4/24/21  By Total   0.0    0.0        Wyoming   \n",
       "\n",
       "             Age Group  COVID-19 Deaths  Total Deaths  \n",
       "0             All Ages         557486.0     4355577.0  \n",
       "3        Under 5 years             34.0        4286.0  \n",
       "4           5-14 years             98.0        6930.0  \n",
       "5          15-24 years            844.0       44906.0  \n",
       "7          25-34 years           3741.0       92911.0  \n",
       "..                 ...              ...           ...  \n",
       "895        45-54 years             24.0         371.0  \n",
       "897        55-64 years             60.0         942.0  \n",
       "898        65-74 years            137.0        1454.0  \n",
       "899        75-84 years            190.0        1739.0  \n",
       "900  85 years and over            198.0        1972.0  \n",
       "\n",
       "[561 rows x 9 columns]"
      ]
     },
     "execution_count": 9,
     "metadata": {},
     "output_type": "execute_result"
    }
   ],
   "source": [
    "age_data"
   ]
  },
  {
   "cell_type": "code",
   "execution_count": 10,
   "metadata": {},
   "outputs": [],
   "source": [
    "del age_data['Month']\n",
    "del age_data['Year']"
   ]
  },
  {
   "cell_type": "code",
   "execution_count": 11,
   "metadata": {},
   "outputs": [
    {
     "data": {
      "text/html": [
       "<div>\n",
       "<style scoped>\n",
       "    .dataframe tbody tr th:only-of-type {\n",
       "        vertical-align: middle;\n",
       "    }\n",
       "\n",
       "    .dataframe tbody tr th {\n",
       "        vertical-align: top;\n",
       "    }\n",
       "\n",
       "    .dataframe thead th {\n",
       "        text-align: right;\n",
       "    }\n",
       "</style>\n",
       "<table border=\"1\" class=\"dataframe\">\n",
       "  <thead>\n",
       "    <tr style=\"text-align: right;\">\n",
       "      <th></th>\n",
       "      <th>Start Date</th>\n",
       "      <th>End Date</th>\n",
       "      <th>Group</th>\n",
       "      <th>State</th>\n",
       "      <th>Age Group</th>\n",
       "      <th>COVID-19 Deaths</th>\n",
       "      <th>Total Deaths</th>\n",
       "    </tr>\n",
       "  </thead>\n",
       "  <tbody>\n",
       "    <tr>\n",
       "      <th>0</th>\n",
       "      <td>1/1/20</td>\n",
       "      <td>4/24/21</td>\n",
       "      <td>By Total</td>\n",
       "      <td>United States</td>\n",
       "      <td>All Ages</td>\n",
       "      <td>557486.0</td>\n",
       "      <td>4355577.0</td>\n",
       "    </tr>\n",
       "    <tr>\n",
       "      <th>3</th>\n",
       "      <td>1/1/20</td>\n",
       "      <td>4/24/21</td>\n",
       "      <td>By Total</td>\n",
       "      <td>United States</td>\n",
       "      <td>Under 5 years</td>\n",
       "      <td>34.0</td>\n",
       "      <td>4286.0</td>\n",
       "    </tr>\n",
       "    <tr>\n",
       "      <th>4</th>\n",
       "      <td>1/1/20</td>\n",
       "      <td>4/24/21</td>\n",
       "      <td>By Total</td>\n",
       "      <td>United States</td>\n",
       "      <td>5-14 years</td>\n",
       "      <td>98.0</td>\n",
       "      <td>6930.0</td>\n",
       "    </tr>\n",
       "    <tr>\n",
       "      <th>5</th>\n",
       "      <td>1/1/20</td>\n",
       "      <td>4/24/21</td>\n",
       "      <td>By Total</td>\n",
       "      <td>United States</td>\n",
       "      <td>15-24 years</td>\n",
       "      <td>844.0</td>\n",
       "      <td>44906.0</td>\n",
       "    </tr>\n",
       "    <tr>\n",
       "      <th>7</th>\n",
       "      <td>1/1/20</td>\n",
       "      <td>4/24/21</td>\n",
       "      <td>By Total</td>\n",
       "      <td>United States</td>\n",
       "      <td>25-34 years</td>\n",
       "      <td>3741.0</td>\n",
       "      <td>92911.0</td>\n",
       "    </tr>\n",
       "    <tr>\n",
       "      <th>...</th>\n",
       "      <td>...</td>\n",
       "      <td>...</td>\n",
       "      <td>...</td>\n",
       "      <td>...</td>\n",
       "      <td>...</td>\n",
       "      <td>...</td>\n",
       "      <td>...</td>\n",
       "    </tr>\n",
       "    <tr>\n",
       "      <th>895</th>\n",
       "      <td>1/1/20</td>\n",
       "      <td>4/24/21</td>\n",
       "      <td>By Total</td>\n",
       "      <td>Wyoming</td>\n",
       "      <td>45-54 years</td>\n",
       "      <td>24.0</td>\n",
       "      <td>371.0</td>\n",
       "    </tr>\n",
       "    <tr>\n",
       "      <th>897</th>\n",
       "      <td>1/1/20</td>\n",
       "      <td>4/24/21</td>\n",
       "      <td>By Total</td>\n",
       "      <td>Wyoming</td>\n",
       "      <td>55-64 years</td>\n",
       "      <td>60.0</td>\n",
       "      <td>942.0</td>\n",
       "    </tr>\n",
       "    <tr>\n",
       "      <th>898</th>\n",
       "      <td>1/1/20</td>\n",
       "      <td>4/24/21</td>\n",
       "      <td>By Total</td>\n",
       "      <td>Wyoming</td>\n",
       "      <td>65-74 years</td>\n",
       "      <td>137.0</td>\n",
       "      <td>1454.0</td>\n",
       "    </tr>\n",
       "    <tr>\n",
       "      <th>899</th>\n",
       "      <td>1/1/20</td>\n",
       "      <td>4/24/21</td>\n",
       "      <td>By Total</td>\n",
       "      <td>Wyoming</td>\n",
       "      <td>75-84 years</td>\n",
       "      <td>190.0</td>\n",
       "      <td>1739.0</td>\n",
       "    </tr>\n",
       "    <tr>\n",
       "      <th>900</th>\n",
       "      <td>1/1/20</td>\n",
       "      <td>4/24/21</td>\n",
       "      <td>By Total</td>\n",
       "      <td>Wyoming</td>\n",
       "      <td>85 years and over</td>\n",
       "      <td>198.0</td>\n",
       "      <td>1972.0</td>\n",
       "    </tr>\n",
       "  </tbody>\n",
       "</table>\n",
       "<p>561 rows × 7 columns</p>\n",
       "</div>"
      ],
      "text/plain": [
       "    Start Date End Date     Group          State          Age Group  \\\n",
       "0       1/1/20  4/24/21  By Total  United States           All Ages   \n",
       "3       1/1/20  4/24/21  By Total  United States      Under 5 years   \n",
       "4       1/1/20  4/24/21  By Total  United States         5-14 years   \n",
       "5       1/1/20  4/24/21  By Total  United States        15-24 years   \n",
       "7       1/1/20  4/24/21  By Total  United States        25-34 years   \n",
       "..         ...      ...       ...            ...                ...   \n",
       "895     1/1/20  4/24/21  By Total        Wyoming        45-54 years   \n",
       "897     1/1/20  4/24/21  By Total        Wyoming        55-64 years   \n",
       "898     1/1/20  4/24/21  By Total        Wyoming        65-74 years   \n",
       "899     1/1/20  4/24/21  By Total        Wyoming        75-84 years   \n",
       "900     1/1/20  4/24/21  By Total        Wyoming  85 years and over   \n",
       "\n",
       "     COVID-19 Deaths  Total Deaths  \n",
       "0           557486.0     4355577.0  \n",
       "3               34.0        4286.0  \n",
       "4               98.0        6930.0  \n",
       "5              844.0       44906.0  \n",
       "7             3741.0       92911.0  \n",
       "..               ...           ...  \n",
       "895             24.0         371.0  \n",
       "897             60.0         942.0  \n",
       "898            137.0        1454.0  \n",
       "899            190.0        1739.0  \n",
       "900            198.0        1972.0  \n",
       "\n",
       "[561 rows x 7 columns]"
      ]
     },
     "execution_count": 11,
     "metadata": {},
     "output_type": "execute_result"
    }
   ],
   "source": [
    "age_data"
   ]
  },
  {
   "cell_type": "code",
   "execution_count": 12,
   "metadata": {},
   "outputs": [],
   "source": [
    "pop_data = pd.read_csv(\"../Folder2/Population_byCDCAgeGroup_byState.csv\")"
   ]
  },
  {
   "cell_type": "code",
   "execution_count": 13,
   "metadata": {
    "scrolled": true
   },
   "outputs": [],
   "source": [
    "pop_data = pop_data.rename(columns={\"CDC_AgeGroups\":\"Age Group\"})\n",
    "totals = pop_data.loc[pop_data['Age Group']=='Total']\n"
   ]
  },
  {
   "cell_type": "code",
   "execution_count": 14,
   "metadata": {
    "scrolled": true
   },
   "outputs": [],
   "source": [
    "merged_df = pd.merge(age_data, pop_data,  how='left', left_on=['State','Age Group'], right_on = ['State','Age Group'])"
   ]
  },
  {
   "cell_type": "code",
   "execution_count": 15,
   "metadata": {
    "scrolled": false
   },
   "outputs": [
    {
     "data": {
      "text/html": [
       "<div>\n",
       "<style scoped>\n",
       "    .dataframe tbody tr th:only-of-type {\n",
       "        vertical-align: middle;\n",
       "    }\n",
       "\n",
       "    .dataframe tbody tr th {\n",
       "        vertical-align: top;\n",
       "    }\n",
       "\n",
       "    .dataframe thead th {\n",
       "        text-align: right;\n",
       "    }\n",
       "</style>\n",
       "<table border=\"1\" class=\"dataframe\">\n",
       "  <thead>\n",
       "    <tr style=\"text-align: right;\">\n",
       "      <th></th>\n",
       "      <th>Start Date</th>\n",
       "      <th>End Date</th>\n",
       "      <th>Group</th>\n",
       "      <th>State</th>\n",
       "      <th>Age Group</th>\n",
       "      <th>COVID-19 Deaths</th>\n",
       "      <th>Total Deaths</th>\n",
       "      <th>Population</th>\n",
       "    </tr>\n",
       "  </thead>\n",
       "  <tbody>\n",
       "    <tr>\n",
       "      <th>1</th>\n",
       "      <td>1/1/20</td>\n",
       "      <td>4/24/21</td>\n",
       "      <td>By Total</td>\n",
       "      <td>United States</td>\n",
       "      <td>Under 5 years</td>\n",
       "      <td>34.0</td>\n",
       "      <td>4286.0</td>\n",
       "      <td>NaN</td>\n",
       "    </tr>\n",
       "    <tr>\n",
       "      <th>2</th>\n",
       "      <td>1/1/20</td>\n",
       "      <td>4/24/21</td>\n",
       "      <td>By Total</td>\n",
       "      <td>United States</td>\n",
       "      <td>5-14 years</td>\n",
       "      <td>98.0</td>\n",
       "      <td>6930.0</td>\n",
       "      <td>NaN</td>\n",
       "    </tr>\n",
       "    <tr>\n",
       "      <th>3</th>\n",
       "      <td>1/1/20</td>\n",
       "      <td>4/24/21</td>\n",
       "      <td>By Total</td>\n",
       "      <td>United States</td>\n",
       "      <td>15-24 years</td>\n",
       "      <td>844.0</td>\n",
       "      <td>44906.0</td>\n",
       "      <td>NaN</td>\n",
       "    </tr>\n",
       "    <tr>\n",
       "      <th>4</th>\n",
       "      <td>1/1/20</td>\n",
       "      <td>4/24/21</td>\n",
       "      <td>By Total</td>\n",
       "      <td>United States</td>\n",
       "      <td>25-34 years</td>\n",
       "      <td>3741.0</td>\n",
       "      <td>92911.0</td>\n",
       "      <td>NaN</td>\n",
       "    </tr>\n",
       "    <tr>\n",
       "      <th>5</th>\n",
       "      <td>1/1/20</td>\n",
       "      <td>4/24/21</td>\n",
       "      <td>By Total</td>\n",
       "      <td>United States</td>\n",
       "      <td>35-44 years</td>\n",
       "      <td>9724.0</td>\n",
       "      <td>133834.0</td>\n",
       "      <td>NaN</td>\n",
       "    </tr>\n",
       "    <tr>\n",
       "      <th>...</th>\n",
       "      <td>...</td>\n",
       "      <td>...</td>\n",
       "      <td>...</td>\n",
       "      <td>...</td>\n",
       "      <td>...</td>\n",
       "      <td>...</td>\n",
       "      <td>...</td>\n",
       "      <td>...</td>\n",
       "    </tr>\n",
       "    <tr>\n",
       "      <th>556</th>\n",
       "      <td>1/1/20</td>\n",
       "      <td>4/24/21</td>\n",
       "      <td>By Total</td>\n",
       "      <td>Wyoming</td>\n",
       "      <td>45-54 years</td>\n",
       "      <td>24.0</td>\n",
       "      <td>371.0</td>\n",
       "      <td>63853.0</td>\n",
       "    </tr>\n",
       "    <tr>\n",
       "      <th>557</th>\n",
       "      <td>1/1/20</td>\n",
       "      <td>4/24/21</td>\n",
       "      <td>By Total</td>\n",
       "      <td>Wyoming</td>\n",
       "      <td>55-64 years</td>\n",
       "      <td>60.0</td>\n",
       "      <td>942.0</td>\n",
       "      <td>78754.0</td>\n",
       "    </tr>\n",
       "    <tr>\n",
       "      <th>558</th>\n",
       "      <td>1/1/20</td>\n",
       "      <td>4/24/21</td>\n",
       "      <td>By Total</td>\n",
       "      <td>Wyoming</td>\n",
       "      <td>65-74 years</td>\n",
       "      <td>137.0</td>\n",
       "      <td>1454.0</td>\n",
       "      <td>60590.0</td>\n",
       "    </tr>\n",
       "    <tr>\n",
       "      <th>559</th>\n",
       "      <td>1/1/20</td>\n",
       "      <td>4/24/21</td>\n",
       "      <td>By Total</td>\n",
       "      <td>Wyoming</td>\n",
       "      <td>75-84 years</td>\n",
       "      <td>190.0</td>\n",
       "      <td>1739.0</td>\n",
       "      <td>27598.0</td>\n",
       "    </tr>\n",
       "    <tr>\n",
       "      <th>560</th>\n",
       "      <td>1/1/20</td>\n",
       "      <td>4/24/21</td>\n",
       "      <td>By Total</td>\n",
       "      <td>Wyoming</td>\n",
       "      <td>85 years and over</td>\n",
       "      <td>198.0</td>\n",
       "      <td>1972.0</td>\n",
       "      <td>10991.0</td>\n",
       "    </tr>\n",
       "  </tbody>\n",
       "</table>\n",
       "<p>510 rows × 8 columns</p>\n",
       "</div>"
      ],
      "text/plain": [
       "    Start Date End Date     Group          State          Age Group  \\\n",
       "1       1/1/20  4/24/21  By Total  United States      Under 5 years   \n",
       "2       1/1/20  4/24/21  By Total  United States         5-14 years   \n",
       "3       1/1/20  4/24/21  By Total  United States        15-24 years   \n",
       "4       1/1/20  4/24/21  By Total  United States        25-34 years   \n",
       "5       1/1/20  4/24/21  By Total  United States        35-44 years   \n",
       "..         ...      ...       ...            ...                ...   \n",
       "556     1/1/20  4/24/21  By Total        Wyoming        45-54 years   \n",
       "557     1/1/20  4/24/21  By Total        Wyoming        55-64 years   \n",
       "558     1/1/20  4/24/21  By Total        Wyoming        65-74 years   \n",
       "559     1/1/20  4/24/21  By Total        Wyoming        75-84 years   \n",
       "560     1/1/20  4/24/21  By Total        Wyoming  85 years and over   \n",
       "\n",
       "     COVID-19 Deaths  Total Deaths  Population  \n",
       "1               34.0        4286.0         NaN  \n",
       "2               98.0        6930.0         NaN  \n",
       "3              844.0       44906.0         NaN  \n",
       "4             3741.0       92911.0         NaN  \n",
       "5             9724.0      133834.0         NaN  \n",
       "..               ...           ...         ...  \n",
       "556             24.0         371.0     63853.0  \n",
       "557             60.0         942.0     78754.0  \n",
       "558            137.0        1454.0     60590.0  \n",
       "559            190.0        1739.0     27598.0  \n",
       "560            198.0        1972.0     10991.0  \n",
       "\n",
       "[510 rows x 8 columns]"
      ]
     },
     "execution_count": 15,
     "metadata": {},
     "output_type": "execute_result"
    }
   ],
   "source": [
    "#merged_df = merged_df.loc[merged_df['State']!='United States']\n",
    "merged_df = merged_df.loc[merged_df['Age Group']!='All Ages']\n",
    "merged_df"
   ]
  },
  {
   "cell_type": "code",
   "execution_count": 16,
   "metadata": {},
   "outputs": [],
   "source": [
    "\n",
    "del merged_df['Total Deaths']"
   ]
  },
  {
   "cell_type": "code",
   "execution_count": 17,
   "metadata": {
    "scrolled": true
   },
   "outputs": [
    {
     "data": {
      "text/html": [
       "<div>\n",
       "<style scoped>\n",
       "    .dataframe tbody tr th:only-of-type {\n",
       "        vertical-align: middle;\n",
       "    }\n",
       "\n",
       "    .dataframe tbody tr th {\n",
       "        vertical-align: top;\n",
       "    }\n",
       "\n",
       "    .dataframe thead th {\n",
       "        text-align: right;\n",
       "    }\n",
       "</style>\n",
       "<table border=\"1\" class=\"dataframe\">\n",
       "  <thead>\n",
       "    <tr style=\"text-align: right;\">\n",
       "      <th></th>\n",
       "      <th>Start Date</th>\n",
       "      <th>End Date</th>\n",
       "      <th>Group</th>\n",
       "      <th>State</th>\n",
       "      <th>Age Group</th>\n",
       "      <th>COVID-19 Deaths</th>\n",
       "      <th>Population</th>\n",
       "    </tr>\n",
       "  </thead>\n",
       "  <tbody>\n",
       "    <tr>\n",
       "      <th>1</th>\n",
       "      <td>1/1/20</td>\n",
       "      <td>4/24/21</td>\n",
       "      <td>By Total</td>\n",
       "      <td>United States</td>\n",
       "      <td>Under 5 years</td>\n",
       "      <td>34.0</td>\n",
       "      <td>NaN</td>\n",
       "    </tr>\n",
       "    <tr>\n",
       "      <th>2</th>\n",
       "      <td>1/1/20</td>\n",
       "      <td>4/24/21</td>\n",
       "      <td>By Total</td>\n",
       "      <td>United States</td>\n",
       "      <td>5-14 years</td>\n",
       "      <td>98.0</td>\n",
       "      <td>NaN</td>\n",
       "    </tr>\n",
       "    <tr>\n",
       "      <th>3</th>\n",
       "      <td>1/1/20</td>\n",
       "      <td>4/24/21</td>\n",
       "      <td>By Total</td>\n",
       "      <td>United States</td>\n",
       "      <td>15-24 years</td>\n",
       "      <td>844.0</td>\n",
       "      <td>NaN</td>\n",
       "    </tr>\n",
       "    <tr>\n",
       "      <th>4</th>\n",
       "      <td>1/1/20</td>\n",
       "      <td>4/24/21</td>\n",
       "      <td>By Total</td>\n",
       "      <td>United States</td>\n",
       "      <td>25-34 years</td>\n",
       "      <td>3741.0</td>\n",
       "      <td>NaN</td>\n",
       "    </tr>\n",
       "    <tr>\n",
       "      <th>5</th>\n",
       "      <td>1/1/20</td>\n",
       "      <td>4/24/21</td>\n",
       "      <td>By Total</td>\n",
       "      <td>United States</td>\n",
       "      <td>35-44 years</td>\n",
       "      <td>9724.0</td>\n",
       "      <td>NaN</td>\n",
       "    </tr>\n",
       "    <tr>\n",
       "      <th>...</th>\n",
       "      <td>...</td>\n",
       "      <td>...</td>\n",
       "      <td>...</td>\n",
       "      <td>...</td>\n",
       "      <td>...</td>\n",
       "      <td>...</td>\n",
       "      <td>...</td>\n",
       "    </tr>\n",
       "    <tr>\n",
       "      <th>556</th>\n",
       "      <td>1/1/20</td>\n",
       "      <td>4/24/21</td>\n",
       "      <td>By Total</td>\n",
       "      <td>Wyoming</td>\n",
       "      <td>45-54 years</td>\n",
       "      <td>24.0</td>\n",
       "      <td>63853.0</td>\n",
       "    </tr>\n",
       "    <tr>\n",
       "      <th>557</th>\n",
       "      <td>1/1/20</td>\n",
       "      <td>4/24/21</td>\n",
       "      <td>By Total</td>\n",
       "      <td>Wyoming</td>\n",
       "      <td>55-64 years</td>\n",
       "      <td>60.0</td>\n",
       "      <td>78754.0</td>\n",
       "    </tr>\n",
       "    <tr>\n",
       "      <th>558</th>\n",
       "      <td>1/1/20</td>\n",
       "      <td>4/24/21</td>\n",
       "      <td>By Total</td>\n",
       "      <td>Wyoming</td>\n",
       "      <td>65-74 years</td>\n",
       "      <td>137.0</td>\n",
       "      <td>60590.0</td>\n",
       "    </tr>\n",
       "    <tr>\n",
       "      <th>559</th>\n",
       "      <td>1/1/20</td>\n",
       "      <td>4/24/21</td>\n",
       "      <td>By Total</td>\n",
       "      <td>Wyoming</td>\n",
       "      <td>75-84 years</td>\n",
       "      <td>190.0</td>\n",
       "      <td>27598.0</td>\n",
       "    </tr>\n",
       "    <tr>\n",
       "      <th>560</th>\n",
       "      <td>1/1/20</td>\n",
       "      <td>4/24/21</td>\n",
       "      <td>By Total</td>\n",
       "      <td>Wyoming</td>\n",
       "      <td>85 years and over</td>\n",
       "      <td>198.0</td>\n",
       "      <td>10991.0</td>\n",
       "    </tr>\n",
       "  </tbody>\n",
       "</table>\n",
       "<p>510 rows × 7 columns</p>\n",
       "</div>"
      ],
      "text/plain": [
       "    Start Date End Date     Group          State          Age Group  \\\n",
       "1       1/1/20  4/24/21  By Total  United States      Under 5 years   \n",
       "2       1/1/20  4/24/21  By Total  United States         5-14 years   \n",
       "3       1/1/20  4/24/21  By Total  United States        15-24 years   \n",
       "4       1/1/20  4/24/21  By Total  United States        25-34 years   \n",
       "5       1/1/20  4/24/21  By Total  United States        35-44 years   \n",
       "..         ...      ...       ...            ...                ...   \n",
       "556     1/1/20  4/24/21  By Total        Wyoming        45-54 years   \n",
       "557     1/1/20  4/24/21  By Total        Wyoming        55-64 years   \n",
       "558     1/1/20  4/24/21  By Total        Wyoming        65-74 years   \n",
       "559     1/1/20  4/24/21  By Total        Wyoming        75-84 years   \n",
       "560     1/1/20  4/24/21  By Total        Wyoming  85 years and over   \n",
       "\n",
       "     COVID-19 Deaths  Population  \n",
       "1               34.0         NaN  \n",
       "2               98.0         NaN  \n",
       "3              844.0         NaN  \n",
       "4             3741.0         NaN  \n",
       "5             9724.0         NaN  \n",
       "..               ...         ...  \n",
       "556             24.0     63853.0  \n",
       "557             60.0     78754.0  \n",
       "558            137.0     60590.0  \n",
       "559            190.0     27598.0  \n",
       "560            198.0     10991.0  \n",
       "\n",
       "[510 rows x 7 columns]"
      ]
     },
     "execution_count": 17,
     "metadata": {},
     "output_type": "execute_result"
    }
   ],
   "source": [
    "merged_df"
   ]
  },
  {
   "cell_type": "code",
   "execution_count": 18,
   "metadata": {},
   "outputs": [],
   "source": [
    "merged_df.to_csv(\"../Folder3/age-pop-state.csv\", index=False, header=True)"
   ]
  },
  {
   "cell_type": "code",
   "execution_count": null,
   "metadata": {},
   "outputs": [],
   "source": [
    "groupby_df = merged_df.groupby(['State'])\n",
    "groupby_df.head()"
   ]
  },
  {
   "cell_type": "code",
   "execution_count": null,
   "metadata": {},
   "outputs": [],
   "source": [
    "state_name = []\n",
    "age_group = []\n",
    "population = []"
   ]
  },
  {
   "cell_type": "code",
   "execution_count": null,
   "metadata": {
    "scrolled": true
   },
   "outputs": [],
   "source": [
    "state_name = merged_df['State'].tolist()\n",
    "age_group = merged_df['Age Group'].tolist()\n",
    "population = merged_df['Population'].tolist()"
   ]
  },
  {
   "cell_type": "code",
   "execution_count": null,
   "metadata": {},
   "outputs": [],
   "source": []
  },
  {
   "cell_type": "code",
   "execution_count": null,
   "metadata": {},
   "outputs": [],
   "source": []
  },
  {
   "cell_type": "code",
   "execution_count": null,
   "metadata": {
    "scrolled": true
   },
   "outputs": [],
   "source": [
    "\n",
    "#alaska_pop = (alaska_df['Population']/731545.0)*100\n"
   ]
  },
  {
   "cell_type": "code",
   "execution_count": null,
   "metadata": {},
   "outputs": [],
   "source": [
    "sum_state = groupby_df[\"Population\"].sum()\n",
    "sum_state"
   ]
  },
  {
   "cell_type": "code",
   "execution_count": null,
   "metadata": {},
   "outputs": [],
   "source": []
  },
  {
   "cell_type": "code",
   "execution_count": null,
   "metadata": {
    "scrolled": true
   },
   "outputs": [],
   "source": [
    "age_data2 = pd.read_csv(\"../Folder1/Death_Counts_by_Sex_Age_and_State.csv\")"
   ]
  },
  {
   "cell_type": "code",
   "execution_count": null,
   "metadata": {},
   "outputs": [],
   "source": [
    "age_data2 = age_data2.loc[(age_data2['Sex'] == 'All Sexes')]\n",
    "age_data2 = age_data2.loc[age_data2['State'] == 'United States']\n",
    "#age_data = age_data.loc[age_data['Age Group'] == '85 years and over']\n",
    "age_data2 = age_data2.loc[age_data2['Group']== 'By Total']\n",
    "age_data2 = age_data2.loc[age_data2['Age Group'] != \"18-29 years\"]\n",
    "age_data2 = age_data2.loc[age_data2['Age Group'] != \"0-17 years\"]\n",
    "age_data2 = age_data2.loc[age_data2['Age Group'] != \"Under 1 year\"]\n",
    "age_data2 = age_data2.loc[age_data2['Age Group'] != \"30-39 years\"]\n",
    "age_data2 = age_data2.loc[age_data2['Age Group'] != \"40-49 years\"]\n",
    "age_data2 = age_data2.loc[age_data2['Age Group'] != \"50-64 years\"]\n",
    "age_data2 = age_data2.loc[age_data2['State'] != \"Puerto Rico\"]\n",
    "age_data2 = age_data2.loc[age_data2['State'] != \"District of Columbia\"]\n",
    "age_data2 = age_data2.loc[age_data2['State'] != \"New York City\"]\n",
    "del age_data2['Footnote']\n",
    "del age_data2['Data As Of']\n",
    "del age_data2['Sex']\n",
    "del age_data2['Pneumonia Deaths']\n",
    "del age_data2['Pneumonia and COVID-19 Deaths']\n",
    "del age_data2['Influenza Deaths']\n",
    "del age_data2['Month']\n",
    "del age_data2['Year']\n",
    "del age_data2['Pneumonia, Influenza, or COVID-19 Deaths']\n",
    "#age_data2"
   ]
  },
  {
   "cell_type": "code",
   "execution_count": null,
   "metadata": {
    "scrolled": false
   },
   "outputs": [],
   "source": [
    "pop_list = []\n",
    "pop_list.append(total_pop)\n",
    "pop_list.append(under_pop)\n",
    "pop_list.append(years_5_14_sum)\n",
    "pop_list.append(years_15_24_sum)\n",
    "pop_list.append(years_25_34_sum)\n",
    "pop_list.append(years_35_44_sum)\n",
    "pop_list.append(years_45_54_sum)\n",
    "pop_list.append(years_55_64_sum)\n",
    "pop_list.append(years_65_74_sum)\n",
    "pop_list.append(years_75_84_sum)\n",
    "pop_list.append(years_85_sum)\n",
    "#pop_list"
   ]
  },
  {
   "cell_type": "code",
   "execution_count": null,
   "metadata": {},
   "outputs": [],
   "source": [
    "total_data= pop_data.loc[pop_data['Age Group']=='Total']\n",
    "total_pop = total_data['Population'].sum()\n",
    "under_data= pop_data.loc[pop_data['Age Group']=='Under 5 years']\n",
    "under_pop = under_data['Population'].sum()\n",
    "years_5_14 = pop_data.loc[pop_data['Age Group']=='5-14 years']\n",
    "years_5_14_sum = years_5_14['Population'].sum()\n",
    "years_15_24 = pop_data.loc[pop_data['Age Group']=='15-24 years']\n",
    "years_15_24_sum = years_15_24['Population'].sum()\n",
    "years_25_34 = pop_data.loc[pop_data['Age Group']=='25-34 years']\n",
    "years_25_34_sum = years_25_34['Population'].sum()\n",
    "years_35_44 = pop_data.loc[pop_data['Age Group']=='35-44 years']\n",
    "years_35_44_sum = years_35_44['Population'].sum()\n",
    "years_45_54 = pop_data.loc[pop_data['Age Group']=='45-54 years']\n",
    "years_45_54_sum = years_45_54['Population'].sum()\n",
    "years_55_64 = pop_data.loc[pop_data['Age Group']=='55-64 years']\n",
    "years_55_64_sum = years_55_64['Population'].sum()\n",
    "years_65_74 = pop_data.loc[pop_data['Age Group']=='65-74 years']\n",
    "years_65_74_sum = years_65_74['Population'].sum()\n",
    "years_75_84 = pop_data.loc[pop_data['Age Group']=='75-84 years']\n",
    "years_75_84_sum = years_75_84['Population'].sum()\n",
    "years_85 = pop_data.loc[pop_data['Age Group']=='85 years and over']\n",
    "years_85_sum = years_85['Population'].sum()"
   ]
  },
  {
   "cell_type": "code",
   "execution_count": null,
   "metadata": {
    "scrolled": true
   },
   "outputs": [],
   "source": [
    "age_data2[\"Population by Age Group\"] = pop_list\n",
    "age_data2"
   ]
  },
  {
   "cell_type": "code",
   "execution_count": null,
   "metadata": {},
   "outputs": [],
   "source": [
    "death_rate = age_data2['COVID-19 Deaths']/age_data2['Population by Age Group'] * 100"
   ]
  },
  {
   "cell_type": "code",
   "execution_count": null,
   "metadata": {
    "scrolled": false
   },
   "outputs": [],
   "source": [
    "age_data2[\"COVID-19 Death Rate\"] = death_rate\n",
    "age_data2"
   ]
  },
  {
   "cell_type": "code",
   "execution_count": null,
   "metadata": {},
   "outputs": [],
   "source": [
    "population_perc = (age_data2['Population by Age Group']/327533774.0)*100\n",
    "#population_perc"
   ]
  },
  {
   "cell_type": "code",
   "execution_count": null,
   "metadata": {},
   "outputs": [],
   "source": [
    "age_data2[\"Population %\"] = population_perc\n",
    "age_data2"
   ]
  },
  {
   "cell_type": "code",
   "execution_count": null,
   "metadata": {},
   "outputs": [],
   "source": [
    "covid_death_rate = (age_data2['COVID-19 Deaths']/557486.0)*100\n",
    "age_data2[\"COVID-19 Death Rate by Age\"] = covid_death_rate\n",
    "age_data2"
   ]
  },
  {
   "cell_type": "code",
   "execution_count": null,
   "metadata": {},
   "outputs": [],
   "source": [
    "age_data2.to_csv(\"../Folder2/final-us-age-data.csv\", index=False, header=True)"
   ]
  },
  {
   "cell_type": "code",
   "execution_count": null,
   "metadata": {},
   "outputs": [],
   "source": [
    "age_data2 = age_data2.loc[age_data2['Age Group']!='All Ages']"
   ]
  },
  {
   "cell_type": "code",
   "execution_count": null,
   "metadata": {
    "scrolled": false
   },
   "outputs": [],
   "source": [
    "x_axis = []\n",
    "x_axis = age_data2['Age Group'].tolist()\n",
    "ind = np.arange(len(x_axis))\n",
    "width = 0.4\n",
    "\n",
    "death_axis = age_data2['COVID-19 Death Rate by Age'].astype(float)\n",
    "pop_axis = age_data2['Population %'].astype(float)\n",
    "fig, ax = plt.subplots()\n",
    "\n",
    "ax.barh(ind-width, pop_axis, width, label ='Percent of US Population', color='darkseagreen', align='center')\n",
    "ax.barh(ind, death_axis, width, color='lightblue', label='Percentage of Deaths', align='center')\n",
    "\n",
    "\n",
    "ax.set_yticks(ind-.2)\n",
    "ax.legend()\n",
    "ax.set_xlabel('%')\n",
    "ax.set_ylabel('Age Group (years)')\n",
    "ax.set_yticklabels(x_axis)\n",
    "ax.invert_yaxis()  # labels read top-to-bottom\n",
    "ax.set_title('COVID-19 Deaths (%) and Population (%) by Age')\n",
    "plt.show()"
   ]
  },
  {
   "cell_type": "markdown",
   "metadata": {},
   "source": [
    "Hospital Beds"
   ]
  },
  {
   "cell_type": "code",
   "execution_count": null,
   "metadata": {
    "scrolled": false
   },
   "outputs": [],
   "source": [
    "%pwd"
   ]
  },
  {
   "cell_type": "code",
   "execution_count": null,
   "metadata": {
    "scrolled": false
   },
   "outputs": [],
   "source": [
    "hospital_beds = pd.read_csv(\"../Folder1/hospitalbeds_percapita_bystate.csv\",skiprows=(0,1))\n",
    "#hospital_beds['Location'].unique()"
   ]
  },
  {
   "cell_type": "code",
   "execution_count": null,
   "metadata": {},
   "outputs": [],
   "source": [
    "us_state_abbrev = {\n",
    "    'United States': 'USA',\n",
    "    'Alabama': 'AL',\n",
    "    'Alaska': 'AK',\n",
    "    'Arizona': 'AZ',\n",
    "    'Arkansas': 'AR',\n",
    "    'California': 'CA',\n",
    "    'Colorado': 'CO',\n",
    "    'Connecticut': 'CT',\n",
    "    'Delaware': 'DE',\n",
    "    'District of Columbia': 'DC',\n",
    "    'Florida': 'FL',\n",
    "    'Georgia': 'GA',\n",
    "    'Hawaii': 'HI',\n",
    "    'Idaho': 'ID',\n",
    "    'Illinois': 'IL',\n",
    "    'Indiana': 'IN',\n",
    "    'Iowa': 'IA',\n",
    "    'Kansas': 'KS',\n",
    "    'Kentucky': 'KY',\n",
    "    'Louisiana': 'LA',\n",
    "    'Maine': 'ME',\n",
    "    'Maryland': 'MD',\n",
    "    'Massachusetts': 'MA',\n",
    "    'Michigan': 'MI',\n",
    "    'Minnesota': 'MN',\n",
    "    'Mississippi': 'MS',\n",
    "    'Missouri': 'MO',\n",
    "    'Montana': 'MT',\n",
    "    'Nebraska': 'NE',\n",
    "    'Nevada': 'NV',\n",
    "    'New Hampshire': 'NH',\n",
    "    'New Jersey': 'NJ',\n",
    "    'New Mexico': 'NM',\n",
    "    'New York City':\"NYC\",\n",
    "    'New York': 'NY',\n",
    "    'North Carolina': 'NC',\n",
    "    'North Dakota': 'ND',\n",
    "    'Ohio': 'OH',\n",
    "    'Oklahoma': 'OK',\n",
    "    'Oregon': 'OR',\n",
    "    'Pennsylvania': 'PA',\n",
    "    'Rhode Island': 'RI',\n",
    "    'South Carolina': 'SC',\n",
    "    'South Dakota': 'SD',\n",
    "    'Tennessee': 'TN',\n",
    "    'Texas': 'TX',\n",
    "    'Utah': 'UT',\n",
    "    'Vermont': 'VT',\n",
    "    'Virginia': 'VA',\n",
    "    'Washington': 'WA',\n",
    "    'West Virginia': 'WV',\n",
    "    'Wisconsin': 'WI',\n",
    "    'Wyoming': 'WY',\n",
    "}"
   ]
  },
  {
   "cell_type": "code",
   "execution_count": null,
   "metadata": {},
   "outputs": [],
   "source": [
    "total_beds = []\n",
    "total_beds = hospital_beds['Total'].tolist()"
   ]
  },
  {
   "cell_type": "code",
   "execution_count": null,
   "metadata": {},
   "outputs": [],
   "source": [
    "hospital_beds = hospital_beds.dropna(how='any')"
   ]
  },
  {
   "cell_type": "code",
   "execution_count": null,
   "metadata": {},
   "outputs": [],
   "source": [
    "Dict = {\"States\":[]}\n",
    "for state in states:\n",
    "    Dict[\"States\"].append(us_state_abbrev[state])"
   ]
  },
  {
   "cell_type": "code",
   "execution_count": null,
   "metadata": {},
   "outputs": [],
   "source": [
    "hospital_beds = pd.DataFrame(Dict)\n",
    "hospital_beds['Total Beds'] = total_beds\n",
    "hospital_beds"
   ]
  },
  {
   "cell_type": "markdown",
   "metadata": {},
   "source": [
    " 'Data include staffed beds for community hospitals, which represent 85% of all hospitals.',\n",
    "       'Figures may not sum to totals due to rounding.', 'Sources',\n",
    "       '1999 - 2019 AHA Annual Survey, Copyright 2020 by Health Forum, LLC, an affiliate of the American Hospital Association. Special data request, 2020. Available at [http://www.ahaonlinestore.com](https://ams.aha.org/eweb/DynamicPage.aspx?WebCode=ProdDetailAdd&ivd_prc_prd_key=165f9fbf-d766-40a9-96a6-a212aed366bb).',\n",
    "       'Population data from Annual Population Estimates by State, U.S. Census Bureau; available at [http://www.census.gov/popest/](http://www.census.gov/popest/).',\n",
    "       'Definitions',\n",
    "       '*Community Hospitals:* All nonfederal, short-term general, and specialty hospitals whose facilities and services are available to the public.',\n",
    "       '*N/A*: Not applicable when state/local government, non-profit, or for-profit hospitals do not exist in the state.'],\n",
    "      dtype=object)"
   ]
  },
  {
   "cell_type": "code",
   "execution_count": null,
   "metadata": {},
   "outputs": [],
   "source": [
    "df_deathrate = pd.read_csv(\"../Folder2/Final_DeathRate_byState_042021.csv\")\n",
    "df_deathrate.rename(columns={\"Unnamed: 0\":\"States\"},inplace=True)\n",
    "#df_deathrate"
   ]
  },
  {
   "cell_type": "code",
   "execution_count": null,
   "metadata": {},
   "outputs": [],
   "source": [
    "df_deathrate = df_deathrate.loc[df_deathrate['States']!='RMI']\n",
    "df_deathrate = df_deathrate.loc[df_deathrate['States']!='FSM']\n",
    "df_deathrate = df_deathrate.loc[df_deathrate['States']!='AS']\n",
    "df_deathrate = df_deathrate.loc[df_deathrate['States']!='PW']\n",
    "df_deathrate = df_deathrate.loc[df_deathrate['States']!='DC']\n",
    "df_deathrate = df_deathrate.loc[df_deathrate['States']!='PR']\n",
    "df_deathrate = df_deathrate.loc[df_deathrate['States']!='GU']\n",
    "df_deathrate = df_deathrate.loc[df_deathrate['States']!='MP']"
   ]
  },
  {
   "cell_type": "code",
   "execution_count": null,
   "metadata": {},
   "outputs": [],
   "source": [
    "df_deathrate = df_deathrate.dropna()"
   ]
  },
  {
   "cell_type": "code",
   "execution_count": null,
   "metadata": {
    "scrolled": true
   },
   "outputs": [],
   "source": [
    "df_deathrate = df_deathrate.reset_index(drop=True)"
   ]
  },
  {
   "cell_type": "code",
   "execution_count": null,
   "metadata": {},
   "outputs": [],
   "source": [
    "df_deathrate['States'] = df_deathrate['States'].replace(\n",
    "    {'NYC': 'NY'})\n",
    "#df_deathrate"
   ]
  },
  {
   "cell_type": "code",
   "execution_count": null,
   "metadata": {},
   "outputs": [],
   "source": [
    "df_merge = df_deathrate.merge(hospital_beds, how='inner', on=\"States\")"
   ]
  },
  {
   "cell_type": "code",
   "execution_count": null,
   "metadata": {
    "scrolled": false
   },
   "outputs": [],
   "source": [
    "df_merge.plot.scatter(\"Total Beds\",\"Covid_Death_Rate\")"
   ]
  },
  {
   "cell_type": "code",
   "execution_count": null,
   "metadata": {
    "scrolled": true
   },
   "outputs": [],
   "source": [
    "df_merge"
   ]
  },
  {
   "cell_type": "code",
   "execution_count": null,
   "metadata": {},
   "outputs": [],
   "source": [
    "from scipy.stats import linregress"
   ]
  },
  {
   "cell_type": "code",
   "execution_count": 130,
   "metadata": {},
   "outputs": [
    {
     "ename": "NameError",
     "evalue": "name 'df_merge' is not defined",
     "output_type": "error",
     "traceback": [
      "\u001b[0;31m---------------------------------------------------------------------------\u001b[0m",
      "\u001b[0;31mNameError\u001b[0m                                 Traceback (most recent call last)",
      "\u001b[0;32m<ipython-input-130-b3af429e33f1>\u001b[0m in \u001b[0;36m<module>\u001b[0;34m\u001b[0m\n\u001b[0;32m----> 1\u001b[0;31m \u001b[0mtotal_beds\u001b[0m \u001b[0;34m=\u001b[0m \u001b[0mdf_merge\u001b[0m\u001b[0;34m[\u001b[0m\u001b[0;34m\"Total Beds\"\u001b[0m\u001b[0;34m]\u001b[0m\u001b[0;34m\u001b[0m\u001b[0;34m\u001b[0m\u001b[0m\n\u001b[0m\u001b[1;32m      2\u001b[0m \u001b[0mCovid_Death_Rate\u001b[0m \u001b[0;34m=\u001b[0m \u001b[0mdf_merge\u001b[0m\u001b[0;34m[\u001b[0m\u001b[0;34m\"Covid_Death_Rate\"\u001b[0m\u001b[0;34m]\u001b[0m\u001b[0;34m\u001b[0m\u001b[0;34m\u001b[0m\u001b[0m\n",
      "\u001b[0;31mNameError\u001b[0m: name 'df_merge' is not defined"
     ]
    }
   ],
   "source": [
    "total_beds = df_merge[\"Total Beds\"]\n",
    "Covid_Death_Rate = df_merge[\"Covid_Death_Rate\"]\n"
   ]
  },
  {
   "cell_type": "code",
   "execution_count": null,
   "metadata": {},
   "outputs": [],
   "source": [
    "plt.scatter(total_beds,Covid_Death_Rate, c='darkseagreen')\n",
    "plt.xlabel('Total Beds')\n",
    "plt.ylabel('Covid Death Rate %')\n",
    "plt.title(\"Total Hospital Beds and Covid Deaths by State\")\n",
    "\n",
    "for index, row in df_merge.iterrows():\n",
    "    #print(f\"{row[0]} at coords: ({row[2]},{row[1]})\")\n",
    "    plt.annotate(row[0],(row[2],row[1]))\n",
    "#plt.savefig(\"../Folder4/total beds and deaths scatter.png\")\n",
    "plt.show()"
   ]
  },
  {
   "cell_type": "code",
   "execution_count": null,
   "metadata": {},
   "outputs": [],
   "source": [
    "(slope, intercept, rvalue, pvalue, stderr) = linregress(total_beds, Covid_Death_Rate)\n",
    "\n",
    "regress_values = total_beds * slope + intercept\n",
    "\n",
    "line_eq = \"y = \" + str(round(slope,2)) + \"x + \" + str(round(intercept,2))\n",
    "\n",
    "plt.scatter(total_beds,Covid_Death_Rate)\n",
    "\n",
    "plt.plot(total_beds ,regress_values,\"lightblue\")\n",
    "\n",
    "r_sqr = round(rvalue**2,2)\n",
    "\n",
    "plt.annotate(line_eq,(3, .8),fontsize=10,color=\"black\")\n",
    "\n",
    "plt.annotate(f\"The r-squared is: {r_sqr}\",(25,0.5),fontsize=10,color=\"black\")\n",
    "\n",
    "plt.xlabel('Total Beds')\n",
    "plt.ylabel('Covid Death Rate %')\n",
    "plt.title(\"Total Hospital Beds and Covid Deaths by State\")\n",
    "\n",
    "print(f\"The r-squared is {r_sqr}\")\n",
    "print(f\"The line equation is: {line_eq}\")\n",
    "\n",
    "for index, row in df_merge.iterrows():\n",
    "    #print(f\"{row[0]} at coords: ({row[2]},{row[1]})\")\n",
    "    plt.annotate(row[0],(row[2],row[1]))\n",
    "\n",
    "#plt.savefig(\"../Folder4/total beds and deaths regression.png\")\n",
    "plt.show()\n"
   ]
  },
  {
   "cell_type": "markdown",
   "metadata": {},
   "source": [
    "death by state"
   ]
  },
  {
   "cell_type": "code",
   "execution_count": null,
   "metadata": {},
   "outputs": [],
   "source": [
    "df1 = pd.read_csv(\"../Folder2/Final_DeathRate_byState_042021.csv\")"
   ]
  },
  {
   "cell_type": "code",
   "execution_count": null,
   "metadata": {},
   "outputs": [],
   "source": [
    "df1.rename(columns={\"Unnamed: 0\": \"State\", \"Covid_Death_Rate\":\"Cum_Covid_19_Death_Rate\"},inplace=True)\n",
    "df1.drop([0,1,2,3,4,12,36,41,60,62,54,56,61],inplace=True)\n",
    "df1 = df1.reset_index(drop=True)"
   ]
  },
  {
   "cell_type": "code",
   "execution_count": null,
   "metadata": {},
   "outputs": [],
   "source": [
    "states = df1[\"State\"]\n",
    "death_rate = df1[\"Cum_Covid_19_Death_Rate\"]"
   ]
  },
  {
   "cell_type": "code",
   "execution_count": null,
   "metadata": {
    "scrolled": false
   },
   "outputs": [],
   "source": [
    "plt.figure(figsize=(15,5))\n",
    "plt.bar(states,death_rate, color='darkseagreen')\n",
    "plt.grid(True)\n",
    "plt.title('COVID-19 Death Rate by State')\n",
    "plt.ylabel('COVID-19 Death Rate(%)')\n",
    "plt.xlabel('State')\n",
    "plt.xticks(rotation = 90)\n",
    "#plt.savefig(\"../Folder4/death-rate-by-state.png\")\n",
    "plt.show()"
   ]
  },
  {
   "cell_type": "code",
   "execution_count": null,
   "metadata": {
    "scrolled": true
   },
   "outputs": [],
   "source": [
    "df1"
   ]
  },
  {
   "cell_type": "code",
   "execution_count": null,
   "metadata": {
    "scrolled": false
   },
   "outputs": [],
   "source": [
    "# Locate the rows which contain mice on Infubinol and get the tumor volumes\n",
    "\n",
    "death_rate = df1[\"Cum_Covid_19_Death_Rate\"]\n",
    "\n",
    "# Calculate the IQR and quantitatively determine if there are any potential outliers. \n",
    "death_quartiles = death_rate.quantile([.25,.5,.75])\n",
    "death_lowerq = death_quartiles[0.25]\n",
    "death_upperq = death_quartiles[0.75]\n",
    "death_iqr = death_upperq-death_lowerq\n",
    "\n",
    "print(f\"The lower quartile of the death rate for all states is: {round(death_lowerq,2)}\")\n",
    "print(f\"The upper quartile of the death rate for all states is: {round(death_upperq,2)}\")\n",
    "print(f\"The interquartile range of the death rate for all states is: {round(death_iqr,2)}\")\n",
    "print(f\"The median of the death rate for all states is: {round(death_quartiles[0.5],2)} \")\n",
    "\n",
    "# Determine outliers using upper and lower bounds\n",
    "death_lower_bound = death_lowerq - (1.5*death_iqr)\n",
    "death_upper_bound = death_upperq + (1.5*death_iqr)\n",
    "print(f\"Values below {round(death_lower_bound,2)} could be outliers.\")\n",
    "print(f\"Values above {round(death_upper_bound,2)} could be outliers.\")"
   ]
  },
  {
   "cell_type": "code",
   "execution_count": null,
   "metadata": {},
   "outputs": [],
   "source": [
    "label =[\"United States\"]"
   ]
  },
  {
   "cell_type": "code",
   "execution_count": null,
   "metadata": {},
   "outputs": [],
   "source": []
  },
  {
   "cell_type": "code",
   "execution_count": null,
   "metadata": {},
   "outputs": [],
   "source": [
    "fig, ax1 = plt.subplots(figsize=(10, 8))\n",
    "flierprops = dict(marker='o', \n",
    "                  markersize=14, \n",
    "                  markerfacecolor='lightblue',\n",
    "                  markeredgecolor='cornflowerblue')\n",
    "\n",
    "plt.boxplot = ax1.boxplot(death_rate, patch_artist=True, flierprops=flierprops)\n",
    "plt.annotate('MA',\n",
    "    (1, 2.7),\n",
    "    xytext=(1, 2.7),\n",
    "    fontsize=11)\n",
    "plt.annotate('NJ',\n",
    "    (1, 2.5),\n",
    "    xytext=(1, 2.5),\n",
    "    fontsize=11)\n",
    "plt.annotate('AK',\n",
    "    (1, 0.45),\n",
    "    xytext=(1, 0.45),\n",
    "    fontsize=11)\n",
    "plt.annotate('UT',\n",
    "    (1, 0.59),\n",
    "    xytext=(1, 0.59),\n",
    "    fontsize=11)\n",
    "\n",
    "\n",
    "#for index, row in df1.iterrows():\n",
    "#        print(f\"{row[0]} at coords: ({row[1]})\")\n",
    "#        plt.annotate(row[0],row[1])\n",
    "plt.title('COVID-19 Death Rate by State Outliers')\n",
    "plt.ylabel('COVID-19 Death Rate(%)')\n",
    "plt.xlabel('United States')\n",
    "plt.savefig(\"../Folder4/death-rate-boxplot.png\")\n",
    "print(f\"The lower quartile of the death rate for all states is: {round(death_lowerq,2)}\")\n",
    "print(f\"The upper quartile of the death rate for all states is: {round(death_upperq,2)}\")\n",
    "print(f\"The interquartile range of the death rate for all states is: {round(death_iqr,2)}\")\n",
    "print(f\"The median of the death rate for all states is: {round(death_quartiles[0.5],2)} \")\n",
    "print(f\"Values below {round(death_lower_bound,2)} could be outliers.\")\n",
    "print(f\"Values above {round(death_upper_bound,2)} could be outliers.\")\n",
    "plt.show()\n"
   ]
  },
  {
   "cell_type": "code",
   "execution_count": null,
   "metadata": {},
   "outputs": [],
   "source": []
  },
  {
   "cell_type": "code",
   "execution_count": null,
   "metadata": {},
   "outputs": [],
   "source": []
  }
 ],
 "metadata": {
  "kernelspec": {
   "display_name": "Python 3",
   "language": "python",
   "name": "python3"
  },
  "language_info": {
   "codemirror_mode": {
    "name": "ipython",
    "version": 3
   },
   "file_extension": ".py",
   "mimetype": "text/x-python",
   "name": "python",
   "nbconvert_exporter": "python",
   "pygments_lexer": "ipython3",
   "version": "3.8.5"
  }
 },
 "nbformat": 4,
 "nbformat_minor": 4
}
