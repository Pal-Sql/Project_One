{
 "cells": [
  {
   "cell_type": "code",
   "execution_count": 2,
   "metadata": {
    "scrolled": true
   },
   "outputs": [],
   "source": [
    "import json\n",
    "import requests\n",
    "import numpy as np\n",
    "import pandas as pd\n",
    "import seaborn as sns\n",
    "from pprint import pprint\n",
    "import matplotlib.pyplot as plt"
   ]
  },
  {
   "cell_type": "markdown",
   "metadata": {},
   "source": [
    "CDC by age"
   ]
  },
  {
   "cell_type": "code",
   "execution_count": 4,
   "metadata": {},
   "outputs": [],
   "source": [
    "#age_sex_data = pd.read_csv(\"../Folder1/Death_Counts_by_Sex_Age_and_State.csv\")"
   ]
  },
  {
   "cell_type": "code",
   "execution_count": 5,
   "metadata": {},
   "outputs": [
    {
     "ename": "NameError",
     "evalue": "name 'age_sex_data' is not defined",
     "output_type": "error",
     "traceback": [
      "\u001b[0;31m---------------------------------------------------------------------------\u001b[0m",
      "\u001b[0;31mNameError\u001b[0m                                 Traceback (most recent call last)",
      "\u001b[0;32m<ipython-input-5-9652a39a31d9>\u001b[0m in \u001b[0;36m<module>\u001b[0;34m\u001b[0m\n\u001b[0;32m----> 1\u001b[0;31m \u001b[0mage_data\u001b[0m \u001b[0;34m=\u001b[0m \u001b[0mage_sex_data\u001b[0m\u001b[0;34m.\u001b[0m\u001b[0mloc\u001b[0m\u001b[0;34m[\u001b[0m\u001b[0;34m(\u001b[0m\u001b[0mage_sex_data\u001b[0m\u001b[0;34m[\u001b[0m\u001b[0;34m'Sex'\u001b[0m\u001b[0;34m]\u001b[0m \u001b[0;34m==\u001b[0m \u001b[0;34m'All Sexes'\u001b[0m\u001b[0;34m)\u001b[0m\u001b[0;34m]\u001b[0m\u001b[0;34m\u001b[0m\u001b[0;34m\u001b[0m\u001b[0m\n\u001b[0m\u001b[1;32m      2\u001b[0m \u001b[0;31m#age_data = age_data.loc[age_data['State'] == 'United States']\u001b[0m\u001b[0;34m\u001b[0m\u001b[0;34m\u001b[0m\u001b[0;34m\u001b[0m\u001b[0m\n\u001b[1;32m      3\u001b[0m \u001b[0;31m#age_data = age_data.loc[age_data['Age Group'] == '85 years and over']\u001b[0m\u001b[0;34m\u001b[0m\u001b[0;34m\u001b[0m\u001b[0;34m\u001b[0m\u001b[0m\n\u001b[1;32m      4\u001b[0m \u001b[0mage_data\u001b[0m \u001b[0;34m=\u001b[0m \u001b[0mage_data\u001b[0m\u001b[0;34m.\u001b[0m\u001b[0mloc\u001b[0m\u001b[0;34m[\u001b[0m\u001b[0mage_data\u001b[0m\u001b[0;34m[\u001b[0m\u001b[0;34m'Group'\u001b[0m\u001b[0;34m]\u001b[0m\u001b[0;34m==\u001b[0m \u001b[0;34m'By Total'\u001b[0m\u001b[0;34m]\u001b[0m\u001b[0;34m\u001b[0m\u001b[0;34m\u001b[0m\u001b[0m\n\u001b[1;32m      5\u001b[0m \u001b[0mage_data\u001b[0m\u001b[0;34m\u001b[0m\u001b[0;34m\u001b[0m\u001b[0m\n",
      "\u001b[0;31mNameError\u001b[0m: name 'age_sex_data' is not defined"
     ]
    }
   ],
   "source": [
    "age_data = age_sex_data.loc[(age_sex_data['Sex'] == 'All Sexes')]\n",
    "#age_data = age_data.loc[age_data['State'] == 'United States']\n",
    "#age_data = age_data.loc[age_data['Age Group'] == '85 years and over']\n",
    "age_data = age_data.loc[age_data['Group']== 'By Total']\n",
    "age_data"
   ]
  },
  {
   "cell_type": "code",
   "execution_count": null,
   "metadata": {
    "scrolled": true
   },
   "outputs": [],
   "source": [
    "del age_data['Footnote']\n",
    "del age_data['Data As Of']\n",
    "del age_data['Sex']\n",
    "del age_data['Pneumonia Deaths']\n",
    "del age_data['Pneumonia and COVID-19 Deaths']\n",
    "del age_data['Influenza Deaths']\n",
    "del age_data['Pneumonia, Influenza, or COVID-19 Deaths']"
   ]
  },
  {
   "cell_type": "code",
   "execution_count": null,
   "metadata": {},
   "outputs": [],
   "source": [
    "age_data = age_data.fillna(0)\n",
    "#age_data.head()"
   ]
  },
  {
   "cell_type": "code",
   "execution_count": null,
   "metadata": {
    "scrolled": true
   },
   "outputs": [],
   "source": [
    "age_data = age_data.reset_index(drop=True)\n",
    "age_data"
   ]
  },
  {
   "cell_type": "code",
   "execution_count": null,
   "metadata": {},
   "outputs": [],
   "source": [
    "age_data.to_csv(\"../Folder2/us-age-data.csv\", index=False, header=True)"
   ]
  },
  {
   "cell_type": "code",
   "execution_count": null,
   "metadata": {},
   "outputs": [],
   "source": [
    "age_data.to_csv(\"../Folder2/age-data.csv\", index=False, header=True)"
   ]
  },
  {
   "cell_type": "markdown",
   "metadata": {},
   "source": [
    "CDC by sex\n"
   ]
  },
  {
   "cell_type": "code",
   "execution_count": null,
   "metadata": {},
   "outputs": [],
   "source": [
    "sex_data = pd.read_csv(\"../Folder1/Death_Counts_by_Sex_Age_and_State.csv\")\n",
    "#sex_data.head()"
   ]
  },
  {
   "cell_type": "code",
   "execution_count": null,
   "metadata": {},
   "outputs": [],
   "source": [
    "all_ages = sex_data.loc[sex_data['Age Group'] == 'All Ages']\n",
    "all_ages = all_ages.loc[all_ages['Group']=='By Total']\n",
    "sex_state = all_ages.loc[all_ages['State']!='Puerto Rico']\n",
    "sex_state = sex_state.loc[sex_state['State']!='United States']\n",
    "sex_state = sex_state.loc[sex_state['State']!='District of Columbia']\n",
    "sex_data = sex_state.loc[sex_state['Sex'] != 'All Sexes']"
   ]
  },
  {
   "cell_type": "code",
   "execution_count": null,
   "metadata": {},
   "outputs": [],
   "source": [
    "del sex_data['Footnote']\n",
    "del sex_data['Data As Of']\n",
    "del sex_data['Age Group']\n",
    "del sex_data['Pneumonia Deaths']\n",
    "del sex_data['Pneumonia and COVID-19 Deaths']\n",
    "del sex_data['Influenza Deaths']\n",
    "del sex_data['Pneumonia, Influenza, or COVID-19 Deaths']\n",
    "sex_data = sex_data.fillna(0)"
   ]
  },
  {
   "cell_type": "code",
   "execution_count": null,
   "metadata": {
    "scrolled": true
   },
   "outputs": [],
   "source": [
    "sex_data = sex_data.reset_index(drop=True)\n",
    "sex_data.head()"
   ]
  },
  {
   "cell_type": "code",
   "execution_count": null,
   "metadata": {},
   "outputs": [],
   "source": [
    "sex_data.to_csv(\"../Folder2/sex-data.csv\", index=False, header=True)"
   ]
  },
  {
   "cell_type": "markdown",
   "metadata": {},
   "source": [
    "Race Data from CDC"
   ]
  },
  {
   "cell_type": "code",
   "execution_count": null,
   "metadata": {},
   "outputs": [],
   "source": [
    "race_ethnicity_data = pd.read_csv(\"../Folder1/race-ethnicity.csv\")"
   ]
  },
  {
   "cell_type": "code",
   "execution_count": null,
   "metadata": {},
   "outputs": [],
   "source": [
    "del race_ethnicity_data['Footnote']\n",
    "del race_ethnicity_data['Data as of']"
   ]
  },
  {
   "cell_type": "code",
   "execution_count": null,
   "metadata": {},
   "outputs": [],
   "source": [
    "race_ethnicity_data = race_ethnicity_data.loc[(race_ethnicity_data['Group'] == 'By Total')]\n",
    "race_ethnicity_data = race_ethnicity_data.loc[(race_ethnicity_data['State'] == 'United States')]\n",
    "#race_ethnicity_data = race_ethnicity_data.loc[race_ethnicity_data['State']!='District of Columbia']\n",
    "#race_ethnicity_data = race_ethnicity_data.loc[race_ethnicity_data['Indicator']!='Unweighted distribution of population (%)']\n",
    "race_ethnicity_data = race_ethnicity_data.fillna(0)\n",
    "#race_ethnicity_data.head()"
   ]
  },
  {
   "cell_type": "code",
   "execution_count": null,
   "metadata": {
    "scrolled": false
   },
   "outputs": [],
   "source": [
    "race_ethnicity_data.rename(columns={\"Non-Hispanic White\": \"White\", \"Non-Hispanic Black or African American\": \"Black or African American\", \"Non-Hispanic American Indian or Alaska Native\":\n",
    "                               \"American Indian or Alaska Native\", \"Non-Hispanic Asian\": \"Asian\", \"Non-Hispanic Native Hawaiian or Other Pacific Islander\": \"Native Hawaiian or Other Pacific Islander\",\n",
    "                               \"Deaths_AIAN\": \"Deaths: AIAN\", \"Deaths_NHPI\": \"Deaths: NHPI\", \"Deaths_Multiracial\": \"Deaths: Multiracial\",\n",
    "                               \"Non Hispanic more than one race\": \"More Than One Race\"})\n",
    "race_ethnicity_data"
   ]
  },
  {
   "cell_type": "code",
   "execution_count": null,
   "metadata": {},
   "outputs": [],
   "source": [
    "distribution = race_ethnicity_data.loc[race_ethnicity_data['Indicator'] == 'Distribution of COVID-19 deaths (%)']\n",
    "distribution"
   ]
  },
  {
   "cell_type": "code",
   "execution_count": null,
   "metadata": {},
   "outputs": [],
   "source": []
  },
  {
   "cell_type": "code",
   "execution_count": null,
   "metadata": {},
   "outputs": [],
   "source": [
    "#dis_list = []\n",
    "#dis_list.append(white)\n",
    "#dis_list"
   ]
  },
  {
   "cell_type": "code",
   "execution_count": null,
   "metadata": {},
   "outputs": [],
   "source": [
    "race_ethnicity_data = race_ethnicity_data.reset_index(drop=True)"
   ]
  },
  {
   "cell_type": "code",
   "execution_count": null,
   "metadata": {},
   "outputs": [],
   "source": [
    "race_ethnicity_data.to_csv(\"../Folder2/race-population-data.csv\", index=False, header=True)"
   ]
  },
  {
   "cell_type": "markdown",
   "metadata": {},
   "source": [
    "trying to merge"
   ]
  },
  {
   "cell_type": "code",
   "execution_count": null,
   "metadata": {
    "scrolled": true
   },
   "outputs": [],
   "source": [
    "race_data = pd.read_csv(\"../Folder2/race-population-data.csv\")\n",
    "#race_data.head()"
   ]
  },
  {
   "cell_type": "code",
   "execution_count": null,
   "metadata": {
    "scrolled": true
   },
   "outputs": [],
   "source": [
    "age_data = pd.read_csv(\"../Folder2/us-age-data.csv\")\n",
    "age_data"
   ]
  },
  {
   "cell_type": "code",
   "execution_count": null,
   "metadata": {
    "scrolled": true
   },
   "outputs": [],
   "source": [
    "age_data = age_data.loc[age_data['Age Group'] != \"18-29 years\"]\n",
    "age_data = age_data.loc[age_data['Age Group'] != \"0-17 years\"]\n",
    "age_data = age_data.loc[age_data['Age Group'] != \"Under 1 year\"]\n",
    "age_data = age_data.loc[age_data['Age Group'] != \"30-39 years\"]\n",
    "age_data = age_data.loc[age_data['Age Group'] != \"40-49 years\"]\n",
    "age_data = age_data.loc[age_data['Age Group'] != \"50-64 years\"]\n",
    "age_data = age_data.loc[age_data['State'] != \"Puerto Rico\"]\n",
    "age_data = age_data.loc[age_data['State'] != \"District of Columbia\"]\n",
    "age_data = age_data.loc[age_data['State'] != \"New York City\"]"
   ]
  },
  {
   "cell_type": "code",
   "execution_count": null,
   "metadata": {},
   "outputs": [],
   "source": [
    "age_data['Age Group'] = age_data['Age Group'].replace(\n",
    "    {'1-4 years': 'Under 5 years'})"
   ]
  },
  {
   "cell_type": "code",
   "execution_count": null,
   "metadata": {
    "scrolled": false
   },
   "outputs": [],
   "source": [
    "age_data"
   ]
  },
  {
   "cell_type": "code",
   "execution_count": null,
   "metadata": {},
   "outputs": [],
   "source": [
    "del age_data['Month']\n",
    "del age_data['Year']"
   ]
  },
  {
   "cell_type": "code",
   "execution_count": null,
   "metadata": {},
   "outputs": [],
   "source": [
    "age_data"
   ]
  },
  {
   "cell_type": "code",
   "execution_count": null,
   "metadata": {},
   "outputs": [],
   "source": [
    "pop_data = pd.read_csv(\"../Folder2/Population_byCDCAgeGroup_byState.csv\")"
   ]
  },
  {
   "cell_type": "code",
   "execution_count": null,
   "metadata": {
    "scrolled": true
   },
   "outputs": [],
   "source": [
    "pop_data = pop_data.rename(columns={\"CDC_AgeGroups\":\"Age Group\"})\n",
    "totals = pop_data.loc[pop_data['Age Group']=='Total']\n"
   ]
  },
  {
   "cell_type": "code",
   "execution_count": null,
   "metadata": {
    "scrolled": true
   },
   "outputs": [],
   "source": [
    "merged_df = pd.merge(age_data, pop_data,  how='left', left_on=['State','Age Group'], right_on = ['State','Age Group'])"
   ]
  },
  {
   "cell_type": "code",
   "execution_count": null,
   "metadata": {
    "scrolled": false
   },
   "outputs": [],
   "source": [
    "#merged_df = merged_df.loc[merged_df['State']!='United States']\n",
    "merged_df = merged_df.loc[merged_df['Age Group']!='All Ages']\n",
    "merged_df"
   ]
  },
  {
   "cell_type": "code",
   "execution_count": null,
   "metadata": {},
   "outputs": [],
   "source": [
    "\n",
    "del merged_df['Total Deaths']"
   ]
  },
  {
   "cell_type": "code",
   "execution_count": null,
   "metadata": {
    "scrolled": true
   },
   "outputs": [],
   "source": [
    "merged_df"
   ]
  },
  {
   "cell_type": "code",
   "execution_count": null,
   "metadata": {},
   "outputs": [],
   "source": [
    "merged_df.to_csv(\"../Folder3/age-pop-state.csv\", index=False, header=True)"
   ]
  },
  {
   "cell_type": "code",
   "execution_count": null,
   "metadata": {
    "scrolled": true
   },
   "outputs": [],
   "source": [
    "age_data2 = pd.read_csv(\"../Folder1/Death_Counts_by_Sex_Age_and_State.csv\")"
   ]
  },
  {
   "cell_type": "code",
   "execution_count": null,
   "metadata": {},
   "outputs": [],
   "source": [
    "age_data2 = age_data2.loc[(age_data2['Sex'] == 'All Sexes')]\n",
    "age_data2 = age_data2.loc[age_data2['State'] == 'United States']\n",
    "#age_data = age_data.loc[age_data['Age Group'] == '85 years and over']\n",
    "age_data2 = age_data2.loc[age_data2['Group']== 'By Total']\n",
    "age_data2 = age_data2.loc[age_data2['Age Group'] != \"18-29 years\"]\n",
    "age_data2 = age_data2.loc[age_data2['Age Group'] != \"0-17 years\"]\n",
    "age_data2 = age_data2.loc[age_data2['Age Group'] != \"Under 1 year\"]\n",
    "age_data2 = age_data2.loc[age_data2['Age Group'] != \"30-39 years\"]\n",
    "age_data2 = age_data2.loc[age_data2['Age Group'] != \"40-49 years\"]\n",
    "age_data2 = age_data2.loc[age_data2['Age Group'] != \"50-64 years\"]\n",
    "age_data2 = age_data2.loc[age_data2['State'] != \"Puerto Rico\"]\n",
    "age_data2 = age_data2.loc[age_data2['State'] != \"District of Columbia\"]\n",
    "age_data2 = age_data2.loc[age_data2['State'] != \"New York City\"]\n",
    "del age_data2['Footnote']\n",
    "del age_data2['Data As Of']\n",
    "del age_data2['Sex']\n",
    "del age_data2['Pneumonia Deaths']\n",
    "del age_data2['Pneumonia and COVID-19 Deaths']\n",
    "del age_data2['Influenza Deaths']\n",
    "del age_data2['Month']\n",
    "del age_data2['Year']\n",
    "del age_data2['Pneumonia, Influenza, or COVID-19 Deaths']\n",
    "#age_data2"
   ]
  },
  {
   "cell_type": "code",
   "execution_count": null,
   "metadata": {
    "scrolled": false
   },
   "outputs": [],
   "source": [
    "pop_list = []\n",
    "pop_list.append(total_pop)\n",
    "pop_list.append(under_pop)\n",
    "pop_list.append(years_5_14_sum)\n",
    "pop_list.append(years_15_24_sum)\n",
    "pop_list.append(years_25_34_sum)\n",
    "pop_list.append(years_35_44_sum)\n",
    "pop_list.append(years_45_54_sum)\n",
    "pop_list.append(years_55_64_sum)\n",
    "pop_list.append(years_65_74_sum)\n",
    "pop_list.append(years_75_84_sum)\n",
    "pop_list.append(years_85_sum)\n",
    "#pop_list"
   ]
  },
  {
   "cell_type": "code",
   "execution_count": null,
   "metadata": {},
   "outputs": [],
   "source": [
    "total_data= pop_data.loc[pop_data['Age Group']=='Total']\n",
    "total_pop = total_data['Population'].sum()\n",
    "under_data= pop_data.loc[pop_data['Age Group']=='Under 5 years']\n",
    "under_pop = under_data['Population'].sum()\n",
    "years_5_14 = pop_data.loc[pop_data['Age Group']=='5-14 years']\n",
    "years_5_14_sum = years_5_14['Population'].sum()\n",
    "years_15_24 = pop_data.loc[pop_data['Age Group']=='15-24 years']\n",
    "years_15_24_sum = years_15_24['Population'].sum()\n",
    "years_25_34 = pop_data.loc[pop_data['Age Group']=='25-34 years']\n",
    "years_25_34_sum = years_25_34['Population'].sum()\n",
    "years_35_44 = pop_data.loc[pop_data['Age Group']=='35-44 years']\n",
    "years_35_44_sum = years_35_44['Population'].sum()\n",
    "years_45_54 = pop_data.loc[pop_data['Age Group']=='45-54 years']\n",
    "years_45_54_sum = years_45_54['Population'].sum()\n",
    "years_55_64 = pop_data.loc[pop_data['Age Group']=='55-64 years']\n",
    "years_55_64_sum = years_55_64['Population'].sum()\n",
    "years_65_74 = pop_data.loc[pop_data['Age Group']=='65-74 years']\n",
    "years_65_74_sum = years_65_74['Population'].sum()\n",
    "years_75_84 = pop_data.loc[pop_data['Age Group']=='75-84 years']\n",
    "years_75_84_sum = years_75_84['Population'].sum()\n",
    "years_85 = pop_data.loc[pop_data['Age Group']=='85 years and over']\n",
    "years_85_sum = years_85['Population'].sum()"
   ]
  },
  {
   "cell_type": "code",
   "execution_count": null,
   "metadata": {
    "scrolled": true
   },
   "outputs": [],
   "source": [
    "age_data2[\"Population by Age Group\"] = pop_list\n",
    "age_data2"
   ]
  },
  {
   "cell_type": "code",
   "execution_count": null,
   "metadata": {},
   "outputs": [],
   "source": [
    "death_rate = age_data2['COVID-19 Deaths']/age_data2['Population by Age Group'] * 100"
   ]
  },
  {
   "cell_type": "code",
   "execution_count": null,
   "metadata": {
    "scrolled": false
   },
   "outputs": [],
   "source": [
    "age_data2[\"COVID-19 Death Rate\"] = death_rate\n",
    "age_data2"
   ]
  },
  {
   "cell_type": "code",
   "execution_count": null,
   "metadata": {},
   "outputs": [],
   "source": [
    "population_perc = (age_data2['Population by Age Group']/327533774.0)*100\n",
    "#population_perc"
   ]
  },
  {
   "cell_type": "code",
   "execution_count": null,
   "metadata": {},
   "outputs": [],
   "source": [
    "age_data2[\"Population %\"] = population_perc\n",
    "age_data2"
   ]
  },
  {
   "cell_type": "code",
   "execution_count": null,
   "metadata": {},
   "outputs": [],
   "source": [
    "covid_death_rate = (age_data2['COVID-19 Deaths']/557486.0)*100\n",
    "age_data2[\"COVID-19 Death Rate by Age\"] = covid_death_rate\n",
    "age_data2"
   ]
  },
  {
   "cell_type": "code",
   "execution_count": null,
   "metadata": {},
   "outputs": [],
   "source": [
    "age_data2.to_csv(\"../Folder2/final-us-age-data.csv\", index=False, header=True)"
   ]
  },
  {
   "cell_type": "code",
   "execution_count": null,
   "metadata": {},
   "outputs": [],
   "source": [
    "age_data2 = age_data2.loc[age_data2['Age Group']!='All Ages']"
   ]
  },
  {
   "cell_type": "code",
   "execution_count": null,
   "metadata": {
    "scrolled": false
   },
   "outputs": [],
   "source": [
    "x_axis = []\n",
    "x_axis = age_data2['Age Group'].tolist()\n",
    "ind = np.arange(len(x_axis))\n",
    "width = 0.4\n",
    "\n",
    "death_axis = age_data2['COVID-19 Death Rate by Age'].astype(float)\n",
    "pop_axis = age_data2['Population %'].astype(float)\n",
    "fig, ax = plt.subplots()\n",
    "\n",
    "ax.barh(ind-width, pop_axis, width, label ='Percent of US Population', color='darkseagreen', align='center')\n",
    "ax.barh(ind, death_axis, width, color='lightblue', label='Percentage of Deaths', align='center')\n",
    "\n",
    "\n",
    "ax.set_yticks(ind-.2)\n",
    "ax.legend()\n",
    "ax.set_xlabel('%')\n",
    "ax.set_ylabel('Age Group (years)')\n",
    "ax.set_yticklabels(x_axis)\n",
    "ax.invert_yaxis()  # labels read top-to-bottom\n",
    "ax.set_title('COVID-19 Deaths (%) and Population (%) by Age')\n",
    "plt.show()"
   ]
  },
  {
   "cell_type": "markdown",
   "metadata": {},
   "source": [
    "Hospital Beds"
   ]
  },
  {
   "cell_type": "code",
   "execution_count": null,
   "metadata": {
    "scrolled": false
   },
   "outputs": [],
   "source": [
    "%pwd"
   ]
  },
  {
   "cell_type": "code",
   "execution_count": null,
   "metadata": {
    "scrolled": false
   },
   "outputs": [],
   "source": [
    "hospital_beds = pd.read_csv(\"../Folder1/hospitalbeds_percapita_bystate.csv\",skiprows=(0,1))\n",
    "#hospital_beds['Location'].unique()"
   ]
  },
  {
   "cell_type": "code",
   "execution_count": null,
   "metadata": {},
   "outputs": [],
   "source": [
    "us_state_abbrev = {\n",
    "    'United States': 'USA',\n",
    "    'Alabama': 'AL',\n",
    "    'Alaska': 'AK',\n",
    "    'Arizona': 'AZ',\n",
    "    'Arkansas': 'AR',\n",
    "    'California': 'CA',\n",
    "    'Colorado': 'CO',\n",
    "    'Connecticut': 'CT',\n",
    "    'Delaware': 'DE',\n",
    "    'District of Columbia': 'DC',\n",
    "    'Florida': 'FL',\n",
    "    'Georgia': 'GA',\n",
    "    'Hawaii': 'HI',\n",
    "    'Idaho': 'ID',\n",
    "    'Illinois': 'IL',\n",
    "    'Indiana': 'IN',\n",
    "    'Iowa': 'IA',\n",
    "    'Kansas': 'KS',\n",
    "    'Kentucky': 'KY',\n",
    "    'Louisiana': 'LA',\n",
    "    'Maine': 'ME',\n",
    "    'Maryland': 'MD',\n",
    "    'Massachusetts': 'MA',\n",
    "    'Michigan': 'MI',\n",
    "    'Minnesota': 'MN',\n",
    "    'Mississippi': 'MS',\n",
    "    'Missouri': 'MO',\n",
    "    'Montana': 'MT',\n",
    "    'Nebraska': 'NE',\n",
    "    'Nevada': 'NV',\n",
    "    'New Hampshire': 'NH',\n",
    "    'New Jersey': 'NJ',\n",
    "    'New Mexico': 'NM',\n",
    "    'New York City':\"NYC\",\n",
    "    'New York': 'NY',\n",
    "    'North Carolina': 'NC',\n",
    "    'North Dakota': 'ND',\n",
    "    'Ohio': 'OH',\n",
    "    'Oklahoma': 'OK',\n",
    "    'Oregon': 'OR',\n",
    "    'Pennsylvania': 'PA',\n",
    "    'Rhode Island': 'RI',\n",
    "    'South Carolina': 'SC',\n",
    "    'South Dakota': 'SD',\n",
    "    'Tennessee': 'TN',\n",
    "    'Texas': 'TX',\n",
    "    'Utah': 'UT',\n",
    "    'Vermont': 'VT',\n",
    "    'Virginia': 'VA',\n",
    "    'Washington': 'WA',\n",
    "    'West Virginia': 'WV',\n",
    "    'Wisconsin': 'WI',\n",
    "    'Wyoming': 'WY',\n",
    "}"
   ]
  },
  {
   "cell_type": "code",
   "execution_count": null,
   "metadata": {},
   "outputs": [],
   "source": [
    "total_beds = []\n",
    "total_beds = hospital_beds['Total'].tolist()"
   ]
  },
  {
   "cell_type": "code",
   "execution_count": null,
   "metadata": {},
   "outputs": [],
   "source": [
    "hospital_beds = hospital_beds.dropna(how='any')"
   ]
  },
  {
   "cell_type": "code",
   "execution_count": null,
   "metadata": {},
   "outputs": [],
   "source": [
    "Dict = {\"States\":[]}\n",
    "for state in states:\n",
    "    Dict[\"States\"].append(us_state_abbrev[state])"
   ]
  },
  {
   "cell_type": "code",
   "execution_count": null,
   "metadata": {},
   "outputs": [],
   "source": [
    "hospital_beds = pd.DataFrame(Dict)\n",
    "hospital_beds['Total Beds'] = total_beds\n",
    "hospital_beds"
   ]
  },
  {
   "cell_type": "markdown",
   "metadata": {},
   "source": [
    " 'Data include staffed beds for community hospitals, which represent 85% of all hospitals.',\n",
    "       'Figures may not sum to totals due to rounding.', 'Sources',\n",
    "       '1999 - 2019 AHA Annual Survey, Copyright 2020 by Health Forum, LLC, an affiliate of the American Hospital Association. Special data request, 2020. Available at [http://www.ahaonlinestore.com](https://ams.aha.org/eweb/DynamicPage.aspx?WebCode=ProdDetailAdd&ivd_prc_prd_key=165f9fbf-d766-40a9-96a6-a212aed366bb).',\n",
    "       'Population data from Annual Population Estimates by State, U.S. Census Bureau; available at [http://www.census.gov/popest/](http://www.census.gov/popest/).',\n",
    "       'Definitions',\n",
    "       '*Community Hospitals:* All nonfederal, short-term general, and specialty hospitals whose facilities and services are available to the public.',\n",
    "       '*N/A*: Not applicable when state/local government, non-profit, or for-profit hospitals do not exist in the state.'],\n",
    "      dtype=object)"
   ]
  },
  {
   "cell_type": "code",
   "execution_count": null,
   "metadata": {},
   "outputs": [],
   "source": [
    "df_deathrate = pd.read_csv(\"../Folder2/Final_DeathRate_byState_042021.csv\")\n",
    "df_deathrate.rename(columns={\"Unnamed: 0\":\"States\"},inplace=True)\n",
    "#df_deathrate"
   ]
  },
  {
   "cell_type": "code",
   "execution_count": null,
   "metadata": {},
   "outputs": [],
   "source": [
    "df_deathrate = df_deathrate.loc[df_deathrate['States']!='RMI']\n",
    "df_deathrate = df_deathrate.loc[df_deathrate['States']!='FSM']\n",
    "df_deathrate = df_deathrate.loc[df_deathrate['States']!='AS']\n",
    "df_deathrate = df_deathrate.loc[df_deathrate['States']!='PW']\n",
    "df_deathrate = df_deathrate.loc[df_deathrate['States']!='DC']\n",
    "df_deathrate = df_deathrate.loc[df_deathrate['States']!='PR']\n",
    "df_deathrate = df_deathrate.loc[df_deathrate['States']!='GU']\n",
    "df_deathrate = df_deathrate.loc[df_deathrate['States']!='MP']"
   ]
  },
  {
   "cell_type": "code",
   "execution_count": null,
   "metadata": {},
   "outputs": [],
   "source": [
    "df_deathrate = df_deathrate.dropna()"
   ]
  },
  {
   "cell_type": "code",
   "execution_count": null,
   "metadata": {
    "scrolled": true
   },
   "outputs": [],
   "source": [
    "df_deathrate = df_deathrate.reset_index(drop=True)"
   ]
  },
  {
   "cell_type": "code",
   "execution_count": null,
   "metadata": {},
   "outputs": [],
   "source": [
    "df_deathrate['States'] = df_deathrate['States'].replace(\n",
    "    {'NYC': 'NY'})\n",
    "#df_deathrate"
   ]
  },
  {
   "cell_type": "code",
   "execution_count": null,
   "metadata": {},
   "outputs": [],
   "source": [
    "df_merge = df_deathrate.merge(hospital_beds, how='inner', on=\"States\")"
   ]
  },
  {
   "cell_type": "code",
   "execution_count": null,
   "metadata": {
    "scrolled": false
   },
   "outputs": [],
   "source": [
    "df_merge.plot.scatter(\"Total Beds\",\"Covid_Death_Rate\")"
   ]
  },
  {
   "cell_type": "code",
   "execution_count": null,
   "metadata": {
    "scrolled": true
   },
   "outputs": [],
   "source": [
    "df_merge"
   ]
  },
  {
   "cell_type": "code",
   "execution_count": null,
   "metadata": {},
   "outputs": [],
   "source": [
    "from scipy.stats import linregress"
   ]
  },
  {
   "cell_type": "code",
   "execution_count": null,
   "metadata": {},
   "outputs": [],
   "source": [
    "total_beds = df_merge[\"Total Beds\"]\n",
    "Covid_Death_Rate = df_merge[\"Covid_Death_Rate\"]\n"
   ]
  },
  {
   "cell_type": "code",
   "execution_count": null,
   "metadata": {},
   "outputs": [],
   "source": [
    "plt.scatter(total_beds,Covid_Death_Rate, c='darkseagreen')\n",
    "plt.xlabel('Total Beds')\n",
    "plt.ylabel('Covid Death Rate %')\n",
    "plt.title(\"Total Hospital Beds and Covid Deaths by State\")\n",
    "\n",
    "for index, row in df_merge.iterrows():\n",
    "    #print(f\"{row[0]} at coords: ({row[2]},{row[1]})\")\n",
    "    plt.annotate(row[0],(row[2],row[1]))\n",
    "#plt.savefig(\"../Folder4/total beds and deaths scatter.png\")\n",
    "plt.show()"
   ]
  },
  {
   "cell_type": "code",
   "execution_count": null,
   "metadata": {},
   "outputs": [],
   "source": [
    "(slope, intercept, rvalue, pvalue, stderr) = linregress(total_beds, Covid_Death_Rate)\n",
    "\n",
    "regress_values = total_beds * slope + intercept\n",
    "\n",
    "line_eq = \"y = \" + str(round(slope,2)) + \"x + \" + str(round(intercept,2))\n",
    "\n",
    "plt.scatter(total_beds,Covid_Death_Rate)\n",
    "\n",
    "plt.plot(total_beds ,regress_values,\"lightblue\")\n",
    "\n",
    "r_sqr = round(rvalue**2,2)\n",
    "\n",
    "plt.annotate(line_eq,(3, .8),fontsize=10,color=\"black\")\n",
    "\n",
    "plt.annotate(f\"The r-squared is: {r_sqr}\",(25,0.5),fontsize=10,color=\"black\")\n",
    "\n",
    "plt.xlabel('Total Beds')\n",
    "plt.ylabel('Covid Death Rate %')\n",
    "plt.title(\"Total Hospital Beds and Covid Deaths by State\")\n",
    "\n",
    "print(f\"The r-squared is {r_sqr}\")\n",
    "print(f\"The line equation is: {line_eq}\")\n",
    "\n",
    "for index, row in df_merge.iterrows():\n",
    "    #print(f\"{row[0]} at coords: ({row[2]},{row[1]})\")\n",
    "    plt.annotate(row[0],(row[2],row[1]))\n",
    "\n",
    "#plt.savefig(\"../Folder4/total beds and deaths regression.png\")\n",
    "plt.show()\n"
   ]
  },
  {
   "cell_type": "markdown",
   "metadata": {},
   "source": [
    "death by state"
   ]
  },
  {
   "cell_type": "code",
   "execution_count": 6,
   "metadata": {},
   "outputs": [],
   "source": [
    "df1 = pd.read_csv(\"../Folder2/Final_DeathRate_byState_042021.csv\")"
   ]
  },
  {
   "cell_type": "code",
   "execution_count": 7,
   "metadata": {},
   "outputs": [],
   "source": [
    "df1.rename(columns={\"Unnamed: 0\": \"State\", \"Covid_Death_Rate\":\"Cum_Covid_19_Death_Rate\"},inplace=True)\n",
    "df1.drop([0,1,2,3,4,12,36,41,60,62,54,56,61],inplace=True)\n",
    "df1 = df1.reset_index(drop=True)"
   ]
  },
  {
   "cell_type": "code",
   "execution_count": 8,
   "metadata": {},
   "outputs": [],
   "source": [
    "states = df1[\"State\"]\n",
    "death_rate = df1[\"Cum_Covid_19_Death_Rate\"]"
   ]
  },
  {
   "cell_type": "code",
   "execution_count": 9,
   "metadata": {
    "scrolled": false
   },
   "outputs": [
    {
     "data": {
      "image/png": "[encoded data removed]",
      "text/plain": [
       "<Figure size 1080x360 with 1 Axes>"
      ]
     },
     "metadata": {
      "needs_background": "light"
     },
     "output_type": "display_data"
    }
   ],
   "source": [
    "plt.figure(figsize=(15,5))\n",
    "plt.bar(states,death_rate, color='darkseagreen')\n",
    "plt.grid(True)\n",
    "plt.title('COVID-19 Death Rate by State')\n",
    "plt.ylabel('COVID-19 Death Rate(%)')\n",
    "plt.xlabel('State')\n",
    "plt.xticks(rotation = 90)\n",
    "#plt.savefig(\"../Folder4/death-rate-by-state.png\")\n",
    "plt.show()"
   ]
  },
  {
   "cell_type": "code",
   "execution_count": null,
   "metadata": {
    "scrolled": false
   },
   "outputs": [],
   "source": []
  },
  {
   "cell_type": "code",
   "execution_count": 16,
   "metadata": {
    "scrolled": true
   },
   "outputs": [
    {
     "data": {
      "text/html": [
       "<div>\n",
       "<style scoped>\n",
       "    .dataframe tbody tr th:only-of-type {\n",
       "        vertical-align: middle;\n",
       "    }\n",
       "\n",
       "    .dataframe tbody tr th {\n",
       "        vertical-align: top;\n",
       "    }\n",
       "\n",
       "    .dataframe thead th {\n",
       "        text-align: right;\n",
       "    }\n",
       "</style>\n",
       "<table border=\"1\" class=\"dataframe\">\n",
       "  <thead>\n",
       "    <tr style=\"text-align: right;\">\n",
       "      <th></th>\n",
       "      <th>Unnamed: 0</th>\n",
       "      <th>State</th>\n",
       "      <th>Actual_DR</th>\n",
       "      <th>Normalized_DR</th>\n",
       "      <th>Delta</th>\n",
       "      <th>Cum_Covid_19_Death_Rate</th>\n",
       "      <th>Adj_for_age_Covid_Death_Rate</th>\n",
       "    </tr>\n",
       "  </thead>\n",
       "  <tbody>\n",
       "    <tr>\n",
       "      <th>0</th>\n",
       "      <td>0</td>\n",
       "      <td>AK</td>\n",
       "      <td>0.043606</td>\n",
       "      <td>0.063322</td>\n",
       "      <td>1.452128</td>\n",
       "      <td>0.521335</td>\n",
       "      <td>0.757045</td>\n",
       "    </tr>\n",
       "    <tr>\n",
       "      <th>1</th>\n",
       "      <td>1</td>\n",
       "      <td>AL</td>\n",
       "      <td>0.212372</td>\n",
       "      <td>0.207580</td>\n",
       "      <td>0.977434</td>\n",
       "      <td>2.063941</td>\n",
       "      <td>2.017367</td>\n",
       "    </tr>\n",
       "    <tr>\n",
       "      <th>2</th>\n",
       "      <td>2</td>\n",
       "      <td>AR</td>\n",
       "      <td>0.195009</td>\n",
       "      <td>0.189573</td>\n",
       "      <td>0.972121</td>\n",
       "      <td>1.707780</td>\n",
       "      <td>1.660169</td>\n",
       "    </tr>\n",
       "    <tr>\n",
       "      <th>3</th>\n",
       "      <td>3</td>\n",
       "      <td>AZ</td>\n",
       "      <td>0.213197</td>\n",
       "      <td>0.204625</td>\n",
       "      <td>0.959793</td>\n",
       "      <td>2.008587</td>\n",
       "      <td>1.927828</td>\n",
       "    </tr>\n",
       "    <tr>\n",
       "      <th>4</th>\n",
       "      <td>4</td>\n",
       "      <td>CA</td>\n",
       "      <td>0.159406</td>\n",
       "      <td>0.172598</td>\n",
       "      <td>1.082753</td>\n",
       "      <td>1.662034</td>\n",
       "      <td>1.799573</td>\n",
       "    </tr>\n",
       "    <tr>\n",
       "      <th>5</th>\n",
       "      <td>5</td>\n",
       "      <td>CO</td>\n",
       "      <td>0.111413</td>\n",
       "      <td>0.131260</td>\n",
       "      <td>1.178135</td>\n",
       "      <td>1.231980</td>\n",
       "      <td>1.451439</td>\n",
       "    </tr>\n",
       "    <tr>\n",
       "      <th>6</th>\n",
       "      <td>6</td>\n",
       "      <td>CT</td>\n",
       "      <td>0.222198</td>\n",
       "      <td>0.194129</td>\n",
       "      <td>0.873673</td>\n",
       "      <td>2.386855</td>\n",
       "      <td>2.085331</td>\n",
       "    </tr>\n",
       "    <tr>\n",
       "      <th>7</th>\n",
       "      <td>7</td>\n",
       "      <td>DE</td>\n",
       "      <td>0.146545</td>\n",
       "      <td>0.132149</td>\n",
       "      <td>0.901768</td>\n",
       "      <td>1.556439</td>\n",
       "      <td>1.403547</td>\n",
       "    </tr>\n",
       "    <tr>\n",
       "      <th>8</th>\n",
       "      <td>8</td>\n",
       "      <td>FL</td>\n",
       "      <td>0.150644</td>\n",
       "      <td>0.120420</td>\n",
       "      <td>0.799364</td>\n",
       "      <td>1.604283</td>\n",
       "      <td>1.282406</td>\n",
       "    </tr>\n",
       "    <tr>\n",
       "      <th>9</th>\n",
       "      <td>9</td>\n",
       "      <td>GA</td>\n",
       "      <td>0.158749</td>\n",
       "      <td>0.186349</td>\n",
       "      <td>1.173866</td>\n",
       "      <td>1.835143</td>\n",
       "      <td>2.154211</td>\n",
       "    </tr>\n",
       "    <tr>\n",
       "      <th>10</th>\n",
       "      <td>10</td>\n",
       "      <td>HI</td>\n",
       "      <td>0.031783</td>\n",
       "      <td>0.027762</td>\n",
       "      <td>0.873498</td>\n",
       "      <td>1.533546</td>\n",
       "      <td>1.339550</td>\n",
       "    </tr>\n",
       "    <tr>\n",
       "      <th>11</th>\n",
       "      <td>11</td>\n",
       "      <td>IA</td>\n",
       "      <td>0.188015</td>\n",
       "      <td>0.168982</td>\n",
       "      <td>0.898770</td>\n",
       "      <td>1.630843</td>\n",
       "      <td>1.465753</td>\n",
       "    </tr>\n",
       "    <tr>\n",
       "      <th>12</th>\n",
       "      <td>12</td>\n",
       "      <td>ID</td>\n",
       "      <td>0.113035</td>\n",
       "      <td>0.122320</td>\n",
       "      <td>1.082147</td>\n",
       "      <td>1.090293</td>\n",
       "      <td>1.179857</td>\n",
       "    </tr>\n",
       "    <tr>\n",
       "      <th>13</th>\n",
       "      <td>13</td>\n",
       "      <td>IL</td>\n",
       "      <td>0.165280</td>\n",
       "      <td>0.164852</td>\n",
       "      <td>0.997409</td>\n",
       "      <td>1.819476</td>\n",
       "      <td>1.814762</td>\n",
       "    </tr>\n",
       "    <tr>\n",
       "      <th>14</th>\n",
       "      <td>14</td>\n",
       "      <td>IN</td>\n",
       "      <td>0.187175</td>\n",
       "      <td>0.191812</td>\n",
       "      <td>1.024778</td>\n",
       "      <td>1.850574</td>\n",
       "      <td>1.896429</td>\n",
       "    </tr>\n",
       "    <tr>\n",
       "      <th>15</th>\n",
       "      <td>15</td>\n",
       "      <td>KS</td>\n",
       "      <td>0.165791</td>\n",
       "      <td>0.162480</td>\n",
       "      <td>0.980032</td>\n",
       "      <td>1.611620</td>\n",
       "      <td>1.579439</td>\n",
       "    </tr>\n",
       "    <tr>\n",
       "      <th>16</th>\n",
       "      <td>16</td>\n",
       "      <td>KY</td>\n",
       "      <td>0.158203</td>\n",
       "      <td>0.160219</td>\n",
       "      <td>1.012740</td>\n",
       "      <td>1.463770</td>\n",
       "      <td>1.482419</td>\n",
       "    </tr>\n",
       "    <tr>\n",
       "      <th>17</th>\n",
       "      <td>17</td>\n",
       "      <td>LA</td>\n",
       "      <td>0.199493</td>\n",
       "      <td>0.209513</td>\n",
       "      <td>1.050228</td>\n",
       "      <td>2.263940</td>\n",
       "      <td>2.377653</td>\n",
       "    </tr>\n",
       "    <tr>\n",
       "      <th>18</th>\n",
       "      <td>18</td>\n",
       "      <td>MA</td>\n",
       "      <td>0.190308</td>\n",
       "      <td>0.177487</td>\n",
       "      <td>0.932628</td>\n",
       "      <td>2.663615</td>\n",
       "      <td>2.484161</td>\n",
       "    </tr>\n",
       "    <tr>\n",
       "      <th>19</th>\n",
       "      <td>19</td>\n",
       "      <td>MD</td>\n",
       "      <td>0.160214</td>\n",
       "      <td>0.163514</td>\n",
       "      <td>1.020602</td>\n",
       "      <td>1.954766</td>\n",
       "      <td>1.995038</td>\n",
       "    </tr>\n",
       "    <tr>\n",
       "      <th>20</th>\n",
       "      <td>20</td>\n",
       "      <td>ME</td>\n",
       "      <td>0.064052</td>\n",
       "      <td>0.051090</td>\n",
       "      <td>0.797628</td>\n",
       "      <td>1.274175</td>\n",
       "      <td>1.016317</td>\n",
       "    </tr>\n",
       "    <tr>\n",
       "      <th>21</th>\n",
       "      <td>21</td>\n",
       "      <td>MI</td>\n",
       "      <td>0.159149</td>\n",
       "      <td>0.149854</td>\n",
       "      <td>0.941593</td>\n",
       "      <td>2.002527</td>\n",
       "      <td>1.885566</td>\n",
       "    </tr>\n",
       "    <tr>\n",
       "      <th>22</th>\n",
       "      <td>22</td>\n",
       "      <td>MN</td>\n",
       "      <td>0.128484</td>\n",
       "      <td>0.125513</td>\n",
       "      <td>0.976877</td>\n",
       "      <td>1.256834</td>\n",
       "      <td>1.227772</td>\n",
       "    </tr>\n",
       "    <tr>\n",
       "      <th>23</th>\n",
       "      <td>23</td>\n",
       "      <td>MO</td>\n",
       "      <td>0.172906</td>\n",
       "      <td>0.163536</td>\n",
       "      <td>0.945807</td>\n",
       "      <td>1.492813</td>\n",
       "      <td>1.411913</td>\n",
       "    </tr>\n",
       "    <tr>\n",
       "      <th>24</th>\n",
       "      <td>24</td>\n",
       "      <td>MS</td>\n",
       "      <td>0.244847</td>\n",
       "      <td>0.252511</td>\n",
       "      <td>1.031301</td>\n",
       "      <td>2.306884</td>\n",
       "      <td>2.379092</td>\n",
       "    </tr>\n",
       "    <tr>\n",
       "      <th>25</th>\n",
       "      <td>25</td>\n",
       "      <td>MT</td>\n",
       "      <td>0.147739</td>\n",
       "      <td>0.133647</td>\n",
       "      <td>0.904619</td>\n",
       "      <td>1.443708</td>\n",
       "      <td>1.306006</td>\n",
       "    </tr>\n",
       "    <tr>\n",
       "      <th>26</th>\n",
       "      <td>26</td>\n",
       "      <td>NC</td>\n",
       "      <td>0.083771</td>\n",
       "      <td>0.085702</td>\n",
       "      <td>1.023043</td>\n",
       "      <td>1.304560</td>\n",
       "      <td>1.334622</td>\n",
       "    </tr>\n",
       "    <tr>\n",
       "      <th>27</th>\n",
       "      <td>27</td>\n",
       "      <td>ND</td>\n",
       "      <td>0.215206</td>\n",
       "      <td>0.208408</td>\n",
       "      <td>0.968413</td>\n",
       "      <td>1.387973</td>\n",
       "      <td>1.344131</td>\n",
       "    </tr>\n",
       "    <tr>\n",
       "      <th>28</th>\n",
       "      <td>28</td>\n",
       "      <td>NE</td>\n",
       "      <td>0.145057</td>\n",
       "      <td>0.143926</td>\n",
       "      <td>0.992200</td>\n",
       "      <td>1.020306</td>\n",
       "      <td>1.012348</td>\n",
       "    </tr>\n",
       "    <tr>\n",
       "      <th>29</th>\n",
       "      <td>29</td>\n",
       "      <td>NH</td>\n",
       "      <td>0.093917</td>\n",
       "      <td>0.084702</td>\n",
       "      <td>0.901882</td>\n",
       "      <td>1.373227</td>\n",
       "      <td>1.238488</td>\n",
       "    </tr>\n",
       "    <tr>\n",
       "      <th>30</th>\n",
       "      <td>30</td>\n",
       "      <td>NJ</td>\n",
       "      <td>0.264248</td>\n",
       "      <td>0.251133</td>\n",
       "      <td>0.950369</td>\n",
       "      <td>2.560801</td>\n",
       "      <td>2.433705</td>\n",
       "    </tr>\n",
       "    <tr>\n",
       "      <th>31</th>\n",
       "      <td>31</td>\n",
       "      <td>NM</td>\n",
       "      <td>0.187760</td>\n",
       "      <td>0.181683</td>\n",
       "      <td>0.967634</td>\n",
       "      <td>2.056814</td>\n",
       "      <td>1.990243</td>\n",
       "    </tr>\n",
       "    <tr>\n",
       "      <th>32</th>\n",
       "      <td>32</td>\n",
       "      <td>NV</td>\n",
       "      <td>0.178952</td>\n",
       "      <td>0.192067</td>\n",
       "      <td>1.073290</td>\n",
       "      <td>1.732195</td>\n",
       "      <td>1.859147</td>\n",
       "    </tr>\n",
       "    <tr>\n",
       "      <th>33</th>\n",
       "      <td>33</td>\n",
       "      <td>NY</td>\n",
       "      <td>0.124692</td>\n",
       "      <td>0.116284</td>\n",
       "      <td>0.932569</td>\n",
       "      <td>1.734250</td>\n",
       "      <td>1.617308</td>\n",
       "    </tr>\n",
       "    <tr>\n",
       "      <th>34</th>\n",
       "      <td>34</td>\n",
       "      <td>OH</td>\n",
       "      <td>0.184531</td>\n",
       "      <td>0.173149</td>\n",
       "      <td>0.938320</td>\n",
       "      <td>1.798357</td>\n",
       "      <td>1.687435</td>\n",
       "    </tr>\n",
       "    <tr>\n",
       "      <th>35</th>\n",
       "      <td>35</td>\n",
       "      <td>OK</td>\n",
       "      <td>0.207962</td>\n",
       "      <td>0.215613</td>\n",
       "      <td>1.036791</td>\n",
       "      <td>1.519501</td>\n",
       "      <td>1.575406</td>\n",
       "    </tr>\n",
       "    <tr>\n",
       "      <th>36</th>\n",
       "      <td>36</td>\n",
       "      <td>OR</td>\n",
       "      <td>0.055622</td>\n",
       "      <td>0.053617</td>\n",
       "      <td>0.963940</td>\n",
       "      <td>1.350021</td>\n",
       "      <td>1.301339</td>\n",
       "    </tr>\n",
       "    <tr>\n",
       "      <th>37</th>\n",
       "      <td>37</td>\n",
       "      <td>RI</td>\n",
       "      <td>0.244581</td>\n",
       "      <td>0.213952</td>\n",
       "      <td>0.874768</td>\n",
       "      <td>1.802464</td>\n",
       "      <td>1.576738</td>\n",
       "    </tr>\n",
       "    <tr>\n",
       "      <th>38</th>\n",
       "      <td>38</td>\n",
       "      <td>SC</td>\n",
       "      <td>0.165828</td>\n",
       "      <td>0.160825</td>\n",
       "      <td>0.969830</td>\n",
       "      <td>1.642731</td>\n",
       "      <td>1.593170</td>\n",
       "    </tr>\n",
       "    <tr>\n",
       "      <th>39</th>\n",
       "      <td>39</td>\n",
       "      <td>SD</td>\n",
       "      <td>0.226302</td>\n",
       "      <td>0.213323</td>\n",
       "      <td>0.942646</td>\n",
       "      <td>1.603620</td>\n",
       "      <td>1.511646</td>\n",
       "    </tr>\n",
       "    <tr>\n",
       "      <th>40</th>\n",
       "      <td>40</td>\n",
       "      <td>TN</td>\n",
       "      <td>0.181032</td>\n",
       "      <td>0.183472</td>\n",
       "      <td>1.013476</td>\n",
       "      <td>1.439293</td>\n",
       "      <td>1.458689</td>\n",
       "    </tr>\n",
       "    <tr>\n",
       "      <th>41</th>\n",
       "      <td>41</td>\n",
       "      <td>TX</td>\n",
       "      <td>0.181933</td>\n",
       "      <td>0.228098</td>\n",
       "      <td>1.253750</td>\n",
       "      <td>1.707011</td>\n",
       "      <td>2.140165</td>\n",
       "    </tr>\n",
       "    <tr>\n",
       "      <th>42</th>\n",
       "      <td>42</td>\n",
       "      <td>UT</td>\n",
       "      <td>0.073363</td>\n",
       "      <td>0.106704</td>\n",
       "      <td>1.454459</td>\n",
       "      <td>0.554209</td>\n",
       "      <td>0.806074</td>\n",
       "    </tr>\n",
       "    <tr>\n",
       "      <th>43</th>\n",
       "      <td>43</td>\n",
       "      <td>VA</td>\n",
       "      <td>0.121469</td>\n",
       "      <td>0.127442</td>\n",
       "      <td>1.049173</td>\n",
       "      <td>1.631512</td>\n",
       "      <td>1.711739</td>\n",
       "    </tr>\n",
       "    <tr>\n",
       "      <th>44</th>\n",
       "      <td>44</td>\n",
       "      <td>VT</td>\n",
       "      <td>0.034616</td>\n",
       "      <td>0.029556</td>\n",
       "      <td>0.853828</td>\n",
       "      <td>1.071802</td>\n",
       "      <td>0.915134</td>\n",
       "    </tr>\n",
       "    <tr>\n",
       "      <th>45</th>\n",
       "      <td>45</td>\n",
       "      <td>WA</td>\n",
       "      <td>0.066449</td>\n",
       "      <td>0.071476</td>\n",
       "      <td>1.075650</td>\n",
       "      <td>1.364381</td>\n",
       "      <td>1.467596</td>\n",
       "    </tr>\n",
       "    <tr>\n",
       "      <th>46</th>\n",
       "      <td>46</td>\n",
       "      <td>WI</td>\n",
       "      <td>0.136558</td>\n",
       "      <td>0.128088</td>\n",
       "      <td>0.937976</td>\n",
       "      <td>1.143160</td>\n",
       "      <td>1.072256</td>\n",
       "    </tr>\n",
       "    <tr>\n",
       "      <th>47</th>\n",
       "      <td>47</td>\n",
       "      <td>WV</td>\n",
       "      <td>0.147533</td>\n",
       "      <td>0.124581</td>\n",
       "      <td>0.844428</td>\n",
       "      <td>1.842250</td>\n",
       "      <td>1.555646</td>\n",
       "    </tr>\n",
       "    <tr>\n",
       "      <th>48</th>\n",
       "      <td>48</td>\n",
       "      <td>WY</td>\n",
       "      <td>0.105225</td>\n",
       "      <td>0.106015</td>\n",
       "      <td>1.007510</td>\n",
       "      <td>1.215988</td>\n",
       "      <td>1.225120</td>\n",
       "    </tr>\n",
       "  </tbody>\n",
       "</table>\n",
       "</div>"
      ],
      "text/plain": [
       "    Unnamed: 0 State  Actual_DR  Normalized_DR     Delta  \\\n",
       "0            0    AK   0.043606       0.063322  1.452128   \n",
       "1            1    AL   0.212372       0.207580  0.977434   \n",
       "2            2    AR   0.195009       0.189573  0.972121   \n",
       "3            3    AZ   0.213197       0.204625  0.959793   \n",
       "4            4    CA   0.159406       0.172598  1.082753   \n",
       "5            5    CO   0.111413       0.131260  1.178135   \n",
       "6            6    CT   0.222198       0.194129  0.873673   \n",
       "7            7    DE   0.146545       0.132149  0.901768   \n",
       "8            8    FL   0.150644       0.120420  0.799364   \n",
       "9            9    GA   0.158749       0.186349  1.173866   \n",
       "10          10    HI   0.031783       0.027762  0.873498   \n",
       "11          11    IA   0.188015       0.168982  0.898770   \n",
       "12          12    ID   0.113035       0.122320  1.082147   \n",
       "13          13    IL   0.165280       0.164852  0.997409   \n",
       "14          14    IN   0.187175       0.191812  1.024778   \n",
       "15          15    KS   0.165791       0.162480  0.980032   \n",
       "16          16    KY   0.158203       0.160219  1.012740   \n",
       "17          17    LA   0.199493       0.209513  1.050228   \n",
       "18          18    MA   0.190308       0.177487  0.932628   \n",
       "19          19    MD   0.160214       0.163514  1.020602   \n",
       "20          20    ME   0.064052       0.051090  0.797628   \n",
       "21          21    MI   0.159149       0.149854  0.941593   \n",
       "22          22    MN   0.128484       0.125513  0.976877   \n",
       "23          23    MO   0.172906       0.163536  0.945807   \n",
       "24          24    MS   0.244847       0.252511  1.031301   \n",
       "25          25    MT   0.147739       0.133647  0.904619   \n",
       "26          26    NC   0.083771       0.085702  1.023043   \n",
       "27          27    ND   0.215206       0.208408  0.968413   \n",
       "28          28    NE   0.145057       0.143926  0.992200   \n",
       "29          29    NH   0.093917       0.084702  0.901882   \n",
       "30          30    NJ   0.264248       0.251133  0.950369   \n",
       "31          31    NM   0.187760       0.181683  0.967634   \n",
       "32          32    NV   0.178952       0.192067  1.073290   \n",
       "33          33    NY   0.124692       0.116284  0.932569   \n",
       "34          34    OH   0.184531       0.173149  0.938320   \n",
       "35          35    OK   0.207962       0.215613  1.036791   \n",
       "36          36    OR   0.055622       0.053617  0.963940   \n",
       "37          37    RI   0.244581       0.213952  0.874768   \n",
       "38          38    SC   0.165828       0.160825  0.969830   \n",
       "39          39    SD   0.226302       0.213323  0.942646   \n",
       "40          40    TN   0.181032       0.183472  1.013476   \n",
       "41          41    TX   0.181933       0.228098  1.253750   \n",
       "42          42    UT   0.073363       0.106704  1.454459   \n",
       "43          43    VA   0.121469       0.127442  1.049173   \n",
       "44          44    VT   0.034616       0.029556  0.853828   \n",
       "45          45    WA   0.066449       0.071476  1.075650   \n",
       "46          46    WI   0.136558       0.128088  0.937976   \n",
       "47          47    WV   0.147533       0.124581  0.844428   \n",
       "48          48    WY   0.105225       0.106015  1.007510   \n",
       "\n",
       "    Cum_Covid_19_Death_Rate  Adj_for_age_Covid_Death_Rate  \n",
       "0                  0.521335                      0.757045  \n",
       "1                  2.063941                      2.017367  \n",
       "2                  1.707780                      1.660169  \n",
       "3                  2.008587                      1.927828  \n",
       "4                  1.662034                      1.799573  \n",
       "5                  1.231980                      1.451439  \n",
       "6                  2.386855                      2.085331  \n",
       "7                  1.556439                      1.403547  \n",
       "8                  1.604283                      1.282406  \n",
       "9                  1.835143                      2.154211  \n",
       "10                 1.533546                      1.339550  \n",
       "11                 1.630843                      1.465753  \n",
       "12                 1.090293                      1.179857  \n",
       "13                 1.819476                      1.814762  \n",
       "14                 1.850574                      1.896429  \n",
       "15                 1.611620                      1.579439  \n",
       "16                 1.463770                      1.482419  \n",
       "17                 2.263940                      2.377653  \n",
       "18                 2.663615                      2.484161  \n",
       "19                 1.954766                      1.995038  \n",
       "20                 1.274175                      1.016317  \n",
       "21                 2.002527                      1.885566  \n",
       "22                 1.256834                      1.227772  \n",
       "23                 1.492813                      1.411913  \n",
       "24                 2.306884                      2.379092  \n",
       "25                 1.443708                      1.306006  \n",
       "26                 1.304560                      1.334622  \n",
       "27                 1.387973                      1.344131  \n",
       "28                 1.020306                      1.012348  \n",
       "29                 1.373227                      1.238488  \n",
       "30                 2.560801                      2.433705  \n",
       "31                 2.056814                      1.990243  \n",
       "32                 1.732195                      1.859147  \n",
       "33                 1.734250                      1.617308  \n",
       "34                 1.798357                      1.687435  \n",
       "35                 1.519501                      1.575406  \n",
       "36                 1.350021                      1.301339  \n",
       "37                 1.802464                      1.576738  \n",
       "38                 1.642731                      1.593170  \n",
       "39                 1.603620                      1.511646  \n",
       "40                 1.439293                      1.458689  \n",
       "41                 1.707011                      2.140165  \n",
       "42                 0.554209                      0.806074  \n",
       "43                 1.631512                      1.711739  \n",
       "44                 1.071802                      0.915134  \n",
       "45                 1.364381                      1.467596  \n",
       "46                 1.143160                      1.072256  \n",
       "47                 1.842250                      1.555646  \n",
       "48                 1.215988                      1.225120  "
      ]
     },
     "execution_count": 16,
     "metadata": {},
     "output_type": "execute_result"
    }
   ],
   "source": [
    "dfff = pd.read_csv(\"Output/Adj_for_age_Death_Rate.csv\")\n",
    "dfff"
   ]
  },
  {
   "cell_type": "code",
   "execution_count": 17,
   "metadata": {
    "scrolled": false
   },
   "outputs": [
    {
     "name": "stdout",
     "output_type": "stream",
     "text": [
      "The lower quartile of the death rate for all states is: 1.36\n",
      "The upper quartile of the death rate for all states is: 1.84\n",
      "The interquartile range of the death rate for all states is: 0.47\n",
      "The median of the death rate for all states is: 1.61 \n",
      "Values below 0.66 could be outliers.\n",
      "Values above 2.54 could be outliers.\n"
     ]
    }
   ],
   "source": [
    "# Locate the rows which contain mice on Infubinol and get the tumor volumes\n",
    "\n",
    "death_rate = dfff[\"Cum_Covid_19_Death_Rate\"]\n",
    "\n",
    "# Calculate the IQR and quantitatively determine if there are any potential outliers. \n",
    "death_quartiles = death_rate.quantile([.25,.5,.75])\n",
    "death_lowerq = death_quartiles[0.25]\n",
    "death_upperq = death_quartiles[0.75]\n",
    "death_iqr = death_upperq-death_lowerq\n",
    "\n",
    "print(f\"The lower quartile of the death rate for all states is: {round(death_lowerq,2)}\")\n",
    "print(f\"The upper quartile of the death rate for all states is: {round(death_upperq,2)}\")\n",
    "print(f\"The interquartile range of the death rate for all states is: {round(death_iqr,2)}\")\n",
    "print(f\"The median of the death rate for all states is: {round(death_quartiles[0.5],2)} \")\n",
    "\n",
    "# Determine outliers using upper and lower bounds\n",
    "death_lower_bound = death_lowerq - (1.5*death_iqr)\n",
    "death_upper_bound = death_upperq + (1.5*death_iqr)\n",
    "print(f\"Values below {round(death_lower_bound,2)} could be outliers.\")\n",
    "print(f\"Values above {round(death_upper_bound,2)} could be outliers.\")"
   ]
  },
  {
   "cell_type": "code",
   "execution_count": 22,
   "metadata": {},
   "outputs": [
    {
     "name": "stdout",
     "output_type": "stream",
     "text": [
      "The lower quartile of the adjusted death rate for all states is: 1.31\n",
      "The upper quartile of the adjusted death rate for all states is: 1.89\n",
      "The interquartile range of the adjusted death rate for all states is: 0.58\n",
      "The median of the adjusted death rate for all states is: 1.56 \n",
      "Values below 0.44 could be outliers.\n",
      "Values above 2.75 could be outliers.\n"
     ]
    }
   ],
   "source": [
    "# Locate the rows which contain mice on Infubinol and get the tumor volumes\n",
    "\n",
    "adj_rate = dfff[\"Adj_for_age_Covid_Death_Rate\"]\n",
    "\n",
    "# Calculate the IQR and quantitatively determine if there are any potential outliers. \n",
    "adj_quartiles = adj_rate.quantile([.25,.5,.75])\n",
    "adj_lowerq = adj_quartiles[0.25]\n",
    "adj_upperq = adj_quartiles[0.75]\n",
    "adj_iqr = adj_upperq-adj_lowerq\n",
    "\n",
    "print(f\"The lower quartile of the adjusted death rate for all states is: {round(adj_lowerq,2)}\")\n",
    "print(f\"The upper quartile of the adjusted death rate for all states is: {round(adj_upperq,2)}\")\n",
    "print(f\"The interquartile range of the adjusted death rate for all states is: {round(adj_iqr,2)}\")\n",
    "print(f\"The median of the adjusted death rate for all states is: {round(adj_quartiles[0.5],2)} \")\n",
    "\n",
    "# Determine outliers using upper and lower bounds\n",
    "adj_lower_bound = adj_lowerq - (1.5*adj_iqr)\n",
    "adj_upper_bound = adj_upperq + (1.5*adj_iqr)\n",
    "print(f\"Values below {round(adj_lower_bound,2)} could be outliers.\")\n",
    "print(f\"Values above {round(adj_upper_bound,2)} could be outliers.\")"
   ]
  },
  {
   "cell_type": "code",
   "execution_count": 23,
   "metadata": {},
   "outputs": [],
   "source": [
    "values = [death_rate, adj_rate]"
   ]
  },
  {
   "cell_type": "code",
   "execution_count": 26,
   "metadata": {},
   "outputs": [],
   "source": [
    "labels = [\"Death Rate\", \"Adjusted Death Rate\"]"
   ]
  },
  {
   "cell_type": "code",
   "execution_count": 31,
   "metadata": {},
   "outputs": [
    {
     "data": {
      "image/png": "[encoded data removed]",
      "text/plain": [
       "<Figure size 720x576 with 1 Axes>"
      ]
     },
     "metadata": {
      "needs_background": "light"
     },
     "output_type": "display_data"
    }
   ],
   "source": [
    "fig, ax1 = plt.subplots(figsize=(10, 8))\n",
    "flierprops = dict(marker='o', \n",
    "                  markersize=14, \n",
    "                  markerfacecolor='lightblue',\n",
    "                  markeredgecolor='cornflowerblue')\n",
    "\n",
    "plt.boxplot = ax1.boxplot(values, labels=labels, patch_artist=True, flierprops=flierprops)\n",
    "\n",
    "plt.annotate('MA',\n",
    "    (1, 2.7),\n",
    "    xytext=(1, 2.7),\n",
    "    fontsize=11)\n",
    "plt.annotate('NJ',\n",
    "    (1, 2.5),\n",
    "    xytext=(1, 2.5),\n",
    "    fontsize=11)\n",
    "plt.annotate('AK',\n",
    "    (1, 0.45),\n",
    "    xytext=(1, 0.45),\n",
    "    fontsize=11)\n",
    "plt.annotate('UT',\n",
    "    (1, 0.59),\n",
    "    xytext=(1, 0.59),\n",
    "    fontsize=11)\n",
    "\n",
    "\n",
    "#for index, row in df1.iterrows():\n",
    "#        print(f\"{row[0]} at coords: ({row[1]})\")\n",
    "#        plt.annotate(row[0],row[1])\n",
    "plt.title('COVID-19 Death Rate by State')\n",
    "plt.ylabel('COVID-19 Death Rate(%)')\n",
    "plt.savefig(\"Output/death-rate-boxplot.png\")\n",
    "plt.show()\n"
   ]
  },
  {
   "cell_type": "code",
   "execution_count": null,
   "metadata": {},
   "outputs": [],
   "source": []
  },
  {
   "cell_type": "code",
   "execution_count": null,
   "metadata": {},
   "outputs": [],
   "source": []
  }
 ],
 "metadata": {
  "kernelspec": {
   "display_name": "Python 3",
   "language": "python",
   "name": "python3"
  },
  "language_info": {
   "codemirror_mode": {
    "name": "ipython",
    "version": 3
   },
   "file_extension": ".py",
   "mimetype": "text/x-python",
   "name": "python",
   "nbconvert_exporter": "python",
   "pygments_lexer": "ipython3",
   "version": "3.8.5"
  }
 },
 "nbformat": 4,
 "nbformat_minor": 4
}
