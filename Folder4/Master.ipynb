{
 "cells": [
  {
   "cell_type": "code",
   "execution_count": 18,
   "metadata": {},
   "outputs": [],
   "source": [
    "import json\n",
    "import requests\n",
    "import numpy as np\n",
    "import pandas as pd\n",
    "import seaborn as sns\n",
    "from pprint import pprint\n",
    "import matplotlib.pyplot as plt\n",
    "from scipy.stats import linregress"
   ]
  },
  {
   "cell_type": "code",
   "execution_count": 3,
   "metadata": {},
   "outputs": [],
   "source": [
    "# What do we want our DataFrame to look like?"
   ]
  },
  {
   "cell_type": "code",
   "execution_count": 4,
   "metadata": {},
   "outputs": [],
   "source": [
    "# OUTPUT / HEADLINES\n",
    "# How have states performed in their management of the Covid Crisis?\n",
    "## 1. Ranking of states by death rate\n",
    "### Data: rows: States columns: Deaths, Population (Death Rate), Nice (by month)\n",
    "## 2. Excess death rate by state, Nice by month\n",
    "### Compare 1 and 2 - are they the same? Is reporting accurate?\n",
    "## 3. Can we normalize death rate by age?\n",
    "### by state, population by age group, death rate (deaths/population) by age group"
   ]
  },
  {
   "cell_type": "code",
   "execution_count": 5,
   "metadata": {},
   "outputs": [],
   "source": [
    "# DATA\n",
    "# by state, by month, by age group\n",
    "## deaths, population\n",
    "# by state, by month\n",
    "## excess deaths"
   ]
  },
  {
   "cell_type": "markdown",
   "metadata": {},
   "source": [
    "Death Rate by State"
   ]
  },
  {
   "cell_type": "code",
   "execution_count": 2,
   "metadata": {},
   "outputs": [],
   "source": [
    "df1 = pd.read_csv(\"../Folder2/Final_DeathRate_byState_042021.csv\")"
   ]
  },
  {
   "cell_type": "code",
   "execution_count": 3,
   "metadata": {},
   "outputs": [],
   "source": [
    "df1.rename(columns={\"Unnamed: 0\": \"State\", \"Covid_Death_Rate\":\"Cum_Covid_19_Death_Rate\"},inplace=True)\n",
    "df1.drop([0,1,2,3,4,12,36,41,60,62,54,56,61],inplace=True)\n",
    "df1 = df1.reset_index(drop=True)"
   ]
  },
  {
   "cell_type": "code",
   "execution_count": 4,
   "metadata": {},
   "outputs": [],
   "source": [
    "states = df1[\"State\"]\n",
    "death_rate = df1[\"Cum_Covid_19_Death_Rate\"]"
   ]
  },
  {
   "cell_type": "code",
   "execution_count": 6,
   "metadata": {},
   "outputs": [
    {
     "data": {
      "image/png": "[encoded data removed]",
      "text/plain": [
       "<Figure size 1080x360 with 1 Axes>"
      ]
     },
     "metadata": {
      "needs_background": "light"
     },
     "output_type": "display_data"
    }
   ],
   "source": [
    "plt.figure(figsize=(15,5))\n",
    "plt.bar(states,death_rate, color='darkseagreen')\n",
    "plt.grid(True)\n",
    "plt.title('COVID-19 Death Rate by State')\n",
    "plt.ylabel('COVID-19 Death Rate(%)')\n",
    "plt.xlabel('State')\n",
    "plt.xticks(rotation = 90)\n",
    "plt.savefig(\"Output/death-rate-by-state.png\")\n",
    "plt.show()"
   ]
  },
  {
   "cell_type": "markdown",
   "metadata": {},
   "source": [
    "Age Data Analysis"
   ]
  },
  {
   "cell_type": "code",
   "execution_count": 10,
   "metadata": {
    "scrolled": true
   },
   "outputs": [
    {
     "data": {
      "text/html": [
       "<div>\n",
       "<style scoped>\n",
       "    .dataframe tbody tr th:only-of-type {\n",
       "        vertical-align: middle;\n",
       "    }\n",
       "\n",
       "    .dataframe tbody tr th {\n",
       "        vertical-align: top;\n",
       "    }\n",
       "\n",
       "    .dataframe thead th {\n",
       "        text-align: right;\n",
       "    }\n",
       "</style>\n",
       "<table border=\"1\" class=\"dataframe\">\n",
       "  <thead>\n",
       "    <tr style=\"text-align: right;\">\n",
       "      <th></th>\n",
       "      <th>Start Date</th>\n",
       "      <th>End Date</th>\n",
       "      <th>Group</th>\n",
       "      <th>State</th>\n",
       "      <th>Age Group</th>\n",
       "      <th>COVID-19 Deaths</th>\n",
       "      <th>Total Deaths</th>\n",
       "      <th>Population by Age Group</th>\n",
       "      <th>COVID-19 Death Rate</th>\n",
       "      <th>Population %</th>\n",
       "      <th>COVID-19 Death Rate by Age</th>\n",
       "    </tr>\n",
       "  </thead>\n",
       "  <tbody>\n",
       "    <tr>\n",
       "      <th>0</th>\n",
       "      <td>1/1/20</td>\n",
       "      <td>4/24/21</td>\n",
       "      <td>By Total</td>\n",
       "      <td>United States</td>\n",
       "      <td>Under 5 years</td>\n",
       "      <td>34.0</td>\n",
       "      <td>4286.0</td>\n",
       "      <td>19531315.0</td>\n",
       "      <td>0.000174</td>\n",
       "      <td>5.963145</td>\n",
       "      <td>0.006099</td>\n",
       "    </tr>\n",
       "    <tr>\n",
       "      <th>1</th>\n",
       "      <td>1/1/20</td>\n",
       "      <td>4/24/21</td>\n",
       "      <td>By Total</td>\n",
       "      <td>United States</td>\n",
       "      <td>5-14 years</td>\n",
       "      <td>98.0</td>\n",
       "      <td>6930.0</td>\n",
       "      <td>40926765.0</td>\n",
       "      <td>0.000239</td>\n",
       "      <td>12.495434</td>\n",
       "      <td>0.017579</td>\n",
       "    </tr>\n",
       "    <tr>\n",
       "      <th>2</th>\n",
       "      <td>1/1/20</td>\n",
       "      <td>4/24/21</td>\n",
       "      <td>By Total</td>\n",
       "      <td>United States</td>\n",
       "      <td>15-24 years</td>\n",
       "      <td>844.0</td>\n",
       "      <td>44906.0</td>\n",
       "      <td>42599542.0</td>\n",
       "      <td>0.001981</td>\n",
       "      <td>13.006152</td>\n",
       "      <td>0.151394</td>\n",
       "    </tr>\n",
       "    <tr>\n",
       "      <th>3</th>\n",
       "      <td>1/1/20</td>\n",
       "      <td>4/24/21</td>\n",
       "      <td>By Total</td>\n",
       "      <td>United States</td>\n",
       "      <td>25-34 years</td>\n",
       "      <td>3741.0</td>\n",
       "      <td>92911.0</td>\n",
       "      <td>45775780.0</td>\n",
       "      <td>0.008172</td>\n",
       "      <td>13.975896</td>\n",
       "      <td>0.671048</td>\n",
       "    </tr>\n",
       "    <tr>\n",
       "      <th>4</th>\n",
       "      <td>1/1/20</td>\n",
       "      <td>4/24/21</td>\n",
       "      <td>By Total</td>\n",
       "      <td>United States</td>\n",
       "      <td>35-44 years</td>\n",
       "      <td>9724.0</td>\n",
       "      <td>133834.0</td>\n",
       "      <td>41550175.0</td>\n",
       "      <td>0.023403</td>\n",
       "      <td>12.685768</td>\n",
       "      <td>1.744259</td>\n",
       "    </tr>\n",
       "  </tbody>\n",
       "</table>\n",
       "</div>"
      ],
      "text/plain": [
       "  Start Date End Date     Group          State      Age Group  \\\n",
       "0     1/1/20  4/24/21  By Total  United States  Under 5 years   \n",
       "1     1/1/20  4/24/21  By Total  United States     5-14 years   \n",
       "2     1/1/20  4/24/21  By Total  United States    15-24 years   \n",
       "3     1/1/20  4/24/21  By Total  United States    25-34 years   \n",
       "4     1/1/20  4/24/21  By Total  United States    35-44 years   \n",
       "\n",
       "   COVID-19 Deaths  Total Deaths  Population by Age Group  \\\n",
       "0             34.0        4286.0               19531315.0   \n",
       "1             98.0        6930.0               40926765.0   \n",
       "2            844.0       44906.0               42599542.0   \n",
       "3           3741.0       92911.0               45775780.0   \n",
       "4           9724.0      133834.0               41550175.0   \n",
       "\n",
       "   COVID-19 Death Rate  Population %  COVID-19 Death Rate by Age  \n",
       "0             0.000174      5.963145                    0.006099  \n",
       "1             0.000239     12.495434                    0.017579  \n",
       "2             0.001981     13.006152                    0.151394  \n",
       "3             0.008172     13.975896                    0.671048  \n",
       "4             0.023403     12.685768                    1.744259  "
      ]
     },
     "execution_count": 10,
     "metadata": {},
     "output_type": "execute_result"
    }
   ],
   "source": [
    "age_data = pd.read_csv(\"../Folder3/final-age-data.csv\")\n",
    "age_data.head()"
   ]
  },
  {
   "cell_type": "code",
   "execution_count": 11,
   "metadata": {},
   "outputs": [],
   "source": [
    "age_data = age_data.loc[age_data['Age Group']!='All Ages']"
   ]
  },
  {
   "cell_type": "code",
   "execution_count": 13,
   "metadata": {},
   "outputs": [
    {
     "data": {
      "image/png": "[encoded data removed]",
      "text/plain": [
       "<Figure size 432x288 with 1 Axes>"
      ]
     },
     "metadata": {
      "needs_background": "light"
     },
     "output_type": "display_data"
    }
   ],
   "source": [
    "x_axis = []\n",
    "x_axis = age_data['Age Group'].tolist()\n",
    "ind = np.arange(len(x_axis))\n",
    "width = 0.4\n",
    "\n",
    "death_axis = age_data['COVID-19 Death Rate by Age'].astype(float)\n",
    "pop_axis = age_data['Population %'].astype(float)\n",
    "fig, ax = plt.subplots()\n",
    "\n",
    "ax.barh(ind-width, pop_axis, width, label ='Percent of US Population', color='darkseagreen', align='center')\n",
    "ax.barh(ind, death_axis, width, color='lightblue', label='Percentage of Deaths', align='center')\n",
    "\n",
    "\n",
    "ax.set_yticks(ind-.2)\n",
    "ax.legend()\n",
    "ax.set_xlabel('%')\n",
    "ax.set_ylabel('Age Group (years)')\n",
    "ax.set_yticklabels(x_axis)\n",
    "ax.invert_yaxis()  # labels read top-to-bottom\n",
    "ax.set_title('COVID-19 Deaths (%) and Population (%) by Age')\n",
    "plt.savefig('Output/COVID-19 Deaths (%) and Population (%) by Age.png')\n",
    "plt.show()"
   ]
  },
  {
   "cell_type": "code",
   "execution_count": null,
   "metadata": {},
   "outputs": [],
   "source": [
    "# Can we explain the above / what are other factors?"
   ]
  },
  {
   "cell_type": "code",
   "execution_count": null,
   "metadata": {},
   "outputs": [],
   "source": [
    "# EXPLANATION / CORRELATED FACTORS\n",
    "## Health - insurance cover, hospital beds, prevalence of health conditions\n",
    "## Preventative Measures - masks, gatherings, lockdowns, politics\n",
    "## Geographical - climate, dispersion\n",
    "## Demographics - income, race, [age], sex, \n",
    "## Timing - vaccinations, surges"
   ]
  },
  {
   "cell_type": "markdown",
   "metadata": {},
   "source": [
    "Health Data - Hospital Beds"
   ]
  },
  {
   "cell_type": "code",
   "execution_count": 7,
   "metadata": {},
   "outputs": [],
   "source": [
    "hospital_beds = pd.read_csv(\"../Folder1/hospitalbeds_percapita_bystate.csv\",skiprows=(0,1))"
   ]
  },
  {
   "cell_type": "code",
   "execution_count": 8,
   "metadata": {},
   "outputs": [],
   "source": [
    "us_state_abbrev = {\n",
    "    'United States': 'USA',\n",
    "    'Alabama': 'AL',\n",
    "    'Alaska': 'AK',\n",
    "    'Arizona': 'AZ',\n",
    "    'Arkansas': 'AR',\n",
    "    'California': 'CA',\n",
    "    'Colorado': 'CO',\n",
    "    'Connecticut': 'CT',\n",
    "    'Delaware': 'DE',\n",
    "    'District of Columbia': 'DC',\n",
    "    'Florida': 'FL',\n",
    "    'Georgia': 'GA',\n",
    "    'Hawaii': 'HI',\n",
    "    'Idaho': 'ID',\n",
    "    'Illinois': 'IL',\n",
    "    'Indiana': 'IN',\n",
    "    'Iowa': 'IA',\n",
    "    'Kansas': 'KS',\n",
    "    'Kentucky': 'KY',\n",
    "    'Louisiana': 'LA',\n",
    "    'Maine': 'ME',\n",
    "    'Maryland': 'MD',\n",
    "    'Massachusetts': 'MA',\n",
    "    'Michigan': 'MI',\n",
    "    'Minnesota': 'MN',\n",
    "    'Mississippi': 'MS',\n",
    "    'Missouri': 'MO',\n",
    "    'Montana': 'MT',\n",
    "    'Nebraska': 'NE',\n",
    "    'Nevada': 'NV',\n",
    "    'New Hampshire': 'NH',\n",
    "    'New Jersey': 'NJ',\n",
    "    'New Mexico': 'NM',\n",
    "    'New York City':\"NYC\",\n",
    "    'New York': 'NY',\n",
    "    'North Carolina': 'NC',\n",
    "    'North Dakota': 'ND',\n",
    "    'Ohio': 'OH',\n",
    "    'Oklahoma': 'OK',\n",
    "    'Oregon': 'OR',\n",
    "    'Pennsylvania': 'PA',\n",
    "    'Rhode Island': 'RI',\n",
    "    'South Carolina': 'SC',\n",
    "    'South Dakota': 'SD',\n",
    "    'Tennessee': 'TN',\n",
    "    'Texas': 'TX',\n",
    "    'Utah': 'UT',\n",
    "    'Vermont': 'VT',\n",
    "    'Virginia': 'VA',\n",
    "    'Washington': 'WA',\n",
    "    'West Virginia': 'WV',\n",
    "    'Wisconsin': 'WI',\n",
    "    'Wyoming': 'WY',\n",
    "}"
   ]
  },
  {
   "cell_type": "code",
   "execution_count": 9,
   "metadata": {},
   "outputs": [],
   "source": [
    "hospital_beds = hospital_beds.dropna()"
   ]
  },
  {
   "cell_type": "code",
   "execution_count": 10,
   "metadata": {},
   "outputs": [],
   "source": [
    "total_beds = []\n",
    "total_beds = hospital_beds['Total'].tolist()"
   ]
  },
  {
   "cell_type": "code",
   "execution_count": 11,
   "metadata": {},
   "outputs": [],
   "source": [
    "states = hospital_beds[\"Location\"].unique()"
   ]
  },
  {
   "cell_type": "code",
   "execution_count": 12,
   "metadata": {},
   "outputs": [],
   "source": [
    "Dict = {\"States\":[]}\n",
    "for state in states:\n",
    "    Dict[\"States\"].append(us_state_abbrev[state])"
   ]
  },
  {
   "cell_type": "code",
   "execution_count": 13,
   "metadata": {},
   "outputs": [],
   "source": [
    "hospital_beds = pd.DataFrame(Dict)\n",
    "hospital_beds['Total Beds'] = total_beds"
   ]
  },
  {
   "cell_type": "code",
   "execution_count": 14,
   "metadata": {},
   "outputs": [],
   "source": [
    "df_deathrate = pd.read_csv(\"../Folder2/Final_DeathRate_byState_042021.csv\")\n",
    "df_deathrate.rename(columns={\"Unnamed: 0\":\"States\"},inplace=True)\n",
    "df_deathrate = df_deathrate.loc[df_deathrate['States']!='RMI']\n",
    "df_deathrate = df_deathrate.loc[df_deathrate['States']!='FSM']\n",
    "df_deathrate = df_deathrate.loc[df_deathrate['States']!='AS']\n",
    "df_deathrate = df_deathrate.loc[df_deathrate['States']!='NYC']\n",
    "df_deathrate = df_deathrate.loc[df_deathrate['States']!='PW']\n",
    "df_deathrate = df_deathrate.loc[df_deathrate['States']!='DC']\n",
    "df_deathrate = df_deathrate.loc[df_deathrate['States']!='PR']\n",
    "df_deathrate = df_deathrate.loc[df_deathrate['States']!='GU']\n",
    "df_deathrate = df_deathrate.loc[df_deathrate['States']!='MP']"
   ]
  },
  {
   "cell_type": "code",
   "execution_count": 15,
   "metadata": {},
   "outputs": [],
   "source": [
    "df_deathrate = df_deathrate.dropna()"
   ]
  },
  {
   "cell_type": "code",
   "execution_count": 16,
   "metadata": {},
   "outputs": [],
   "source": [
    "df_deathrate = df_deathrate.reset_index(drop=True)"
   ]
  },
  {
   "cell_type": "code",
   "execution_count": 17,
   "metadata": {},
   "outputs": [],
   "source": [
    "df_merge = df_deathrate.merge(hospital_beds, how='inner', on=\"States\")"
   ]
  },
  {
   "cell_type": "code",
   "execution_count": 40,
   "metadata": {},
   "outputs": [],
   "source": [
    "state_names = df_merge[\"States\"]\n",
    "total_beds = df_merge[\"Total Beds\"]\n",
    "Covid_Death_Rate = df_merge[\"Covid_Death_Rate\"]"
   ]
  },
  {
   "cell_type": "code",
   "execution_count": 61,
   "metadata": {},
   "outputs": [
    {
     "data": {
      "image/png": "[encoded data removed]",
      "text/plain": [
       "<Figure size 1080x360 with 1 Axes>"
      ]
     },
     "metadata": {
      "needs_background": "light"
     },
     "output_type": "display_data"
    }
   ],
   "source": [
    "plt.figure(figsize=(15,5))\n",
    "plt.bar(state_names, total_beds, label='Total Hospital Beds(%)', color='darkseagreen')\n",
    "plt.bar(state_names, Covid_Death_Rate, label='COVID-19 Death Rate(%)', width=.4, color='lightblue')\n",
    "plt.grid(True, color='lightgrey')\n",
    "plt.title('Total Hospital Beds and Covid Death Rate by State')\n",
    "plt.xlabel('State')\n",
    "plt.xticks(rotation = 90)\n",
    "plt.legend()\n",
    "fig.tight_layout()\n",
    "plt.savefig(\"Output/death-rate-and-beds-by-state.png\")\n",
    "plt.show()"
   ]
  },
  {
   "cell_type": "code",
   "execution_count": 26,
   "metadata": {},
   "outputs": [
    {
     "name": "stdout",
     "output_type": "stream",
     "text": [
      "The r-squared is 0.04\n",
      "The line equation is: y = 0.14x + 1.29\n"
     ]
    },
    {
     "data": {
      "image/png": "[encoded data removed]",
      "text/plain": [
       "<Figure size 432x288 with 1 Axes>"
      ]
     },
     "metadata": {
      "needs_background": "light"
     },
     "output_type": "display_data"
    }
   ],
   "source": [
    "(slope, intercept, rvalue, pvalue, stderr) = linregress(total_beds, Covid_Death_Rate)\n",
    "\n",
    "regress_values = total_beds * slope + intercept\n",
    "\n",
    "line_eq = \"y = \" + str(round(slope,2)) + \"x + \" + str(round(intercept,2))\n",
    "\n",
    "plt.scatter(total_beds,Covid_Death_Rate)\n",
    "\n",
    "plt.plot(total_beds,regress_values,\"lightblue\")\n",
    "\n",
    "r_sqr = round(rvalue**2,2)\n",
    "\n",
    "plt.annotate(line_eq,(3, .8),fontsize=10,color=\"black\")\n",
    "\n",
    "plt.annotate(f\"The r-squared is: {r_sqr}\",(25,0.5),fontsize=10,color=\"black\")\n",
    "\n",
    "plt.xlabel('Total Beds')\n",
    "plt.ylabel('Covid Death Rate %')\n",
    "plt.title(\"Total Hospital Beds and Covid Deaths by State\")\n",
    "\n",
    "print(f\"The r-squared is {r_sqr}\")\n",
    "print(f\"The line equation is: {line_eq}\")\n",
    "\n",
    "for index, row in df_merge.iterrows():\n",
    "    #print(f\"{row[0]} at coords: ({row[2]},{row[1]})\")\n",
    "    plt.annotate(row[0],(row[2],row[1]))\n",
    "\n",
    "plt.savefig(\"Output/total-beds-and-deaths-regression.png\")\n",
    "plt.show()\n"
   ]
  },
  {
   "cell_type": "code",
   "execution_count": null,
   "metadata": {},
   "outputs": [],
   "source": [
    "## Preventative Measures\n",
    "# DATA\n",
    "## by state, by month (or day)\n",
    "### # of days with mask mandate, lock down, policy on gatherings (yes,no !>10), politics (red or blue / last election)"
   ]
  },
  {
   "cell_type": "code",
   "execution_count": null,
   "metadata": {},
   "outputs": [],
   "source": [
    "## Geography\n",
    "# DATA\n",
    "## by state, by day\n",
    "### min temp - max temp, days within a certain temperature range, humidity, rural and urban populations"
   ]
  },
  {
   "cell_type": "code",
   "execution_count": null,
   "metadata": {},
   "outputs": [],
   "source": [
    "## Demographics\n",
    "# DATA\n",
    "## by state\n",
    "## income, population (or income per capita), population by race, population by age, population by sex"
   ]
  },
  {
   "cell_type": "code",
   "execution_count": null,
   "metadata": {},
   "outputs": [],
   "source": [
    "## Timing\n",
    "# DATA\n",
    "## by state, by month (better by day)\n",
    "### Vaccinations, deaths, infections"
   ]
  },
  {
   "cell_type": "code",
   "execution_count": null,
   "metadata": {},
   "outputs": [],
   "source": []
  },
  {
   "cell_type": "code",
   "execution_count": null,
   "metadata": {},
   "outputs": [],
   "source": [
    "# DataFrame1 - by state, by day data\n",
    "## Columns\n",
    "### temperature (max/min), humidity, vaccinations, infections, deaths, mask mandate, gatherings\n",
    "\n",
    "# DataFrame2 - by month data\n",
    "## Columns\n",
    "### excess deaths\n",
    "\n",
    "# DataFrame3 - by state, no change with time\n",
    "## Columns\n",
    "### population, hospital beds, sex, race, insurance cover, health conditions, geographical dispersion (urban versus rural)\n",
    "### income, population [by age group: 20, 30, etc... ], politics"
   ]
  }
 ],
 "metadata": {
  "kernelspec": {
   "display_name": "Python 3",
   "language": "python",
   "name": "python3"
  },
  "language_info": {
   "codemirror_mode": {
    "name": "ipython",
    "version": 3
   },
   "file_extension": ".py",
   "mimetype": "text/x-python",
   "name": "python",
   "nbconvert_exporter": "python",
   "pygments_lexer": "ipython3",
   "version": "3.8.5"
  }
 },
 "nbformat": 4,
 "nbformat_minor": 4
}
