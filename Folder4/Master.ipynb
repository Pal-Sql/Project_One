{
 "cells": [
  {
   "cell_type": "code",
   "execution_count": 211,
   "metadata": {},
   "outputs": [],
   "source": [
    "import json\n",
    "import requests\n",
    "import numpy as np\n",
    "import pandas as pd\n",
    "import seaborn as sns\n",
    "from pprint import pprint\n",
    "import matplotlib.pyplot as plt\n",
    "from scipy.stats import linregress"
   ]
  },
  {
   "cell_type": "markdown",
   "metadata": {},
   "source": [
    "Death Rate by State"
   ]
  },
  {
   "cell_type": "code",
   "execution_count": 212,
   "metadata": {},
   "outputs": [],
   "source": [
    "df1 = pd.read_csv(\"../Folder2/Final_DeathRate_byState_042021.csv\")"
   ]
  },
  {
   "cell_type": "code",
   "execution_count": 213,
   "metadata": {},
   "outputs": [],
   "source": [
    "df1.rename(columns={\"Unnamed: 0\": \"State\", \"Covid_Death_Rate\":\"Cum_Covid_19_Death_Rate\"},inplace=True)\n",
    "df1.drop([0,1,2,3,4,12,36,41,60,62,54,56,61],inplace=True)\n",
    "df1 = df1.reset_index(drop=True)"
   ]
  },
  {
   "cell_type": "code",
   "execution_count": 214,
   "metadata": {},
   "outputs": [
    {
     "data": {
      "text/plain": [
       "'AK'"
      ]
     },
     "execution_count": 214,
     "metadata": {},
     "output_type": "execute_result"
    }
   ],
   "source": [
    "states = df1[\"State\"]\n",
    "death_rate = df1[\"Cum_Covid_19_Death_Rate\"]\n",
    "df1.iloc[0,0]"
   ]
  },
  {
   "cell_type": "code",
   "execution_count": 215,
   "metadata": {},
   "outputs": [
    {
     "data": {
      "image/png": "[encoded data removed]",
      "text/plain": [
       "<Figure size 1080x360 with 1 Axes>"
      ]
     },
     "metadata": {
      "needs_background": "light"
     },
     "output_type": "display_data"
    }
   ],
   "source": [
    "plt.figure(figsize=(15,5))\n",
    "plt.bar(states,death_rate, color='darkseagreen')\n",
    "plt.grid(True)\n",
    "plt.title('COVID-19 Death Rate by State')\n",
    "plt.ylabel('COVID-19 Death Rate(%)')\n",
    "plt.xlabel('State')\n",
    "plt.xticks(rotation = 90)\n",
    "plt.savefig(\"Output/death-rate-by-state.png\")\n",
    "plt.show()"
   ]
  },
  {
   "cell_type": "markdown",
   "metadata": {},
   "source": [
    "Age Data Analysis"
   ]
  },
  {
   "cell_type": "code",
   "execution_count": 216,
   "metadata": {
    "scrolled": true
   },
   "outputs": [
    {
     "data": {
      "text/html": [
       "<div>\n",
       "<style scoped>\n",
       "    .dataframe tbody tr th:only-of-type {\n",
       "        vertical-align: middle;\n",
       "    }\n",
       "\n",
       "    .dataframe tbody tr th {\n",
       "        vertical-align: top;\n",
       "    }\n",
       "\n",
       "    .dataframe thead th {\n",
       "        text-align: right;\n",
       "    }\n",
       "</style>\n",
       "<table border=\"1\" class=\"dataframe\">\n",
       "  <thead>\n",
       "    <tr style=\"text-align: right;\">\n",
       "      <th></th>\n",
       "      <th>Start Date</th>\n",
       "      <th>End Date</th>\n",
       "      <th>Group</th>\n",
       "      <th>State</th>\n",
       "      <th>Age Group</th>\n",
       "      <th>COVID-19 Deaths</th>\n",
       "      <th>Total Deaths</th>\n",
       "      <th>Population by Age Group</th>\n",
       "      <th>COVID-19 Death Rate</th>\n",
       "      <th>Population %</th>\n",
       "      <th>COVID-19 Death Rate by Age</th>\n",
       "    </tr>\n",
       "  </thead>\n",
       "  <tbody>\n",
       "    <tr>\n",
       "      <th>0</th>\n",
       "      <td>1/1/20</td>\n",
       "      <td>4/24/21</td>\n",
       "      <td>By Total</td>\n",
       "      <td>United States</td>\n",
       "      <td>Under 5 years</td>\n",
       "      <td>34.0</td>\n",
       "      <td>4286.0</td>\n",
       "      <td>19531315.0</td>\n",
       "      <td>0.000174</td>\n",
       "      <td>5.963145</td>\n",
       "      <td>0.006099</td>\n",
       "    </tr>\n",
       "    <tr>\n",
       "      <th>1</th>\n",
       "      <td>1/1/20</td>\n",
       "      <td>4/24/21</td>\n",
       "      <td>By Total</td>\n",
       "      <td>United States</td>\n",
       "      <td>5-14 years</td>\n",
       "      <td>98.0</td>\n",
       "      <td>6930.0</td>\n",
       "      <td>40926765.0</td>\n",
       "      <td>0.000239</td>\n",
       "      <td>12.495434</td>\n",
       "      <td>0.017579</td>\n",
       "    </tr>\n",
       "    <tr>\n",
       "      <th>2</th>\n",
       "      <td>1/1/20</td>\n",
       "      <td>4/24/21</td>\n",
       "      <td>By Total</td>\n",
       "      <td>United States</td>\n",
       "      <td>15-24 years</td>\n",
       "      <td>844.0</td>\n",
       "      <td>44906.0</td>\n",
       "      <td>42599542.0</td>\n",
       "      <td>0.001981</td>\n",
       "      <td>13.006152</td>\n",
       "      <td>0.151394</td>\n",
       "    </tr>\n",
       "    <tr>\n",
       "      <th>3</th>\n",
       "      <td>1/1/20</td>\n",
       "      <td>4/24/21</td>\n",
       "      <td>By Total</td>\n",
       "      <td>United States</td>\n",
       "      <td>25-34 years</td>\n",
       "      <td>3741.0</td>\n",
       "      <td>92911.0</td>\n",
       "      <td>45775780.0</td>\n",
       "      <td>0.008172</td>\n",
       "      <td>13.975896</td>\n",
       "      <td>0.671048</td>\n",
       "    </tr>\n",
       "    <tr>\n",
       "      <th>4</th>\n",
       "      <td>1/1/20</td>\n",
       "      <td>4/24/21</td>\n",
       "      <td>By Total</td>\n",
       "      <td>United States</td>\n",
       "      <td>35-44 years</td>\n",
       "      <td>9724.0</td>\n",
       "      <td>133834.0</td>\n",
       "      <td>41550175.0</td>\n",
       "      <td>0.023403</td>\n",
       "      <td>12.685768</td>\n",
       "      <td>1.744259</td>\n",
       "    </tr>\n",
       "  </tbody>\n",
       "</table>\n",
       "</div>"
      ],
      "text/plain": [
       "  Start Date End Date     Group          State      Age Group  \\\n",
       "0     1/1/20  4/24/21  By Total  United States  Under 5 years   \n",
       "1     1/1/20  4/24/21  By Total  United States     5-14 years   \n",
       "2     1/1/20  4/24/21  By Total  United States    15-24 years   \n",
       "3     1/1/20  4/24/21  By Total  United States    25-34 years   \n",
       "4     1/1/20  4/24/21  By Total  United States    35-44 years   \n",
       "\n",
       "   COVID-19 Deaths  Total Deaths  Population by Age Group  \\\n",
       "0             34.0        4286.0               19531315.0   \n",
       "1             98.0        6930.0               40926765.0   \n",
       "2            844.0       44906.0               42599542.0   \n",
       "3           3741.0       92911.0               45775780.0   \n",
       "4           9724.0      133834.0               41550175.0   \n",
       "\n",
       "   COVID-19 Death Rate  Population %  COVID-19 Death Rate by Age  \n",
       "0             0.000174      5.963145                    0.006099  \n",
       "1             0.000239     12.495434                    0.017579  \n",
       "2             0.001981     13.006152                    0.151394  \n",
       "3             0.008172     13.975896                    0.671048  \n",
       "4             0.023403     12.685768                    1.744259  "
      ]
     },
     "execution_count": 216,
     "metadata": {},
     "output_type": "execute_result"
    }
   ],
   "source": [
    "age_data = pd.read_csv(\"../Folder3/final-age-data.csv\")\n",
    "us_byage_df = age_data.loc[age_data.State==\"United States\"][[\"Age Group\",\"Population %\"]]\n",
    "age_data.head()"
   ]
  },
  {
   "cell_type": "code",
   "execution_count": 217,
   "metadata": {},
   "outputs": [],
   "source": [
    "age_data = age_data.loc[age_data['Age Group']!='All Ages']"
   ]
  },
  {
   "cell_type": "code",
   "execution_count": 218,
   "metadata": {},
   "outputs": [
    {
     "data": {
      "image/png": "[encoded data removed]",
      "text/plain": [
       "<Figure size 432x288 with 1 Axes>"
      ]
     },
     "metadata": {
      "needs_background": "light"
     },
     "output_type": "display_data"
    }
   ],
   "source": [
    "x_axis = []\n",
    "x_axis = age_data['Age Group'].tolist()\n",
    "ind = np.arange(len(x_axis))\n",
    "width = 0.4\n",
    "\n",
    "death_axis = age_data['COVID-19 Death Rate by Age'].astype(float)\n",
    "pop_axis = age_data['Population %'].astype(float)\n",
    "fig, ax = plt.subplots()\n",
    "\n",
    "ax.barh(ind-width, pop_axis, width, label ='Percent of US Population', color='darkseagreen', align='center')\n",
    "ax.barh(ind, death_axis, width, color='lightblue', label='Percentage of Deaths', align='center')\n",
    "\n",
    "\n",
    "ax.set_yticks(ind-.2)\n",
    "ax.legend()\n",
    "ax.set_xlabel('%')\n",
    "ax.set_ylabel('Age Group (years)')\n",
    "ax.set_yticklabels(x_axis)\n",
    "ax.invert_yaxis()  # labels read top-to-bottom\n",
    "ax.set_title('COVID-19 Deaths (%) and Population (%) by Age')\n",
    "plt.savefig('Output/COVID-19 Deaths (%) and Population (%) by Age.png')\n",
    "plt.show()"
   ]
  },
  {
   "cell_type": "markdown",
   "metadata": {},
   "source": [
    "Age normalization"
   ]
  },
  {
   "cell_type": "code",
   "execution_count": 219,
   "metadata": {
    "scrolled": true
   },
   "outputs": [
    {
     "data": {
      "text/plain": [
       "{'Under 5 years': 5.963145345737688,\n",
       " '5-14 years': 12.495433524360758,\n",
       " '15-24 years': 13.006152458646906,\n",
       " '25-34 years': 13.97589611628876,\n",
       " '35-44 years': 12.685768094254609,\n",
       " '45-54 years': 12.4569187176404,\n",
       " '55-64 years': 12.938714833115196,\n",
       " '65-74 years': 9.596938238192193,\n",
       " '75-84 years': 4.868197195444035,\n",
       " '85 years and over': 2.012835476319459}"
      ]
     },
     "execution_count": 219,
     "metadata": {},
     "output_type": "execute_result"
    }
   ],
   "source": [
    "age_df = pd.read_csv(\"../Folder3/age-pop-state.csv\")\n",
    "us_byage_df\n",
    "us_byage = {}\n",
    "for index,row in us_byage_df.iterrows():\n",
    "    us_byage[row[0]]=row[1]\n",
    "    \n",
    "us_byage  "
   ]
  },
  {
   "cell_type": "markdown",
   "metadata": {},
   "source": [
    "death rate/age group[newcolumm]\n",
    "import us population\n",
    "us pop or %\n",
    "deathrate/age group * us pop %\n",
    "group by state\n",
    "sum\n"
   ]
  },
  {
   "cell_type": "code",
   "execution_count": 220,
   "metadata": {},
   "outputs": [],
   "source": [
    "age_df[\"Death_Rate_by_Age\"]=\"\"\n",
    "age_df[\"US_Population_by_Age\"]=\"\"\n",
    "age_df[\"Normalized_Death_Rate\"]=\"\"\n",
    "us_byage_df\n",
    "for index, row in age_df.iterrows():\n",
    "    age_df.loc[index,\"Death_Rate_by_Age\"] = float(age_df.loc[index,\"COVID-19 Deaths\"]/age_df.loc[index,\"Population\"])\n",
    "    age_group = row[4]\n",
    "    age_df.loc[index,\"US_Population_by_Age\"] = float(us_byage[age_group])\n",
    "    age_df.loc[index,\"Normalized_Death_Rate\"] = age_df.loc[index,\"US_Population_by_Age\"]*age_df.loc[index,\"Death_Rate_by_Age\"]\n",
    "    state = row[3]\n",
    "    age_df.loc[index,\"State\"] = us_state_abbrev[state]\n"
   ]
  },
  {
   "cell_type": "code",
   "execution_count": 221,
   "metadata": {},
   "outputs": [
    {
     "data": {
      "text/html": [
       "<div>\n",
       "<style scoped>\n",
       "    .dataframe tbody tr th:only-of-type {\n",
       "        vertical-align: middle;\n",
       "    }\n",
       "\n",
       "    .dataframe tbody tr th {\n",
       "        vertical-align: top;\n",
       "    }\n",
       "\n",
       "    .dataframe thead th {\n",
       "        text-align: right;\n",
       "    }\n",
       "</style>\n",
       "<table border=\"1\" class=\"dataframe\">\n",
       "  <thead>\n",
       "    <tr style=\"text-align: right;\">\n",
       "      <th></th>\n",
       "      <th>Start Date</th>\n",
       "      <th>End Date</th>\n",
       "      <th>Group</th>\n",
       "      <th>State</th>\n",
       "      <th>Age Group</th>\n",
       "      <th>COVID-19 Deaths</th>\n",
       "      <th>Population</th>\n",
       "      <th>Death_Rate_by_Age</th>\n",
       "      <th>US_Population_by_Age</th>\n",
       "      <th>Normalized_Death_Rate</th>\n",
       "    </tr>\n",
       "  </thead>\n",
       "  <tbody>\n",
       "    <tr>\n",
       "      <th>0</th>\n",
       "      <td>1/1/20</td>\n",
       "      <td>4/24/21</td>\n",
       "      <td>By Total</td>\n",
       "      <td>USA</td>\n",
       "      <td>Under 5 years</td>\n",
       "      <td>34.0</td>\n",
       "      <td>NaN</td>\n",
       "      <td>NaN</td>\n",
       "      <td>5.96315</td>\n",
       "      <td>NaN</td>\n",
       "    </tr>\n",
       "    <tr>\n",
       "      <th>1</th>\n",
       "      <td>1/1/20</td>\n",
       "      <td>4/24/21</td>\n",
       "      <td>By Total</td>\n",
       "      <td>USA</td>\n",
       "      <td>5-14 years</td>\n",
       "      <td>98.0</td>\n",
       "      <td>NaN</td>\n",
       "      <td>NaN</td>\n",
       "      <td>12.4954</td>\n",
       "      <td>NaN</td>\n",
       "    </tr>\n",
       "    <tr>\n",
       "      <th>2</th>\n",
       "      <td>1/1/20</td>\n",
       "      <td>4/24/21</td>\n",
       "      <td>By Total</td>\n",
       "      <td>USA</td>\n",
       "      <td>15-24 years</td>\n",
       "      <td>844.0</td>\n",
       "      <td>NaN</td>\n",
       "      <td>NaN</td>\n",
       "      <td>13.0062</td>\n",
       "      <td>NaN</td>\n",
       "    </tr>\n",
       "    <tr>\n",
       "      <th>3</th>\n",
       "      <td>1/1/20</td>\n",
       "      <td>4/24/21</td>\n",
       "      <td>By Total</td>\n",
       "      <td>USA</td>\n",
       "      <td>25-34 years</td>\n",
       "      <td>3741.0</td>\n",
       "      <td>NaN</td>\n",
       "      <td>NaN</td>\n",
       "      <td>13.9759</td>\n",
       "      <td>NaN</td>\n",
       "    </tr>\n",
       "    <tr>\n",
       "      <th>4</th>\n",
       "      <td>1/1/20</td>\n",
       "      <td>4/24/21</td>\n",
       "      <td>By Total</td>\n",
       "      <td>USA</td>\n",
       "      <td>35-44 years</td>\n",
       "      <td>9724.0</td>\n",
       "      <td>NaN</td>\n",
       "      <td>NaN</td>\n",
       "      <td>12.6858</td>\n",
       "      <td>NaN</td>\n",
       "    </tr>\n",
       "  </tbody>\n",
       "</table>\n",
       "</div>"
      ],
      "text/plain": [
       "  Start Date End Date     Group State      Age Group  COVID-19 Deaths  \\\n",
       "0     1/1/20  4/24/21  By Total   USA  Under 5 years             34.0   \n",
       "1     1/1/20  4/24/21  By Total   USA     5-14 years             98.0   \n",
       "2     1/1/20  4/24/21  By Total   USA    15-24 years            844.0   \n",
       "3     1/1/20  4/24/21  By Total   USA    25-34 years           3741.0   \n",
       "4     1/1/20  4/24/21  By Total   USA    35-44 years           9724.0   \n",
       "\n",
       "   Population Death_Rate_by_Age US_Population_by_Age Normalized_Death_Rate  \n",
       "0         NaN               NaN              5.96315                   NaN  \n",
       "1         NaN               NaN              12.4954                   NaN  \n",
       "2         NaN               NaN              13.0062                   NaN  \n",
       "3         NaN               NaN              13.9759                   NaN  \n",
       "4         NaN               NaN              12.6858                   NaN  "
      ]
     },
     "execution_count": 221,
     "metadata": {},
     "output_type": "execute_result"
    }
   ],
   "source": [
    "age_df.head()"
   ]
  },
  {
   "cell_type": "code",
   "execution_count": 222,
   "metadata": {},
   "outputs": [],
   "source": [
    "a = age_df.groupby(by=age_df[\"State\"])[\"Population\"].sum()\n",
    "b = age_df.groupby(by=age_df[\"State\"])[\"COVID-19 Deaths\"].sum()\n",
    "c = 100*b/a\n",
    "d = age_df.groupby(by=age_df[\"State\"])[\"Normalized_Death_Rate\"].sum()\n",
    "e = d/c"
   ]
  },
  {
   "cell_type": "code",
   "execution_count": 223,
   "metadata": {},
   "outputs": [
    {
     "data": {
      "text/html": [
       "<div>\n",
       "<style scoped>\n",
       "    .dataframe tbody tr th:only-of-type {\n",
       "        vertical-align: middle;\n",
       "    }\n",
       "\n",
       "    .dataframe tbody tr th {\n",
       "        vertical-align: top;\n",
       "    }\n",
       "\n",
       "    .dataframe thead th {\n",
       "        text-align: right;\n",
       "    }\n",
       "</style>\n",
       "<table border=\"1\" class=\"dataframe\">\n",
       "  <thead>\n",
       "    <tr style=\"text-align: right;\">\n",
       "      <th></th>\n",
       "      <th>Actual_DR</th>\n",
       "      <th>Normalized_DR</th>\n",
       "      <th>Delta</th>\n",
       "    </tr>\n",
       "    <tr>\n",
       "      <th>State</th>\n",
       "      <th></th>\n",
       "      <th></th>\n",
       "      <th></th>\n",
       "    </tr>\n",
       "  </thead>\n",
       "  <tbody>\n",
       "    <tr>\n",
       "      <th>AK</th>\n",
       "      <td>0.043606</td>\n",
       "      <td>0.063322</td>\n",
       "      <td>1.452128</td>\n",
       "    </tr>\n",
       "    <tr>\n",
       "      <th>AL</th>\n",
       "      <td>0.212372</td>\n",
       "      <td>0.207580</td>\n",
       "      <td>0.977434</td>\n",
       "    </tr>\n",
       "    <tr>\n",
       "      <th>AR</th>\n",
       "      <td>0.195009</td>\n",
       "      <td>0.189573</td>\n",
       "      <td>0.972121</td>\n",
       "    </tr>\n",
       "    <tr>\n",
       "      <th>AZ</th>\n",
       "      <td>0.213197</td>\n",
       "      <td>0.204625</td>\n",
       "      <td>0.959793</td>\n",
       "    </tr>\n",
       "    <tr>\n",
       "      <th>CA</th>\n",
       "      <td>0.159406</td>\n",
       "      <td>0.172598</td>\n",
       "      <td>1.082753</td>\n",
       "    </tr>\n",
       "  </tbody>\n",
       "</table>\n",
       "</div>"
      ],
      "text/plain": [
       "       Actual_DR  Normalized_DR     Delta\n",
       "State                                    \n",
       "AK      0.043606       0.063322  1.452128\n",
       "AL      0.212372       0.207580  0.977434\n",
       "AR      0.195009       0.189573  0.972121\n",
       "AZ      0.213197       0.204625  0.959793\n",
       "CA      0.159406       0.172598  1.082753"
      ]
     },
     "execution_count": 223,
     "metadata": {},
     "output_type": "execute_result"
    }
   ],
   "source": [
    "dff.head()"
   ]
  },
  {
   "cell_type": "code",
   "execution_count": 224,
   "metadata": {},
   "outputs": [
    {
     "data": {
      "text/html": [
       "<div>\n",
       "<style scoped>\n",
       "    .dataframe tbody tr th:only-of-type {\n",
       "        vertical-align: middle;\n",
       "    }\n",
       "\n",
       "    .dataframe tbody tr th {\n",
       "        vertical-align: top;\n",
       "    }\n",
       "\n",
       "    .dataframe thead th {\n",
       "        text-align: right;\n",
       "    }\n",
       "</style>\n",
       "<table border=\"1\" class=\"dataframe\">\n",
       "  <thead>\n",
       "    <tr style=\"text-align: right;\">\n",
       "      <th></th>\n",
       "      <th>State</th>\n",
       "      <th>Actual_DR</th>\n",
       "      <th>Normalized_DR</th>\n",
       "      <th>Delta</th>\n",
       "      <th>Cum_Covid_19_Death_Rate</th>\n",
       "    </tr>\n",
       "  </thead>\n",
       "  <tbody>\n",
       "    <tr>\n",
       "      <th>0</th>\n",
       "      <td>AK</td>\n",
       "      <td>0.043606</td>\n",
       "      <td>0.063322</td>\n",
       "      <td>1.452128</td>\n",
       "      <td>0.521335</td>\n",
       "    </tr>\n",
       "    <tr>\n",
       "      <th>1</th>\n",
       "      <td>AL</td>\n",
       "      <td>0.212372</td>\n",
       "      <td>0.207580</td>\n",
       "      <td>0.977434</td>\n",
       "      <td>2.063941</td>\n",
       "    </tr>\n",
       "    <tr>\n",
       "      <th>2</th>\n",
       "      <td>AR</td>\n",
       "      <td>0.195009</td>\n",
       "      <td>0.189573</td>\n",
       "      <td>0.972121</td>\n",
       "      <td>1.707780</td>\n",
       "    </tr>\n",
       "    <tr>\n",
       "      <th>3</th>\n",
       "      <td>AZ</td>\n",
       "      <td>0.213197</td>\n",
       "      <td>0.204625</td>\n",
       "      <td>0.959793</td>\n",
       "      <td>2.008587</td>\n",
       "    </tr>\n",
       "    <tr>\n",
       "      <th>4</th>\n",
       "      <td>CA</td>\n",
       "      <td>0.159406</td>\n",
       "      <td>0.172598</td>\n",
       "      <td>1.082753</td>\n",
       "      <td>1.662034</td>\n",
       "    </tr>\n",
       "  </tbody>\n",
       "</table>\n",
       "</div>"
      ],
      "text/plain": [
       "  State  Actual_DR  Normalized_DR     Delta  Cum_Covid_19_Death_Rate\n",
       "0    AK   0.043606       0.063322  1.452128                 0.521335\n",
       "1    AL   0.212372       0.207580  0.977434                 2.063941\n",
       "2    AR   0.195009       0.189573  0.972121                 1.707780\n",
       "3    AZ   0.213197       0.204625  0.959793                 2.008587\n",
       "4    CA   0.159406       0.172598  1.082753                 1.662034"
      ]
     },
     "execution_count": 224,
     "metadata": {},
     "output_type": "execute_result"
    }
   ],
   "source": [
    "dff = pd.DataFrame({\"Actual_DR\":c,\"Normalized_DR\":d,\"Delta\":e})\n",
    "dff.sort_values(by=\"Delta\",ascending=False)\n",
    "dfff = dff.merge(df1,on=\"State\")\n",
    "dfff.head()\n",
    "    "
   ]
  },
  {
   "cell_type": "code",
   "execution_count": 225,
   "metadata": {},
   "outputs": [
    {
     "data": {
      "text/plain": [
       "'/Users/jenniecinelli/Desktop/HomeworkFolder/project_one/Folder4'"
      ]
     },
     "execution_count": 225,
     "metadata": {},
     "output_type": "execute_result"
    }
   ],
   "source": [
    "%pwd"
   ]
  },
  {
   "cell_type": "code",
   "execution_count": 226,
   "metadata": {},
   "outputs": [],
   "source": [
    "dfff[\"Adj_for_age_Covid_Death_Rate\"]=\"\"\n",
    "for index,row in dfff.iterrows():\n",
    "    dfff.loc[index,\"Adj_for_age_Covid_Death_Rate\"]=dfff.loc[index,\"Delta\"]*dfff.loc[index,\"Cum_Covid_19_Death_Rate\"]\n",
    "dfff.to_csv(\"Output/Adj_for_age_Death_Rate.csv\")"
   ]
  },
  {
   "cell_type": "code",
   "execution_count": 227,
   "metadata": {},
   "outputs": [],
   "source": [
    "dfff = dfff.sort_values(by=\"Cum_Covid_19_Death_Rate\")\n",
    "adj_death_rate = dfff[\"Adj_for_age_Covid_Death_Rate\"]\n",
    "death_rate = dfff[\"Cum_Covid_19_Death_Rate\"]\n",
    "states = dfff[\"State\"]"
   ]
  },
  {
   "cell_type": "code",
   "execution_count": 228,
   "metadata": {
    "scrolled": true
   },
   "outputs": [
    {
     "data": {
      "image/png": "[encoded data removed]",
      "text/plain": [
       "<Figure size 1080x360 with 1 Axes>"
      ]
     },
     "metadata": {
      "needs_background": "light"
     },
     "output_type": "display_data"
    }
   ],
   "source": [
    "plt.figure(figsize=(15,5))\n",
    "plt.bar(states,death_rate, color='darkseagreen',alpha=0.8)\n",
    "plt.bar(states,adj_death_rate, color='blue',alpha=0.7,width=0.3)\n",
    "plt.grid(True)\n",
    "plt.title('COVID-19 Death Rate by State')\n",
    "plt.ylabel('COVID-19 Death Rate(%)')\n",
    "plt.xlabel('State')\n",
    "plt.xticks(rotation = 90)\n",
    "plt.savefig(\"Output/death-rate-by-state-adjusted.png\")\n",
    "plt.show()"
   ]
  },
  {
   "cell_type": "markdown",
   "metadata": {},
   "source": [
    "Box plots for death rate/adjusted death rate"
   ]
  },
  {
   "cell_type": "code",
   "execution_count": 229,
   "metadata": {
    "scrolled": true
   },
   "outputs": [
    {
     "data": {
      "text/html": [
       "<div>\n",
       "<style scoped>\n",
       "    .dataframe tbody tr th:only-of-type {\n",
       "        vertical-align: middle;\n",
       "    }\n",
       "\n",
       "    .dataframe tbody tr th {\n",
       "        vertical-align: top;\n",
       "    }\n",
       "\n",
       "    .dataframe thead th {\n",
       "        text-align: right;\n",
       "    }\n",
       "</style>\n",
       "<table border=\"1\" class=\"dataframe\">\n",
       "  <thead>\n",
       "    <tr style=\"text-align: right;\">\n",
       "      <th></th>\n",
       "      <th>Unnamed: 0</th>\n",
       "      <th>State</th>\n",
       "      <th>Actual_DR</th>\n",
       "      <th>Normalized_DR</th>\n",
       "      <th>Delta</th>\n",
       "      <th>Cum_Covid_19_Death_Rate</th>\n",
       "      <th>Adj_for_age_Covid_Death_Rate</th>\n",
       "    </tr>\n",
       "  </thead>\n",
       "  <tbody>\n",
       "    <tr>\n",
       "      <th>0</th>\n",
       "      <td>0</td>\n",
       "      <td>AK</td>\n",
       "      <td>0.043606</td>\n",
       "      <td>0.063322</td>\n",
       "      <td>1.452128</td>\n",
       "      <td>0.521335</td>\n",
       "      <td>0.757045</td>\n",
       "    </tr>\n",
       "    <tr>\n",
       "      <th>1</th>\n",
       "      <td>1</td>\n",
       "      <td>AL</td>\n",
       "      <td>0.212372</td>\n",
       "      <td>0.207580</td>\n",
       "      <td>0.977434</td>\n",
       "      <td>2.063941</td>\n",
       "      <td>2.017367</td>\n",
       "    </tr>\n",
       "    <tr>\n",
       "      <th>2</th>\n",
       "      <td>2</td>\n",
       "      <td>AR</td>\n",
       "      <td>0.195009</td>\n",
       "      <td>0.189573</td>\n",
       "      <td>0.972121</td>\n",
       "      <td>1.707780</td>\n",
       "      <td>1.660169</td>\n",
       "    </tr>\n",
       "    <tr>\n",
       "      <th>3</th>\n",
       "      <td>3</td>\n",
       "      <td>AZ</td>\n",
       "      <td>0.213197</td>\n",
       "      <td>0.204625</td>\n",
       "      <td>0.959793</td>\n",
       "      <td>2.008587</td>\n",
       "      <td>1.927828</td>\n",
       "    </tr>\n",
       "    <tr>\n",
       "      <th>4</th>\n",
       "      <td>4</td>\n",
       "      <td>CA</td>\n",
       "      <td>0.159406</td>\n",
       "      <td>0.172598</td>\n",
       "      <td>1.082753</td>\n",
       "      <td>1.662034</td>\n",
       "      <td>1.799573</td>\n",
       "    </tr>\n",
       "  </tbody>\n",
       "</table>\n",
       "</div>"
      ],
      "text/plain": [
       "   Unnamed: 0 State  Actual_DR  Normalized_DR     Delta  \\\n",
       "0           0    AK   0.043606       0.063322  1.452128   \n",
       "1           1    AL   0.212372       0.207580  0.977434   \n",
       "2           2    AR   0.195009       0.189573  0.972121   \n",
       "3           3    AZ   0.213197       0.204625  0.959793   \n",
       "4           4    CA   0.159406       0.172598  1.082753   \n",
       "\n",
       "   Cum_Covid_19_Death_Rate  Adj_for_age_Covid_Death_Rate  \n",
       "0                 0.521335                      0.757045  \n",
       "1                 2.063941                      2.017367  \n",
       "2                 1.707780                      1.660169  \n",
       "3                 2.008587                      1.927828  \n",
       "4                 1.662034                      1.799573  "
      ]
     },
     "execution_count": 229,
     "metadata": {},
     "output_type": "execute_result"
    }
   ],
   "source": [
    "dfff = pd.read_csv(\"Output/Adj_for_age_Death_Rate.csv\")\n",
    "dfff.head()"
   ]
  },
  {
   "cell_type": "code",
   "execution_count": 230,
   "metadata": {},
   "outputs": [
    {
     "name": "stdout",
     "output_type": "stream",
     "text": [
      "The lower quartile of the death rate for all states is: 1.36\n",
      "The upper quartile of the death rate for all states is: 1.84\n",
      "The interquartile range of the death rate for all states is: 0.47\n",
      "The median of the death rate for all states is: 1.61 \n",
      "Values below 0.66 could be outliers.\n",
      "Values above 2.54 could be outliers.\n"
     ]
    }
   ],
   "source": [
    "# Locate the rows which contain mice on Infubinol and get the tumor volumes\n",
    "\n",
    "death_rate = dfff[\"Cum_Covid_19_Death_Rate\"]\n",
    "\n",
    "# Calculate the IQR and quantitatively determine if there are any potential outliers. \n",
    "death_quartiles = death_rate.quantile([.25,.5,.75])\n",
    "death_lowerq = death_quartiles[0.25]\n",
    "death_upperq = death_quartiles[0.75]\n",
    "death_iqr = death_upperq-death_lowerq\n",
    "\n",
    "print(f\"The lower quartile of the death rate for all states is: {round(death_lowerq,2)}\")\n",
    "print(f\"The upper quartile of the death rate for all states is: {round(death_upperq,2)}\")\n",
    "print(f\"The interquartile range of the death rate for all states is: {round(death_iqr,2)}\")\n",
    "print(f\"The median of the death rate for all states is: {round(death_quartiles[0.5],2)} \")\n",
    "\n",
    "# Determine outliers using upper and lower bounds\n",
    "death_lower_bound = death_lowerq - (1.5*death_iqr)\n",
    "death_upper_bound = death_upperq + (1.5*death_iqr)\n",
    "print(f\"Values below {round(death_lower_bound,2)} could be outliers.\")\n",
    "print(f\"Values above {round(death_upper_bound,2)} could be outliers.\")"
   ]
  },
  {
   "cell_type": "code",
   "execution_count": 231,
   "metadata": {},
   "outputs": [
    {
     "name": "stdout",
     "output_type": "stream",
     "text": [
      "The lower quartile of the adjusted death rate for all states is: 1.31\n",
      "The upper quartile of the adjusted death rate for all states is: 1.89\n",
      "The interquartile range of the adjusted death rate for all states is: 0.58\n",
      "The median of the adjusted death rate for all states is: 1.56 \n",
      "Values below 0.44 could be outliers.\n",
      "Values above 2.75 could be outliers.\n"
     ]
    }
   ],
   "source": [
    "# Locate the rows which contain mice on Infubinol and get the tumor volumes\n",
    "\n",
    "adj_rate = dfff[\"Adj_for_age_Covid_Death_Rate\"]\n",
    "\n",
    "# Calculate the IQR and quantitatively determine if there are any potential outliers. \n",
    "adj_quartiles = adj_rate.quantile([.25,.5,.75])\n",
    "adj_lowerq = adj_quartiles[0.25]\n",
    "adj_upperq = adj_quartiles[0.75]\n",
    "adj_iqr = adj_upperq-adj_lowerq\n",
    "\n",
    "print(f\"The lower quartile of the adjusted death rate for all states is: {round(adj_lowerq,2)}\")\n",
    "print(f\"The upper quartile of the adjusted death rate for all states is: {round(adj_upperq,2)}\")\n",
    "print(f\"The interquartile range of the adjusted death rate for all states is: {round(adj_iqr,2)}\")\n",
    "print(f\"The median of the adjusted death rate for all states is: {round(adj_quartiles[0.5],2)} \")\n",
    "\n",
    "# Determine outliers using upper and lower bounds\n",
    "adj_lower_bound = adj_lowerq - (1.5*adj_iqr)\n",
    "adj_upper_bound = adj_upperq + (1.5*adj_iqr)\n",
    "print(f\"Values below {round(adj_lower_bound,2)} could be outliers.\")\n",
    "print(f\"Values above {round(adj_upper_bound,2)} could be outliers.\")"
   ]
  },
  {
   "cell_type": "code",
   "execution_count": 232,
   "metadata": {},
   "outputs": [],
   "source": [
    "values = [death_rate, adj_rate]\n",
    "labels = [\"Death Rate\", \"Adjusted Death Rate\"]"
   ]
  },
  {
   "cell_type": "code",
   "execution_count": 233,
   "metadata": {},
   "outputs": [
    {
     "data": {
      "image/png": "[encoded data removed]",
      "text/plain": [
       "<Figure size 720x576 with 1 Axes>"
      ]
     },
     "metadata": {
      "needs_background": "light"
     },
     "output_type": "display_data"
    }
   ],
   "source": [
    "fig, ax1 = plt.subplots(figsize=(10, 8))\n",
    "flierprops = dict(marker='o', \n",
    "                  markersize=14, \n",
    "                  markerfacecolor='lightblue',\n",
    "                  markeredgecolor='cornflowerblue')\n",
    "\n",
    "plt.boxplot = ax1.boxplot(values, labels=labels, patch_artist=True, flierprops=flierprops)\n",
    "\n",
    "plt.annotate('MA',\n",
    "    (1, 2.7),\n",
    "    xytext=(1, 2.7),\n",
    "    fontsize=11)\n",
    "plt.annotate('NJ',\n",
    "    (1, 2.5),\n",
    "    xytext=(1, 2.5),\n",
    "    fontsize=11)\n",
    "plt.annotate('AK',\n",
    "    (1, 0.45),\n",
    "    xytext=(1, 0.45),\n",
    "    fontsize=11)\n",
    "plt.annotate('UT',\n",
    "    (1, 0.59),\n",
    "    xytext=(1, 0.59),\n",
    "    fontsize=11)\n",
    "\n",
    "\n",
    "#for index, row in df1.iterrows():\n",
    "#        print(f\"{row[0]} at coords: ({row[1]})\")\n",
    "#        plt.annotate(row[0],row[1])\n",
    "plt.title('COVID-19 Death Rate by State')\n",
    "plt.ylabel('COVID-19 Death Rate(%)')\n",
    "plt.savefig(\"Output/death-rate-boxplot.png\")\n",
    "plt.show()\n"
   ]
  },
  {
   "cell_type": "markdown",
   "metadata": {},
   "source": [
    "Health Data - Hospital Beds"
   ]
  },
  {
   "cell_type": "code",
   "execution_count": 234,
   "metadata": {
    "scrolled": true
   },
   "outputs": [],
   "source": [
    "hospital_df = pd.read_csv(\"../Folder1/hospitalbeds_percapita_bystate.csv\",skiprows=(0,1))"
   ]
  },
  {
   "cell_type": "code",
   "execution_count": 235,
   "metadata": {},
   "outputs": [],
   "source": [
    "hospital_df.drop([52,53,54,55,56,57,58,59,60,61,62,63,64,65,66],inplace=True)\n",
    "hospital_df = hospital_df.reset_index(drop=True)"
   ]
  },
  {
   "cell_type": "code",
   "execution_count": 236,
   "metadata": {},
   "outputs": [
    {
     "data": {
      "text/html": [
       "<div>\n",
       "<style scoped>\n",
       "    .dataframe tbody tr th:only-of-type {\n",
       "        vertical-align: middle;\n",
       "    }\n",
       "\n",
       "    .dataframe tbody tr th {\n",
       "        vertical-align: top;\n",
       "    }\n",
       "\n",
       "    .dataframe thead th {\n",
       "        text-align: right;\n",
       "    }\n",
       "</style>\n",
       "<table border=\"1\" class=\"dataframe\">\n",
       "  <thead>\n",
       "    <tr style=\"text-align: right;\">\n",
       "      <th></th>\n",
       "      <th>Location</th>\n",
       "      <th>State/Local Government</th>\n",
       "      <th>Non-Profit</th>\n",
       "      <th>For-Profit</th>\n",
       "      <th>Total</th>\n",
       "    </tr>\n",
       "  </thead>\n",
       "  <tbody>\n",
       "    <tr>\n",
       "      <th>0</th>\n",
       "      <td>United States</td>\n",
       "      <td>0.3</td>\n",
       "      <td>1.7</td>\n",
       "      <td>0.4</td>\n",
       "      <td>2.4</td>\n",
       "    </tr>\n",
       "    <tr>\n",
       "      <th>1</th>\n",
       "      <td>Alabama</td>\n",
       "      <td>1.4</td>\n",
       "      <td>0.8</td>\n",
       "      <td>0.9</td>\n",
       "      <td>3.1</td>\n",
       "    </tr>\n",
       "    <tr>\n",
       "      <th>2</th>\n",
       "      <td>Alaska</td>\n",
       "      <td>0.3</td>\n",
       "      <td>1.5</td>\n",
       "      <td>0.4</td>\n",
       "      <td>2.2</td>\n",
       "    </tr>\n",
       "    <tr>\n",
       "      <th>3</th>\n",
       "      <td>Arizona</td>\n",
       "      <td>0.1</td>\n",
       "      <td>1.4</td>\n",
       "      <td>0.5</td>\n",
       "      <td>1.9</td>\n",
       "    </tr>\n",
       "    <tr>\n",
       "      <th>4</th>\n",
       "      <td>Arkansas</td>\n",
       "      <td>0.3</td>\n",
       "      <td>2.1</td>\n",
       "      <td>0.6</td>\n",
       "      <td>3.0</td>\n",
       "    </tr>\n",
       "  </tbody>\n",
       "</table>\n",
       "</div>"
      ],
      "text/plain": [
       "        Location  State/Local Government  Non-Profit  For-Profit  Total\n",
       "0  United States                     0.3         1.7         0.4    2.4\n",
       "1        Alabama                     1.4         0.8         0.9    3.1\n",
       "2         Alaska                     0.3         1.5         0.4    2.2\n",
       "3        Arizona                     0.1         1.4         0.5    1.9\n",
       "4       Arkansas                     0.3         2.1         0.6    3.0"
      ]
     },
     "execution_count": 236,
     "metadata": {},
     "output_type": "execute_result"
    }
   ],
   "source": [
    "hospital_df.head()"
   ]
  },
  {
   "cell_type": "code",
   "execution_count": 237,
   "metadata": {},
   "outputs": [],
   "source": [
    "us_state_abbrev = {\n",
    "    'United States': 'USA',\n",
    "    'Alabama': 'AL',\n",
    "    'Alaska': 'AK',\n",
    "    'Arizona': 'AZ',\n",
    "    'Arkansas': 'AR',\n",
    "    'California': 'CA',\n",
    "    'Colorado': 'CO',\n",
    "    'Connecticut': 'CT',\n",
    "    'Delaware': 'DE',\n",
    "    'District of Columbia': 'DC',\n",
    "    'Florida': 'FL',\n",
    "    'Georgia': 'GA',\n",
    "    'Hawaii': 'HI',\n",
    "    'Idaho': 'ID',\n",
    "    'Illinois': 'IL',\n",
    "    'Indiana': 'IN',\n",
    "    'Iowa': 'IA',\n",
    "    'Kansas': 'KS',\n",
    "    'Kentucky': 'KY',\n",
    "    'Louisiana': 'LA',\n",
    "    'Maine': 'ME',\n",
    "    'Maryland': 'MD',\n",
    "    'Massachusetts': 'MA',\n",
    "    'Michigan': 'MI',\n",
    "    'Minnesota': 'MN',\n",
    "    'Mississippi': 'MS',\n",
    "    'Missouri': 'MO',\n",
    "    'Montana': 'MT',\n",
    "    'Nebraska': 'NE',\n",
    "    'Nevada': 'NV',\n",
    "    'New Hampshire': 'NH',\n",
    "    'New Jersey': 'NJ',\n",
    "    'New Mexico': 'NM',\n",
    "    'New York City':\"NYC\",\n",
    "    'New York': 'NY',\n",
    "    'North Carolina': 'NC',\n",
    "    'North Dakota': 'ND',\n",
    "    'Ohio': 'OH',\n",
    "    'Oklahoma': 'OK',\n",
    "    'Oregon': 'OR',\n",
    "    'Pennsylvania': 'PA',\n",
    "    'Rhode Island': 'RI',\n",
    "    'South Carolina': 'SC',\n",
    "    'South Dakota': 'SD',\n",
    "    'Tennessee': 'TN',\n",
    "    'Texas': 'TX',\n",
    "    'Utah': 'UT',\n",
    "    'Vermont': 'VT',\n",
    "    'Virginia': 'VA',\n",
    "    'Washington': 'WA',\n",
    "    'West Virginia': 'WV',\n",
    "    'Wisconsin': 'WI',\n",
    "    'Wyoming': 'WY',\n",
    "}"
   ]
  },
  {
   "cell_type": "code",
   "execution_count": 238,
   "metadata": {},
   "outputs": [],
   "source": [
    "total_beds = []\n",
    "total_beds = hospital_df['Total'].tolist()"
   ]
  },
  {
   "cell_type": "code",
   "execution_count": 239,
   "metadata": {},
   "outputs": [],
   "source": [
    "states = hospital_df[\"Location\"].unique()"
   ]
  },
  {
   "cell_type": "code",
   "execution_count": 240,
   "metadata": {},
   "outputs": [],
   "source": [
    "Dict = {\"States\":[],\"Total Beds\":[]}\n",
    "for state in states:\n",
    "\n",
    "    Dict[\"States\"].append(us_state_abbrev[state])\n",
    "    Dict[\"Total Beds\"].append(total_beds)"
   ]
  },
  {
   "cell_type": "code",
   "execution_count": 241,
   "metadata": {},
   "outputs": [],
   "source": [
    "hospital_beds = pd.DataFrame(Dict)\n",
    "hospital_beds['Total Beds'] = total_beds"
   ]
  },
  {
   "cell_type": "code",
   "execution_count": 242,
   "metadata": {},
   "outputs": [],
   "source": [
    "df_deathrate = pd.read_csv(\"../Folder2/Final_DeathRate_byState_042021.csv\")\n",
    "df_deathrate.rename(columns={\"Unnamed: 0\":\"States\"},inplace=True)\n",
    "df_deathrate = df_deathrate.loc[df_deathrate['States']!='RMI']\n",
    "df_deathrate = df_deathrate.loc[df_deathrate['States']!='FSM']\n",
    "df_deathrate = df_deathrate.loc[df_deathrate['States']!='AS']\n",
    "df_deathrate = df_deathrate.loc[df_deathrate['States']!='NYC']\n",
    "df_deathrate = df_deathrate.loc[df_deathrate['States']!='PW']\n",
    "df_deathrate = df_deathrate.loc[df_deathrate['States']!='DC']\n",
    "df_deathrate = df_deathrate.loc[df_deathrate['States']!='PR']\n",
    "df_deathrate = df_deathrate.loc[df_deathrate['States']!='GU']\n",
    "df_deathrate = df_deathrate.loc[df_deathrate['States']!='MP']"
   ]
  },
  {
   "cell_type": "code",
   "execution_count": 243,
   "metadata": {},
   "outputs": [],
   "source": [
    "df_deathrate = df_deathrate.dropna()"
   ]
  },
  {
   "cell_type": "code",
   "execution_count": 244,
   "metadata": {
    "scrolled": true
   },
   "outputs": [],
   "source": [
    "df_deathrate = df_deathrate.reset_index(drop=True)"
   ]
  },
  {
   "cell_type": "code",
   "execution_count": 245,
   "metadata": {},
   "outputs": [],
   "source": [
    "df_merge = df_deathrate.merge(hospital_beds, how='inner', on=\"States\")"
   ]
  },
  {
   "cell_type": "code",
   "execution_count": 246,
   "metadata": {},
   "outputs": [],
   "source": [
    "state_names = df_merge[\"States\"]\n",
    "total_beds = df_merge[\"Total Beds\"]\n",
    "Covid_Death_Rate = df_merge[\"Covid_Death_Rate\"]"
   ]
  },
  {
   "cell_type": "code",
   "execution_count": 247,
   "metadata": {
    "scrolled": true
   },
   "outputs": [
    {
     "data": {
      "image/png": "[encoded data removed]",
      "text/plain": [
       "<Figure size 1080x360 with 1 Axes>"
      ]
     },
     "metadata": {
      "needs_background": "light"
     },
     "output_type": "display_data"
    }
   ],
   "source": [
    "plt.figure(figsize=(15,5))\n",
    "plt.bar(state_names, total_beds, label='Total Hospital Beds(%)', color='darkseagreen')\n",
    "plt.bar(state_names, Covid_Death_Rate, label='COVID-19 Death Rate(%)', width=.4, color='lightblue')\n",
    "plt.grid(True, color='lightgrey')\n",
    "plt.title('Total Hospital Beds and Covid Death Rate by State')\n",
    "plt.xlabel('State')\n",
    "plt.xticks(rotation = 90)\n",
    "plt.legend()\n",
    "fig.tight_layout()\n",
    "plt.savefig(\"Output/death-rate-and-beds-by-state.png\")\n",
    "plt.show()"
   ]
  },
  {
   "cell_type": "code",
   "execution_count": 248,
   "metadata": {},
   "outputs": [
    {
     "name": "stdout",
     "output_type": "stream",
     "text": [
      "The r-squared is 0.01\n",
      "The line equation is: y = 0.07x + 1.45\n"
     ]
    },
    {
     "data": {
      "image/png": "[encoded data removed]",
      "text/plain": [
       "<Figure size 432x288 with 1 Axes>"
      ]
     },
     "metadata": {
      "needs_background": "light"
     },
     "output_type": "display_data"
    }
   ],
   "source": [
    "(slope, intercept, rvalue, pvalue, stderr) = linregress(total_beds, Covid_Death_Rate)\n",
    "\n",
    "regress_values = total_beds * slope + intercept\n",
    "\n",
    "line_eq = \"y = \" + str(round(slope,2)) + \"x + \" + str(round(intercept,2))\n",
    "\n",
    "plt.scatter(total_beds,Covid_Death_Rate)\n",
    "\n",
    "plt.plot(total_beds,regress_values,\"lightblue\")\n",
    "\n",
    "r_sqr = round(rvalue**2,2)\n",
    "\n",
    "plt.annotate(line_eq,(3, .8),fontsize=10,color=\"black\")\n",
    "\n",
    "plt.annotate(f\"The r-squared is: {r_sqr}\",(25,0.5),fontsize=10,color=\"black\")\n",
    "\n",
    "plt.xlabel('Total Beds')\n",
    "plt.ylabel('Covid Death Rate %')\n",
    "plt.title(\"Total Hospital Beds and Covid Deaths by State\")\n",
    "\n",
    "print(f\"The r-squared is {r_sqr}\")\n",
    "print(f\"The line equation is: {line_eq}\")\n",
    "\n",
    "for index, row in df_merge.iterrows():\n",
    "    #print(f\"{row[0]} at coords: ({row[2]},{row[1]})\")\n",
    "    plt.annotate(row[0],(row[2],row[1]))\n",
    "\n",
    "plt.savefig(\"Output/total-beds-and-deaths-regression.png\")\n",
    "plt.show()\n"
   ]
  },
  {
   "cell_type": "code",
   "execution_count": null,
   "metadata": {},
   "outputs": [],
   "source": []
  }
 ],
 "metadata": {
  "kernelspec": {
   "display_name": "Python 3",
   "language": "python",
   "name": "python3"
  },
  "language_info": {
   "codemirror_mode": {
    "name": "ipython",
    "version": 3
   },
   "file_extension": ".py",
   "mimetype": "text/x-python",
   "name": "python",
   "nbconvert_exporter": "python",
   "pygments_lexer": "ipython3",
   "version": "3.8.5"
  }
 },
 "nbformat": 4,
 "nbformat_minor": 4
}
